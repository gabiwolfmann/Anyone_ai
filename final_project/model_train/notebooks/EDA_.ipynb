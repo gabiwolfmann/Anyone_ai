{
 "cells": [
  {
   "cell_type": "code",
   "execution_count": 1,
   "id": "a3f90728",
   "metadata": {},
   "outputs": [],
   "source": [
    "import json \n",
    "import os\n",
    "import pandas as pd\n",
    "from IPython.display import Video\n",
    "import IPython.display as ipd\n",
    "from utils import video as util_video\n",
    "import seaborn as sns\n",
    "import matplotlib.pyplot as plt"
   ]
  },
  {
   "cell_type": "code",
   "execution_count": 2,
   "id": "bb6e9c02",
   "metadata": {},
   "outputs": [],
   "source": [
    "data = util_video.get_data('../data/v1_split_trailer.json')"
   ]
  },
  {
   "cell_type": "code",
   "execution_count": 3,
   "id": "1ff26707",
   "metadata": {},
   "outputs": [
    {
     "name": "stdout",
     "output_type": "stream",
     "text": [
      "Shot in train 20856\n",
      "Scales labels in train\n",
      "{'CS': 4529, 'ECS': 3946, 'FS': 4275, 'LS': 3456, 'MS': 4650}\n",
      "Movement labels in train\n",
      "{'Motion': 6092, 'Multi_movement': 96, 'Pull': 201, 'Push': 619, 'Static': 13848}\n",
      "---------------------------------\n",
      "Shot in test 8187\n",
      "Scales labels in test\n",
      "{'CS': 1792, 'ECS': 1641, 'FS': 1642, 'LS': 1359, 'MS': 1753}\n",
      "Movement labels in test\n",
      "{'Motion': 2385, 'Multi_movement': 38, 'Pull': 80, 'Push': 220, 'Static': 5464}\n",
      "---------------------------------\n",
      "Shot in val 4610\n",
      "Scales labels in val\n",
      "{'CS': 1049, 'ECS': 922, 'FS': 886, 'LS': 747, 'MS': 1006}\n",
      "Movement labels in val\n",
      "{'Motion': 1294, 'Multi_movement': 26, 'Pull': 46, 'Push': 154, 'Static': 3090}\n",
      "---------------------------------\n"
     ]
    }
   ],
   "source": [
    "split_types = ['train', 'test', 'val']\n",
    "for split in split_types:\n",
    "    data_train = data[split]\n",
    "    count = 0\n",
    "    labels = {'scale': {}, 'movement': {}}\n",
    "    for id_movie, clips in data_train.items():\n",
    "        for key, labels_clip in clips.items():\n",
    "            filename = id_movie + '_' + key + '.mp4'\n",
    "            # scale labels\n",
    "            label_scale = labels_clip['scale']['label']\n",
    "            if(label_scale in labels['scale']):\n",
    "                labels['scale'][label_scale] += 1\n",
    "            else:\n",
    "                labels['scale'][label_scale] = 1\n",
    "\n",
    "            # movements labels\n",
    "            label_movement = labels_clip['movement']['label']\n",
    "            if(label_movement in labels['movement']):\n",
    "                labels['movement'][label_movement] += 1\n",
    "            else:\n",
    "                labels['movement'][label_movement] = 1            \n",
    "\n",
    "            count += 1\n",
    "    print(f\"Shot in {split}\", count)\n",
    "\n",
    "    print(f\"Scales labels in {split}\")\n",
    "    print(dict(sorted(labels['scale'].items())))\n",
    "\n",
    "    print(f\"Movement labels in {split}\")\n",
    "    print(dict(sorted(labels['movement'].items())))\n",
    "    print(\"---------------------------------\")\n"
   ]
  },
  {
   "cell_type": "code",
   "execution_count": 14,
   "id": "e934dfaa",
   "metadata": {},
   "outputs": [
    {
     "name": "stderr",
     "output_type": "stream",
     "text": [
      "20856it [07:30, 46.27it/s]\n",
      "8187it [03:12, 42.49it/s]\n",
      "4610it [01:49, 42.04it/s]\n"
     ]
    }
   ],
   "source": [
    "train_df = pd.DataFrame(data=util_video.get_videos_with_labels(data, -1, with_frames = True),\n",
    "        columns=['video', 'shot', 'scale', 'scale_value', 'movement', 'movement_value', 'ubication', 'lenght_frames','frames_per_second','duration'],\n",
    "                )\n",
    "test_df = pd.DataFrame(data=util_video.get_videos_with_labels(data, -1,split='test', with_frames = True),\n",
    "        columns=['video', 'shot', 'scale', 'scale_value', 'movement', 'movement_value', 'ubication', 'lenght_frames','frames_per_second','duration'],\n",
    "                )\n",
    "val_df = pd.DataFrame(data=util_video.get_videos_with_labels(data, -1, split='val', with_frames = True),\n",
    "        columns=['video', 'shot', 'scale', 'scale_value', 'movement', 'movement_value', 'ubication', 'lenght_frames','frames_per_second','duration'],\n",
    "                )\n"
   ]
  },
  {
   "cell_type": "code",
   "execution_count": 15,
   "id": "e4c8c88b",
   "metadata": {},
   "outputs": [
    {
     "data": {
      "text/html": [
       "<div>\n",
       "<style scoped>\n",
       "    .dataframe tbody tr th:only-of-type {\n",
       "        vertical-align: middle;\n",
       "    }\n",
       "\n",
       "    .dataframe tbody tr th {\n",
       "        vertical-align: top;\n",
       "    }\n",
       "\n",
       "    .dataframe thead th {\n",
       "        text-align: right;\n",
       "    }\n",
       "</style>\n",
       "<table border=\"1\" class=\"dataframe\">\n",
       "  <thead>\n",
       "    <tr style=\"text-align: right;\">\n",
       "      <th></th>\n",
       "      <th>video</th>\n",
       "      <th>shot</th>\n",
       "      <th>scale</th>\n",
       "      <th>scale_value</th>\n",
       "      <th>movement</th>\n",
       "      <th>movement_value</th>\n",
       "      <th>ubication</th>\n",
       "      <th>lenght_frames</th>\n",
       "      <th>frames_per_second</th>\n",
       "      <th>duration</th>\n",
       "    </tr>\n",
       "  </thead>\n",
       "  <tbody>\n",
       "    <tr>\n",
       "      <th>0</th>\n",
       "      <td>tt4092686</td>\n",
       "      <td>0011</td>\n",
       "      <td>FS</td>\n",
       "      <td>3</td>\n",
       "      <td>Static</td>\n",
       "      <td>4</td>\n",
       "      <td>../data/data_cleaned/train/tt4092686_shot_0011...</td>\n",
       "      <td>172</td>\n",
       "      <td>24.000000</td>\n",
       "      <td>7.166667</td>\n",
       "    </tr>\n",
       "    <tr>\n",
       "      <th>1</th>\n",
       "      <td>tt2660294</td>\n",
       "      <td>0003</td>\n",
       "      <td>FS</td>\n",
       "      <td>3</td>\n",
       "      <td>Motion</td>\n",
       "      <td>0</td>\n",
       "      <td>../data/data_cleaned/train/tt2660294_shot_0003...</td>\n",
       "      <td>62</td>\n",
       "      <td>23.976024</td>\n",
       "      <td>2.585917</td>\n",
       "    </tr>\n",
       "    <tr>\n",
       "      <th>2</th>\n",
       "      <td>tt3034594</td>\n",
       "      <td>0038</td>\n",
       "      <td>ECS</td>\n",
       "      <td>0</td>\n",
       "      <td>Motion</td>\n",
       "      <td>0</td>\n",
       "      <td>../data/data_cleaned/train/tt3034594_shot_0038...</td>\n",
       "      <td>23</td>\n",
       "      <td>24.000000</td>\n",
       "      <td>0.958333</td>\n",
       "    </tr>\n",
       "    <tr>\n",
       "      <th>3</th>\n",
       "      <td>tt5725894</td>\n",
       "      <td>0024</td>\n",
       "      <td>ECS</td>\n",
       "      <td>0</td>\n",
       "      <td>Static</td>\n",
       "      <td>4</td>\n",
       "      <td>../data/data_cleaned/train/tt5725894_shot_0024...</td>\n",
       "      <td>38</td>\n",
       "      <td>29.970030</td>\n",
       "      <td>1.267933</td>\n",
       "    </tr>\n",
       "    <tr>\n",
       "      <th>4</th>\n",
       "      <td>tt2049448</td>\n",
       "      <td>0035</td>\n",
       "      <td>CS</td>\n",
       "      <td>1</td>\n",
       "      <td>Motion</td>\n",
       "      <td>0</td>\n",
       "      <td>../data/data_cleaned/train/tt2049448_shot_0035...</td>\n",
       "      <td>154</td>\n",
       "      <td>30.000000</td>\n",
       "      <td>5.133333</td>\n",
       "    </tr>\n",
       "    <tr>\n",
       "      <th>...</th>\n",
       "      <td>...</td>\n",
       "      <td>...</td>\n",
       "      <td>...</td>\n",
       "      <td>...</td>\n",
       "      <td>...</td>\n",
       "      <td>...</td>\n",
       "      <td>...</td>\n",
       "      <td>...</td>\n",
       "      <td>...</td>\n",
       "      <td>...</td>\n",
       "    </tr>\n",
       "    <tr>\n",
       "      <th>20851</th>\n",
       "      <td>tt3569782</td>\n",
       "      <td>0034</td>\n",
       "      <td>FS</td>\n",
       "      <td>3</td>\n",
       "      <td>Motion</td>\n",
       "      <td>0</td>\n",
       "      <td>../data/data_cleaned/train/tt3569782_shot_0034...</td>\n",
       "      <td>27</td>\n",
       "      <td>24.000000</td>\n",
       "      <td>1.125000</td>\n",
       "    </tr>\n",
       "    <tr>\n",
       "      <th>20852</th>\n",
       "      <td>tt2505294</td>\n",
       "      <td>0054</td>\n",
       "      <td>CS</td>\n",
       "      <td>1</td>\n",
       "      <td>Static</td>\n",
       "      <td>4</td>\n",
       "      <td>../data/data_cleaned/train/tt2505294_shot_0054...</td>\n",
       "      <td>31</td>\n",
       "      <td>23.976024</td>\n",
       "      <td>1.292958</td>\n",
       "    </tr>\n",
       "    <tr>\n",
       "      <th>20853</th>\n",
       "      <td>tt2512204</td>\n",
       "      <td>0023</td>\n",
       "      <td>FS</td>\n",
       "      <td>3</td>\n",
       "      <td>Static</td>\n",
       "      <td>4</td>\n",
       "      <td>../data/data_cleaned/train/tt2512204_shot_0023...</td>\n",
       "      <td>58</td>\n",
       "      <td>24.000000</td>\n",
       "      <td>2.416667</td>\n",
       "    </tr>\n",
       "    <tr>\n",
       "      <th>20854</th>\n",
       "      <td>tt3151394</td>\n",
       "      <td>0050</td>\n",
       "      <td>LS</td>\n",
       "      <td>4</td>\n",
       "      <td>Motion</td>\n",
       "      <td>0</td>\n",
       "      <td>../data/data_cleaned/train/tt3151394_shot_0050...</td>\n",
       "      <td>20</td>\n",
       "      <td>29.970030</td>\n",
       "      <td>0.667333</td>\n",
       "    </tr>\n",
       "    <tr>\n",
       "      <th>20855</th>\n",
       "      <td>tt3572448</td>\n",
       "      <td>0014</td>\n",
       "      <td>ECS</td>\n",
       "      <td>0</td>\n",
       "      <td>Static</td>\n",
       "      <td>4</td>\n",
       "      <td>../data/data_cleaned/train/tt3572448_shot_0014...</td>\n",
       "      <td>25</td>\n",
       "      <td>25.000000</td>\n",
       "      <td>1.000000</td>\n",
       "    </tr>\n",
       "  </tbody>\n",
       "</table>\n",
       "<p>20856 rows × 10 columns</p>\n",
       "</div>"
      ],
      "text/plain": [
       "           video  shot scale  scale_value movement  movement_value  \\\n",
       "0      tt4092686  0011    FS            3   Static               4   \n",
       "1      tt2660294  0003    FS            3   Motion               0   \n",
       "2      tt3034594  0038   ECS            0   Motion               0   \n",
       "3      tt5725894  0024   ECS            0   Static               4   \n",
       "4      tt2049448  0035    CS            1   Motion               0   \n",
       "...          ...   ...   ...          ...      ...             ...   \n",
       "20851  tt3569782  0034    FS            3   Motion               0   \n",
       "20852  tt2505294  0054    CS            1   Static               4   \n",
       "20853  tt2512204  0023    FS            3   Static               4   \n",
       "20854  tt3151394  0050    LS            4   Motion               0   \n",
       "20855  tt3572448  0014   ECS            0   Static               4   \n",
       "\n",
       "                                               ubication  lenght_frames  \\\n",
       "0      ../data/data_cleaned/train/tt4092686_shot_0011...            172   \n",
       "1      ../data/data_cleaned/train/tt2660294_shot_0003...             62   \n",
       "2      ../data/data_cleaned/train/tt3034594_shot_0038...             23   \n",
       "3      ../data/data_cleaned/train/tt5725894_shot_0024...             38   \n",
       "4      ../data/data_cleaned/train/tt2049448_shot_0035...            154   \n",
       "...                                                  ...            ...   \n",
       "20851  ../data/data_cleaned/train/tt3569782_shot_0034...             27   \n",
       "20852  ../data/data_cleaned/train/tt2505294_shot_0054...             31   \n",
       "20853  ../data/data_cleaned/train/tt2512204_shot_0023...             58   \n",
       "20854  ../data/data_cleaned/train/tt3151394_shot_0050...             20   \n",
       "20855  ../data/data_cleaned/train/tt3572448_shot_0014...             25   \n",
       "\n",
       "       frames_per_second  duration  \n",
       "0              24.000000  7.166667  \n",
       "1              23.976024  2.585917  \n",
       "2              24.000000  0.958333  \n",
       "3              29.970030  1.267933  \n",
       "4              30.000000  5.133333  \n",
       "...                  ...       ...  \n",
       "20851          24.000000  1.125000  \n",
       "20852          23.976024  1.292958  \n",
       "20853          24.000000  2.416667  \n",
       "20854          29.970030  0.667333  \n",
       "20855          25.000000  1.000000  \n",
       "\n",
       "[20856 rows x 10 columns]"
      ]
     },
     "execution_count": 15,
     "metadata": {},
     "output_type": "execute_result"
    }
   ],
   "source": [
    "train_df"
   ]
  },
  {
   "cell_type": "code",
   "execution_count": 43,
   "id": "bf57f373",
   "metadata": {},
   "outputs": [
    {
     "name": "stdout",
     "output_type": "stream",
     "text": [
      "Percentage of each target in movement\n",
      "Static            66.398159\n",
      "Motion            29.209820\n",
      "Push               2.967971\n",
      "Pull               0.963751\n",
      "Multi_movement     0.460299\n",
      "Name: movement, dtype: float64\n",
      "------------------------------\n",
      "Percentage of each target in scale\n",
      "MS     22.295742\n",
      "CS     21.715573\n",
      "FS     20.497699\n",
      "ECS    18.920215\n",
      "LS     16.570771\n",
      "Name: scale, dtype: float64\n"
     ]
    }
   ],
   "source": [
    "print('Percentage of each target in movement')\n",
    "print(train_df.movement.value_counts()/train_df.shape[0]*100)\n",
    "print('-'*30)\n",
    "print('Percentage of each target in scale')\n",
    "print(train_df.scale.value_counts()/train_df.shape[0]*100)\n"
   ]
  },
  {
   "cell_type": "code",
   "execution_count": 47,
   "id": "051c9573",
   "metadata": {},
   "outputs": [
    {
     "data": {
      "image/png": "[encoded data removed]",
      "text/plain": [
       "<Figure size 720x360 with 1 Axes>"
      ]
     },
     "metadata": {
      "needs_background": "light"
     },
     "output_type": "display_data"
    }
   ],
   "source": [
    "TARGET_percent=train_df['movement'].value_counts(normalize=True)*100\n",
    "plt.rcParams['figure.figsize'] = [10, 5]\n",
    "g=sns.barplot(x=TARGET_percent.index, y=TARGET_percent.values)\n",
    "plt.title('Relationship of target movement distribution percentage')\n",
    "for p in g.patches:\n",
    "    txt = str(p.get_height().round(1)) + '%'\n",
    "    txt_x = p.get_x()\n",
    "    txt_y = p.get_height()\n",
    "    g.text(txt_x,txt_y,txt)\n",
    "\n",
    "plt.ylim(0,100)\n",
    "plt.xlabel('Movement',size=15)\n",
    "plt.ylabel('Percentage',size=15)\n",
    "plt.show()"
   ]
  },
  {
   "cell_type": "code",
   "execution_count": 48,
   "id": "f2c886e1",
   "metadata": {},
   "outputs": [
    {
     "data": {
      "image/png": "[encoded data removed]",
      "text/plain": [
       "<Figure size 720x360 with 1 Axes>"
      ]
     },
     "metadata": {
      "needs_background": "light"
     },
     "output_type": "display_data"
    }
   ],
   "source": [
    "TARGET_percent=train_df['scale'].value_counts(normalize=True)*100\n",
    "plt.rcParams['figure.figsize'] = [10, 5]\n",
    "g=sns.barplot(x=TARGET_percent.index, y=TARGET_percent.values)\n",
    "plt.title('Relationship of target scale distribution percentage')\n",
    "for p in g.patches:\n",
    "    txt = str(p.get_height().round(1)) + '%'\n",
    "    txt_x = p.get_x()\n",
    "    txt_y = p.get_height()\n",
    "    g.text(txt_x,txt_y,txt)\n",
    "\n",
    "plt.ylim(0,100)\n",
    "plt.xlabel('Scale',size=15)\n",
    "plt.ylabel('Percentage',size=15)\n",
    "plt.show()"
   ]
  },
  {
   "cell_type": "code",
   "execution_count": 21,
   "id": "dd19add9",
   "metadata": {},
   "outputs": [
    {
     "name": "stdout",
     "output_type": "stream",
     "text": [
      "Minimum lenght_frames in a Video on a train set: 4\n",
      "Maximum lenght_frames in a Video on a train set: 962\n",
      "Average lenght_frames in a Video on a train set: 38\n",
      "Standard deviation lenght_frames in a Video on a train set: 32\n",
      "Video with less than 8 frames on a train set: 4\n",
      "------------------------------\n",
      "Minimum frames_per_second in a Video on a train set: 14.985014985014985\n",
      "Maximum frames_per_second in a Video on a train set: 60.0\n",
      "Average frames_per_second in a Video on a train set: 24\n",
      "Standard deviation frames_per_second in a Video on a train set: 2\n",
      "------------------------------\n",
      "Minimum duration in a Video on a train set: 0.13346666666666668\n",
      "Maximum duration in a Video on a train set: 38.48\n",
      "Average duration in a Video on a train set: 1\n",
      "Standard deviation duration in a Video on a train set: 1\n",
      "------------------------------\n",
      "##############################\n",
      "Minimum lenght_frames in a Video on a test set: 4\n",
      "Maximum lenght_frames in a Video on a test set: 866\n",
      "Average lenght_frames in a Video on a test set: 39\n",
      "Standard deviation lenght_frames in a Video on a test set: 34\n",
      "Video with less than 8 frames on a test set: 1\n",
      "------------------------------\n",
      "Minimum frames_per_second in a Video on a test set: 14.985014985014985\n",
      "Maximum frames_per_second in a Video on a test set: 60.0\n",
      "Average frames_per_second in a Video on a test set: 24\n",
      "Standard deviation frames_per_second in a Video on a test set: 2\n",
      "------------------------------\n",
      "Minimum duration in a Video on a test set: 0.16\n",
      "Maximum duration in a Video on a test set: 36.083333333333336\n",
      "Average duration in a Video on a test set: 1\n",
      "Standard deviation duration in a Video on a test set: 1\n",
      "------------------------------\n",
      "##############################\n",
      "Minimum lenght_frames in a Video on a validation set: 3\n",
      "Maximum lenght_frames in a Video on a validation set: 634\n",
      "Average lenght_frames in a Video on a validation set: 38\n",
      "Standard deviation lenght_frames in a Video on a validation set: 34\n",
      "Video with less than 8 frames on a validation set: 3\n",
      "------------------------------\n",
      "Minimum frames_per_second in a Video on a validation set: 23.916666666666668\n",
      "Maximum frames_per_second in a Video on a validation set: 60.0\n",
      "Average frames_per_second in a Video on a validation set: 24\n",
      "Standard deviation frames_per_second in a Video on a validation set: 2\n",
      "------------------------------\n",
      "Minimum duration in a Video on a validation set: 0.12\n",
      "Maximum duration in a Video on a validation set: 25.36\n",
      "Average duration in a Video on a validation set: 1\n",
      "Standard deviation duration in a Video on a validation set: 1\n",
      "------------------------------\n",
      "##############################\n"
     ]
    }
   ],
   "source": [
    "variables= ['lenght_frames','frames_per_second','duration']\n",
    "categories={\n",
    "    'train':train_df,\n",
    "    'test':test_df,\n",
    "    'validation':val_df\n",
    "}\n",
    "for category,df in categories.items():\n",
    "    for variable in variables:\n",
    "        print(f'Minimum {variable} in a Video on a {category} set: {df[variable].min()}')\n",
    "        print(f'Maximum {variable} in a Video on a {category} set: {df[variable].max()}' )\n",
    "        print(f'Average {variable} in a Video on a {category} set: {int(df[variable].mean())}' )\n",
    "        print(f'Standard deviation {variable} in a Video on a {category} set: {int(df[variable].std())}')\n",
    "        if variable == 'lenght_frames':\n",
    "            print(f'Video with less than 8 frames on a {category} set: {df[df[variable] < 8][variable].size}')\n",
    "\n",
    "        print('-'*30)\n",
    "    print('#'*30)\n"
   ]
  },
  {
   "cell_type": "code",
   "execution_count": 28,
   "id": "19b119ba",
   "metadata": {
    "scrolled": false
   },
   "outputs": [
    {
     "data": {
      "image/png": "[encoded data removed]",
      "text/plain": [
       "<Figure size 576x720 with 1 Axes>"
      ]
     },
     "metadata": {
      "needs_background": "light"
     },
     "output_type": "display_data"
    },
    {
     "data": {
      "image/png": "[encoded data removed]",
      "text/plain": [
       "<Figure size 576x720 with 1 Axes>"
      ]
     },
     "metadata": {
      "needs_background": "light"
     },
     "output_type": "display_data"
    },
    {
     "data": {
      "image/png": "[encoded data removed]",
      "text/plain": [
       "<Figure size 576x720 with 1 Axes>"
      ]
     },
     "metadata": {
      "needs_background": "light"
     },
     "output_type": "display_data"
    }
   ],
   "source": [
    "plt.rcParams['figure.figsize'] = [8, 10]\n",
    "for variable in variables:\n",
    "    if variable == 'frames_per_second':\n",
    "        bins=10\n",
    "    else:\n",
    "        bins='auto'\n",
    "    sns.histplot(data=train_df, x=variable,bins=bins)\n",
    "    plt.axvline(train_df[variable].mean(),color='red', label=\"MEAN\")\n",
    "    plt.axvline(train_df[variable].median(),color='green', label=\"MEDIAN\")\n",
    "    plt.legend()\n",
    "    plt.title(f\"{variable} distribution in Train set\")\n",
    "    plt.show()\n"
   ]
  },
  {
   "cell_type": "code",
   "execution_count": 10,
   "id": "d88cff26",
   "metadata": {},
   "outputs": [
    {
     "name": "stdout",
     "output_type": "stream",
     "text": [
      "Example ECS\n",
      "../data/data_cleaned/train/tt3034594_shot_0038.mp4\n"
     ]
    },
    {
     "data": {
      "text/html": [
       "<video src=\"../data/data_cleaned/train/tt3034594_shot_0038.mp4\" controls  width=\"500\" >\n",
       "      Your browser does not support the <code>video</code> element.\n",
       "    </video>"
      ],
      "text/plain": [
       "<IPython.core.display.Video object>"
      ]
     },
     "metadata": {},
     "output_type": "display_data"
    },
    {
     "name": "stdout",
     "output_type": "stream",
     "text": [
      "Example FS\n",
      "../data/data_cleaned/train/tt4092686_shot_0011.mp4\n"
     ]
    },
    {
     "data": {
      "text/html": [
       "<video src=\"../data/data_cleaned/train/tt4092686_shot_0011.mp4\" controls  width=\"500\" >\n",
       "      Your browser does not support the <code>video</code> element.\n",
       "    </video>"
      ],
      "text/plain": [
       "<IPython.core.display.Video object>"
      ]
     },
     "metadata": {},
     "output_type": "display_data"
    },
    {
     "name": "stdout",
     "output_type": "stream",
     "text": [
      "Example CS\n",
      "../data/data_cleaned/train/tt2049448_shot_0035.mp4\n"
     ]
    },
    {
     "data": {
      "text/html": [
       "<video src=\"../data/data_cleaned/train/tt2049448_shot_0035.mp4\" controls  width=\"500\" >\n",
       "      Your browser does not support the <code>video</code> element.\n",
       "    </video>"
      ],
      "text/plain": [
       "<IPython.core.display.Video object>"
      ]
     },
     "metadata": {},
     "output_type": "display_data"
    },
    {
     "name": "stdout",
     "output_type": "stream",
     "text": [
      "Example MS\n",
      "../data/data_cleaned/train/tt4466928_shot_0011.mp4\n"
     ]
    },
    {
     "data": {
      "text/html": [
       "<video src=\"../data/data_cleaned/train/tt4466928_shot_0011.mp4\" controls  width=\"500\" >\n",
       "      Your browser does not support the <code>video</code> element.\n",
       "    </video>"
      ],
      "text/plain": [
       "<IPython.core.display.Video object>"
      ]
     },
     "metadata": {},
     "output_type": "display_data"
    },
    {
     "name": "stdout",
     "output_type": "stream",
     "text": [
      "Example LS\n",
      "../data/data_cleaned/train/tt2089723_shot_0030.mp4\n"
     ]
    },
    {
     "data": {
      "text/html": [
       "<video src=\"../data/data_cleaned/train/tt2089723_shot_0030.mp4\" controls  width=\"500\" >\n",
       "      Your browser does not support the <code>video</code> element.\n",
       "    </video>"
      ],
      "text/plain": [
       "<IPython.core.display.Video object>"
      ]
     },
     "metadata": {},
     "output_type": "display_data"
    }
   ],
   "source": [
    "for label, _ in labels['scale'].items():\n",
    "    print('Example', label)\n",
    "    path = df[(df['scale'] == label) & (df['frames'] > 20)]['ubication'].iloc[0]\n",
    "    print(path)\n",
    "    ipd.display(Video(url=path, width=500))"
   ]
  },
  {
   "cell_type": "code",
   "execution_count": 12,
   "id": "ff8bd17a",
   "metadata": {},
   "outputs": [
    {
     "name": "stdout",
     "output_type": "stream",
     "text": [
      "Example Static\n"
     ]
    },
    {
     "data": {
      "text/html": [
       "<video src=\"../data/data_cleaned/train/tt4092686_shot_0011.mp4\" controls  width=\"500\" >\n",
       "      Your browser does not support the <code>video</code> element.\n",
       "    </video>"
      ],
      "text/plain": [
       "<IPython.core.display.Video object>"
      ]
     },
     "metadata": {},
     "output_type": "display_data"
    },
    {
     "name": "stdout",
     "output_type": "stream",
     "text": [
      "Example Motion\n"
     ]
    },
    {
     "data": {
      "text/html": [
       "<video src=\"../data/data_cleaned/train/tt2660294_shot_0003.mp4\" controls  width=\"500\" >\n",
       "      Your browser does not support the <code>video</code> element.\n",
       "    </video>"
      ],
      "text/plain": [
       "<IPython.core.display.Video object>"
      ]
     },
     "metadata": {},
     "output_type": "display_data"
    },
    {
     "name": "stdout",
     "output_type": "stream",
     "text": [
      "Example Push\n"
     ]
    },
    {
     "data": {
      "text/html": [
       "<video src=\"../data/data_cleaned/train/tt5725894_shot_0016.mp4\" controls  width=\"500\" >\n",
       "      Your browser does not support the <code>video</code> element.\n",
       "    </video>"
      ],
      "text/plain": [
       "<IPython.core.display.Video object>"
      ]
     },
     "metadata": {},
     "output_type": "display_data"
    },
    {
     "name": "stdout",
     "output_type": "stream",
     "text": [
      "Example Pull\n"
     ]
    },
    {
     "data": {
      "text/html": [
       "<video src=\"../data/data_cleaned/train/tt5135810_shot_0064.mp4\" controls  width=\"500\" >\n",
       "      Your browser does not support the <code>video</code> element.\n",
       "    </video>"
      ],
      "text/plain": [
       "<IPython.core.display.Video object>"
      ]
     },
     "metadata": {},
     "output_type": "display_data"
    },
    {
     "name": "stdout",
     "output_type": "stream",
     "text": [
      "Example Multi_movement\n"
     ]
    },
    {
     "data": {
      "text/html": [
       "<video src=\"../data/data_cleaned/train/tt4535650_shot_0069.mp4\" controls  width=\"500\" >\n",
       "      Your browser does not support the <code>video</code> element.\n",
       "    </video>"
      ],
      "text/plain": [
       "<IPython.core.display.Video object>"
      ]
     },
     "metadata": {},
     "output_type": "display_data"
    }
   ],
   "source": [
    "for label, _ in labels['movement'].items():\n",
    "    print('Example', label)\n",
    "    path = df[(df['movement'] == label) & (df['frames'] > 20)]['ubication'].iloc[0]\n",
    "    ipd.display(Video(url=path, width=500))"
   ]
  },
  {
   "cell_type": "code",
   "execution_count": null,
   "id": "5b1fbf6c",
   "metadata": {},
   "outputs": [],
   "source": []
  }
 ],
 "metadata": {
  "kernelspec": {
   "display_name": "Python 3 (ipykernel)",
   "language": "python",
   "name": "python3"
  },
  "language_info": {
   "codemirror_mode": {
    "name": "ipython",
    "version": 3
   },
   "file_extension": ".py",
   "mimetype": "text/x-python",
   "name": "python",
   "nbconvert_exporter": "python",
   "pygments_lexer": "ipython3",
   "version": "3.8.10"
  }
 },
 "nbformat": 4,
 "nbformat_minor": 5
}
