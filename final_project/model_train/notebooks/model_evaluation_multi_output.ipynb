{
 "cells": [
  {
   "cell_type": "code",
   "execution_count": 1,
   "id": "30af4569",
   "metadata": {},
   "outputs": [],
   "source": [
    "import pandas as pd\n",
    "from utils import utils\n",
    "from models import models\n",
    "from tensorflow import keras"
   ]
  },
  {
   "cell_type": "code",
   "execution_count": 2,
   "id": "62bbb8a2",
   "metadata": {},
   "outputs": [],
   "source": [
    "CONFIG_YML = \"../experiments/exp_010/config_010.yml\"\n",
    "WEIGHTS = \"../experiments/exp_010/model.06-1.5956.h5\""
   ]
  },
  {
   "cell_type": "code",
   "execution_count": 3,
   "id": "82c43452",
   "metadata": {},
   "outputs": [
    {
     "data": {
      "text/plain": [
       "{'seed': 123,\n",
       " 'data': {'train_df': '/home/app/src/data/train_df_zoom.csv',\n",
       "  'val_df': '/home/app/src/data/val_df.csv',\n",
       "  'test_df': '/home/app/src/data/test_df.csv'},\n",
       " 'model': {'weights': 'imagenet',\n",
       "  'classes_movement': 4,\n",
       "  'classes_scale': 5,\n",
       "  'dropout_rate': 0.5,\n",
       "  'image_size': 224,\n",
       "  'channels': 3,\n",
       "  'batch_size': 8,\n",
       "  'frames': 8,\n",
       "  'trainable_layers': None},\n",
       " 'compile': {'optimizer': {'adam': {'learning_rate': 0.0005}},\n",
       "  'loss': 'sparse_categorical_crossentropy',\n",
       "  'metrics': ['accuracy']},\n",
       " 'fit': {'epochs': 20,\n",
       "  'callbacks': {'model_checkpoint': {'filepath': '../experiments/exp_010/model.{epoch:02d}-{val_loss:.4f}.h5',\n",
       "    'save_best_only': True,\n",
       "    'verbose': 1},\n",
       "   'tensor_board': {'log_dir': '../experiments/exp_010/logs'},\n",
       "   'reduce_on_plateau': {'verbose': 1, 'patience': 2}}}}"
      ]
     },
     "execution_count": 3,
     "metadata": {},
     "output_type": "execute_result"
    }
   ],
   "source": [
    "config = utils.load_config(CONFIG_YML)\n",
    "config"
   ]
  },
  {
   "cell_type": "code",
   "execution_count": 4,
   "id": "6c00fe13",
   "metadata": {},
   "outputs": [],
   "source": [
    "MODEL_CLASSES_MOVEMENT,MODEL_CLASSES_SCALE = utils.get_class_names(config)\n",
    "\n",
    "if len(MODEL_CLASSES_MOVEMENT) != config['model']['classes_movement']:\n",
    "    raise ValueError(\n",
    "        \"Number of classes doesn't match between your model \"\n",
    "        \"and your data!\"\n",
    "    )\n",
    "    \n",
    "if len(MODEL_CLASSES_SCALE) != config['model']['classes_scale']:\n",
    "    raise ValueError(\n",
    "        \"Number of classes doesn't match between your model \"\n",
    "        \"and your data!\"\n",
    "    )\n"
   ]
  },
  {
   "cell_type": "code",
   "execution_count": 5,
   "id": "d1314b90",
   "metadata": {},
   "outputs": [
    {
     "data": {
      "text/plain": [
       "['CS', 'ECS', 'FS', 'LS', 'MS']"
      ]
     },
     "execution_count": 5,
     "metadata": {},
     "output_type": "execute_result"
    }
   ],
   "source": [
    "MODEL_CLASSES_SCALE"
   ]
  },
  {
   "cell_type": "code",
   "execution_count": 6,
   "id": "e145b92e",
   "metadata": {},
   "outputs": [],
   "source": [
    "test_df=pd.read_csv(config[\"data\"][\"test_df\"],index_col='Unnamed: 0')\n",
    "\n",
    "test_generator = models.DataGenerator(test_df, config['model']['batch_size'], output = 'both')"
   ]
  },
  {
   "cell_type": "code",
   "execution_count": 7,
   "id": "73d9923a",
   "metadata": {},
   "outputs": [
    {
     "data": {
      "text/html": [
       "<div>\n",
       "<style scoped>\n",
       "    .dataframe tbody tr th:only-of-type {\n",
       "        vertical-align: middle;\n",
       "    }\n",
       "\n",
       "    .dataframe tbody tr th {\n",
       "        vertical-align: top;\n",
       "    }\n",
       "\n",
       "    .dataframe thead th {\n",
       "        text-align: right;\n",
       "    }\n",
       "</style>\n",
       "<table border=\"1\" class=\"dataframe\">\n",
       "  <thead>\n",
       "    <tr style=\"text-align: right;\">\n",
       "      <th></th>\n",
       "      <th>scale</th>\n",
       "      <th>movement</th>\n",
       "      <th>ubication</th>\n",
       "      <th>lenght_frames</th>\n",
       "      <th>frames_per_second</th>\n",
       "      <th>duration</th>\n",
       "      <th>inversed</th>\n",
       "    </tr>\n",
       "  </thead>\n",
       "  <tbody>\n",
       "    <tr>\n",
       "      <th>0</th>\n",
       "      <td>LS</td>\n",
       "      <td>Static</td>\n",
       "      <td>../data/data_cleaned/test/tt2006051_shot_0009.mp4</td>\n",
       "      <td>108</td>\n",
       "      <td>24.000000</td>\n",
       "      <td>4.500000</td>\n",
       "      <td>no</td>\n",
       "    </tr>\n",
       "    <tr>\n",
       "      <th>1</th>\n",
       "      <td>MS</td>\n",
       "      <td>Static</td>\n",
       "      <td>../data/data_cleaned/test/tt2006051_shot_0010.mp4</td>\n",
       "      <td>70</td>\n",
       "      <td>24.000000</td>\n",
       "      <td>2.916667</td>\n",
       "      <td>no</td>\n",
       "    </tr>\n",
       "    <tr>\n",
       "      <th>2</th>\n",
       "      <td>MS</td>\n",
       "      <td>Static</td>\n",
       "      <td>../data/data_cleaned/test/tt2006051_shot_0020.mp4</td>\n",
       "      <td>31</td>\n",
       "      <td>24.000000</td>\n",
       "      <td>1.291667</td>\n",
       "      <td>no</td>\n",
       "    </tr>\n",
       "    <tr>\n",
       "      <th>3</th>\n",
       "      <td>LS</td>\n",
       "      <td>Static</td>\n",
       "      <td>../data/data_cleaned/test/tt2006051_shot_0022.mp4</td>\n",
       "      <td>365</td>\n",
       "      <td>24.000000</td>\n",
       "      <td>15.208333</td>\n",
       "      <td>no</td>\n",
       "    </tr>\n",
       "    <tr>\n",
       "      <th>4</th>\n",
       "      <td>FS</td>\n",
       "      <td>Motion</td>\n",
       "      <td>../data/data_cleaned/test/tt2006051_shot_0026.mp4</td>\n",
       "      <td>77</td>\n",
       "      <td>24.000000</td>\n",
       "      <td>3.208333</td>\n",
       "      <td>no</td>\n",
       "    </tr>\n",
       "    <tr>\n",
       "      <th>...</th>\n",
       "      <td>...</td>\n",
       "      <td>...</td>\n",
       "      <td>...</td>\n",
       "      <td>...</td>\n",
       "      <td>...</td>\n",
       "      <td>...</td>\n",
       "      <td>...</td>\n",
       "    </tr>\n",
       "    <tr>\n",
       "      <th>8182</th>\n",
       "      <td>FS</td>\n",
       "      <td>Static</td>\n",
       "      <td>../data/data_cleaned/test/tt6644200_shot_0011.mp4</td>\n",
       "      <td>26</td>\n",
       "      <td>23.976024</td>\n",
       "      <td>1.084417</td>\n",
       "      <td>no</td>\n",
       "    </tr>\n",
       "    <tr>\n",
       "      <th>8183</th>\n",
       "      <td>MS</td>\n",
       "      <td>Motion</td>\n",
       "      <td>../data/data_cleaned/test/tt6644200_shot_0015.mp4</td>\n",
       "      <td>38</td>\n",
       "      <td>23.976024</td>\n",
       "      <td>1.584917</td>\n",
       "      <td>no</td>\n",
       "    </tr>\n",
       "    <tr>\n",
       "      <th>8184</th>\n",
       "      <td>FS</td>\n",
       "      <td>Motion</td>\n",
       "      <td>../data/data_cleaned/test/tt6644200_shot_0021.mp4</td>\n",
       "      <td>47</td>\n",
       "      <td>23.976024</td>\n",
       "      <td>1.960292</td>\n",
       "      <td>no</td>\n",
       "    </tr>\n",
       "    <tr>\n",
       "      <th>8185</th>\n",
       "      <td>LS</td>\n",
       "      <td>Static</td>\n",
       "      <td>../data/data_cleaned/test/tt6644200_shot_0026.mp4</td>\n",
       "      <td>28</td>\n",
       "      <td>23.976024</td>\n",
       "      <td>1.167833</td>\n",
       "      <td>no</td>\n",
       "    </tr>\n",
       "    <tr>\n",
       "      <th>8186</th>\n",
       "      <td>ECS</td>\n",
       "      <td>Static</td>\n",
       "      <td>../data/data_cleaned/test/tt6644200_shot_0042.mp4</td>\n",
       "      <td>22</td>\n",
       "      <td>23.976024</td>\n",
       "      <td>0.917583</td>\n",
       "      <td>no</td>\n",
       "    </tr>\n",
       "  </tbody>\n",
       "</table>\n",
       "<p>8186 rows × 7 columns</p>\n",
       "</div>"
      ],
      "text/plain": [
       "     scale movement                                          ubication  \\\n",
       "0       LS   Static  ../data/data_cleaned/test/tt2006051_shot_0009.mp4   \n",
       "1       MS   Static  ../data/data_cleaned/test/tt2006051_shot_0010.mp4   \n",
       "2       MS   Static  ../data/data_cleaned/test/tt2006051_shot_0020.mp4   \n",
       "3       LS   Static  ../data/data_cleaned/test/tt2006051_shot_0022.mp4   \n",
       "4       FS   Motion  ../data/data_cleaned/test/tt2006051_shot_0026.mp4   \n",
       "...    ...      ...                                                ...   \n",
       "8182    FS   Static  ../data/data_cleaned/test/tt6644200_shot_0011.mp4   \n",
       "8183    MS   Motion  ../data/data_cleaned/test/tt6644200_shot_0015.mp4   \n",
       "8184    FS   Motion  ../data/data_cleaned/test/tt6644200_shot_0021.mp4   \n",
       "8185    LS   Static  ../data/data_cleaned/test/tt6644200_shot_0026.mp4   \n",
       "8186   ECS   Static  ../data/data_cleaned/test/tt6644200_shot_0042.mp4   \n",
       "\n",
       "      lenght_frames  frames_per_second   duration inversed  \n",
       "0               108          24.000000   4.500000       no  \n",
       "1                70          24.000000   2.916667       no  \n",
       "2                31          24.000000   1.291667       no  \n",
       "3               365          24.000000  15.208333       no  \n",
       "4                77          24.000000   3.208333       no  \n",
       "...             ...                ...        ...      ...  \n",
       "8182             26          23.976024   1.084417       no  \n",
       "8183             38          23.976024   1.584917       no  \n",
       "8184             47          23.976024   1.960292       no  \n",
       "8185             28          23.976024   1.167833       no  \n",
       "8186             22          23.976024   0.917583       no  \n",
       "\n",
       "[8186 rows x 7 columns]"
      ]
     },
     "execution_count": 7,
     "metadata": {},
     "output_type": "execute_result"
    }
   ],
   "source": [
    "test_df"
   ]
  },
  {
   "cell_type": "code",
   "execution_count": 8,
   "id": "7cb23699",
   "metadata": {},
   "outputs": [
    {
     "name": "stderr",
     "output_type": "stream",
     "text": [
      "2022-08-01 19:30:59.593196: I tensorflow/stream_executor/cuda/cuda_gpu_executor.cc:936] successful NUMA node read from SysFS had negative value (-1), but there must be at least one NUMA node, so returning NUMA node zero\n",
      "2022-08-01 19:30:59.606891: I tensorflow/stream_executor/cuda/cuda_gpu_executor.cc:936] successful NUMA node read from SysFS had negative value (-1), but there must be at least one NUMA node, so returning NUMA node zero\n",
      "2022-08-01 19:30:59.608022: I tensorflow/stream_executor/cuda/cuda_gpu_executor.cc:936] successful NUMA node read from SysFS had negative value (-1), but there must be at least one NUMA node, so returning NUMA node zero\n",
      "2022-08-01 19:30:59.610830: I tensorflow/core/platform/cpu_feature_guard.cc:151] This TensorFlow binary is optimized with oneAPI Deep Neural Network Library (oneDNN) to use the following CPU instructions in performance-critical operations:  AVX2 FMA\n",
      "To enable them in other operations, rebuild TensorFlow with the appropriate compiler flags.\n",
      "2022-08-01 19:30:59.611459: I tensorflow/stream_executor/cuda/cuda_gpu_executor.cc:936] successful NUMA node read from SysFS had negative value (-1), but there must be at least one NUMA node, so returning NUMA node zero\n",
      "2022-08-01 19:30:59.612596: I tensorflow/stream_executor/cuda/cuda_gpu_executor.cc:936] successful NUMA node read from SysFS had negative value (-1), but there must be at least one NUMA node, so returning NUMA node zero\n",
      "2022-08-01 19:30:59.613629: I tensorflow/stream_executor/cuda/cuda_gpu_executor.cc:936] successful NUMA node read from SysFS had negative value (-1), but there must be at least one NUMA node, so returning NUMA node zero\n",
      "2022-08-01 19:31:00.308288: I tensorflow/stream_executor/cuda/cuda_gpu_executor.cc:936] successful NUMA node read from SysFS had negative value (-1), but there must be at least one NUMA node, so returning NUMA node zero\n",
      "2022-08-01 19:31:00.309218: I tensorflow/stream_executor/cuda/cuda_gpu_executor.cc:936] successful NUMA node read from SysFS had negative value (-1), but there must be at least one NUMA node, so returning NUMA node zero\n",
      "2022-08-01 19:31:00.310076: I tensorflow/stream_executor/cuda/cuda_gpu_executor.cc:936] successful NUMA node read from SysFS had negative value (-1), but there must be at least one NUMA node, so returning NUMA node zero\n",
      "2022-08-01 19:31:00.310841: I tensorflow/core/common_runtime/gpu/gpu_device.cc:1525] Created device /job:localhost/replica:0/task:0/device:GPU:0 with 10794 MB memory:  -> device: 0, name: Tesla K80, pci bus id: 0000:00:1e.0, compute capability: 3.7\n"
     ]
    },
    {
     "name": "stdout",
     "output_type": "stream",
     "text": [
      "Model: \"model_2\"\n",
      "__________________________________________________________________________________________________\n",
      " Layer (type)                   Output Shape         Param #     Connected to                     \n",
      "==================================================================================================\n",
      " input_6 (InputLayer)           [(None, 8, 224, 224  0           []                               \n",
      "                                , 3)]                                                             \n",
      "                                                                                                  \n",
      " time_distributed_2 (TimeDistri  (None, 8, 2048)     23587712    ['input_6[0][0]']                \n",
      " buted)                                                                                           \n",
      "                                                                                                  \n",
      " lstm_6 (LSTM)                  (None, 8, 256)       2360320     ['time_distributed_2[0][0]']     \n",
      "                                                                                                  \n",
      " lstm_8 (LSTM)                  (None, 8, 256)       2360320     ['time_distributed_2[0][0]']     \n",
      "                                                                                                  \n",
      " lstm_7 (LSTM)                  (None, 16)           17472       ['lstm_6[0][0]']                 \n",
      "                                                                                                  \n",
      " lstm_9 (LSTM)                  (None, 16)           17472       ['lstm_8[0][0]']                 \n",
      "                                                                                                  \n",
      " dropout_6 (Dropout)            (None, 16)           0           ['lstm_7[0][0]']                 \n",
      "                                                                                                  \n",
      " dropout_8 (Dropout)            (None, 16)           0           ['lstm_9[0][0]']                 \n",
      "                                                                                                  \n",
      " dense_7 (Dense)                (None, 64)           1088        ['dropout_6[0][0]']              \n",
      "                                                                                                  \n",
      " dense_8 (Dense)                (None, 64)           1088        ['dropout_8[0][0]']              \n",
      "                                                                                                  \n",
      " dropout_7 (Dropout)            (None, 64)           0           ['dense_7[0][0]']                \n",
      "                                                                                                  \n",
      " dropout_9 (Dropout)            (None, 64)           0           ['dense_8[0][0]']                \n",
      "                                                                                                  \n",
      " movement (Dense)               (None, 4)            260         ['dropout_7[0][0]']              \n",
      "                                                                                                  \n",
      " scale (Dense)                  (None, 5)            325         ['dropout_9[0][0]']              \n",
      "                                                                                                  \n",
      "==================================================================================================\n",
      "Total params: 28,346,057\n",
      "Trainable params: 28,292,937\n",
      "Non-trainable params: 53,120\n",
      "__________________________________________________________________________________________________\n",
      "None\n"
     ]
    }
   ],
   "source": [
    "model=keras.models.load_model(WEIGHTS, compile=False)\n",
    "\n",
    "# It should print your model correctly\n",
    "print(model.summary())"
   ]
  },
  {
   "cell_type": "code",
   "execution_count": 9,
   "id": "726a4d3d",
   "metadata": {},
   "outputs": [
    {
     "name": "stderr",
     "output_type": "stream",
     "text": [
      "2022-08-01 19:31:17.661575: I tensorflow/stream_executor/cuda/cuda_dnn.cc:368] Loaded cuDNN version 8200\n",
      "2022-08-01 19:31:18.240106: I tensorflow/core/platform/default/subprocess.cc:304] Start cannot spawn child process: No such file or directory\n",
      "2022-08-01 19:31:18.240749: I tensorflow/core/platform/default/subprocess.cc:304] Start cannot spawn child process: No such file or directory\n",
      "2022-08-01 19:31:18.240801: W tensorflow/stream_executor/gpu/asm_compiler.cc:80] Couldn't get ptxas version string: INTERNAL: Couldn't invoke ptxas --version\n",
      "2022-08-01 19:31:18.252648: I tensorflow/core/platform/default/subprocess.cc:304] Start cannot spawn child process: No such file or directory\n",
      "2022-08-01 19:31:18.252899: W tensorflow/stream_executor/gpu/redzone_allocator.cc:314] INTERNAL: Failed to launch ptxas\n",
      "Relying on driver to perform ptx compilation. \n",
      "Modify $PATH to customize ptxas location.\n",
      "This message will be only logged once.\n"
     ]
    },
    {
     "name": "stdout",
     "output_type": "stream",
     "text": [
      "1024/1024 [==============================] - 2070s 2s/step\n"
     ]
    }
   ],
   "source": [
    "probabilities=model.predict(test_generator,verbose=1)"
   ]
  },
  {
   "cell_type": "code",
   "execution_count": 10,
   "id": "190ed2e2",
   "metadata": {},
   "outputs": [],
   "source": [
    "predictions_movement=[]\n",
    "predictions_scale=[]\n",
    "\n",
    "for prediction_movement in probabilities[0]:\n",
    "    index_max_movement=prediction_movement.argmax()\n",
    "    predictions_movement.append(MODEL_CLASSES_MOVEMENT[index_max_movement])\n",
    "    \n",
    "for prediction_scale in probabilities[1]:\n",
    "    index_max_scale=prediction_scale.argmax()\n",
    "    predictions_scale.append(MODEL_CLASSES_SCALE[index_max_scale])"
   ]
  },
  {
   "cell_type": "code",
   "execution_count": 11,
   "id": "1516a98c",
   "metadata": {},
   "outputs": [],
   "source": [
    "labels_movement=test_df[\"movement\"].values.tolist()\n",
    "if len(set(predictions_movement)) != len(set(labels_movement)):\n",
    "    raise ValueError(\n",
    "        \"The lenght of predictions and labels lists doesn't match!\"\n",
    "    )\n",
    "\n",
    "if not isinstance(predictions_movement[0], str):\n",
    "    raise ValueError(\n",
    "        \"Model predictions should be represented as string. E.g: 'Static'\"\n",
    "    )\n",
    "\n",
    "if not isinstance(labels_movement[0], str):\n",
    "    raise ValueError(\n",
    "        \"Ground true labels should be represented as string. E.g: 'Static'\"\n",
    "    )"
   ]
  },
  {
   "cell_type": "code",
   "execution_count": 12,
   "id": "9820914a",
   "metadata": {},
   "outputs": [],
   "source": [
    "labels_scale=test_df[\"scale\"].values.tolist()\n",
    "if len(set(predictions_scale)) != len(set(labels_scale)):\n",
    "    raise ValueError(\n",
    "        \"The lenght of predictions and labels lists doesn't match!\"\n",
    "    )\n",
    "\n",
    "if not isinstance(predictions_scale[0], str):\n",
    "    raise ValueError(\n",
    "        \"Model predictions should be represented as string. E.g: 'CS'\"\n",
    "    )\n",
    "\n",
    "if not isinstance(labels_scale[0], str):\n",
    "    raise ValueError(\n",
    "        \"Ground true labels should be represented as string. E.g: 'CS'\"\n",
    "    )"
   ]
  },
  {
   "cell_type": "code",
   "execution_count": 13,
   "id": "2ddce6c4",
   "metadata": {},
   "outputs": [
    {
     "name": "stdout",
     "output_type": "stream",
     "text": [
      "Movement results\n",
      "Model Performance metrics:\n",
      "------------------------------\n",
      "Accuracy: 0.6002\n",
      "Macro Average Precision: 0.3278\n",
      "Macro Average Recall: 0.3383\n",
      "Macro Average F1 Score: 0.3225\n",
      "\n",
      "Model Classification report:\n",
      "------------------------------\n",
      "              precision    recall  f1-score   support\n",
      "\n",
      "      Motion       0.47      0.66      0.55      2423\n",
      "        Pull       0.02      0.05      0.02        80\n",
      "        Push       0.02      0.04      0.03       220\n",
      "      Static       0.81      0.61      0.69      5463\n",
      "\n",
      "    accuracy                           0.60      8186\n",
      "   macro avg       0.33      0.34      0.32      8186\n",
      "weighted avg       0.68      0.60      0.62      8186\n",
      "\n",
      "\n",
      "Prediction Confusion Matrix:\n",
      "------------------------------\n"
     ]
    },
    {
     "data": {
      "image/png": "[encoded data removed]",
      "text/plain": [
       "<Figure size 432x288 with 2 Axes>"
      ]
     },
     "metadata": {
      "needs_background": "light"
     },
     "output_type": "display_data"
    }
   ],
   "source": [
    "print('Movement results')\n",
    "\n",
    "accuracy, precision, recall, f1_score=utils.get_performance(predictions_movement,labels_movement,MODEL_CLASSES_MOVEMENT)"
   ]
  },
  {
   "cell_type": "code",
   "execution_count": 14,
   "id": "6c58596f",
   "metadata": {},
   "outputs": [
    {
     "name": "stdout",
     "output_type": "stream",
     "text": [
      "Scale results\n",
      "Model Performance metrics:\n",
      "------------------------------\n",
      "Accuracy: 0.8561\n",
      "Macro Average Precision: 0.8602\n",
      "Macro Average Recall: 0.8596\n",
      "Macro Average F1 Score: 0.8592\n",
      "\n",
      "Model Classification report:\n",
      "------------------------------\n",
      "              precision    recall  f1-score   support\n",
      "\n",
      "          CS       0.81      0.82      0.82      1792\n",
      "         ECS       0.87      0.85      0.86      1641\n",
      "          FS       0.82      0.90      0.86      1642\n",
      "          LS       0.92      0.92      0.92      1358\n",
      "          MS       0.87      0.80      0.84      1753\n",
      "\n",
      "    accuracy                           0.86      8186\n",
      "   macro avg       0.86      0.86      0.86      8186\n",
      "weighted avg       0.86      0.86      0.86      8186\n",
      "\n",
      "\n",
      "Prediction Confusion Matrix:\n",
      "------------------------------\n"
     ]
    },
    {
     "data": {
      "image/png": "[encoded data removed]",
      "text/plain": [
       "<Figure size 432x288 with 2 Axes>"
      ]
     },
     "metadata": {
      "needs_background": "light"
     },
     "output_type": "display_data"
    }
   ],
   "source": [
    "print('Scale results')\n",
    "\n",
    "accuracy, precision, recall, f1_score=utils.get_performance(predictions_scale,labels_scale,MODEL_CLASSES_SCALE)"
   ]
  },
  {
   "cell_type": "code",
   "execution_count": null,
   "id": "3a15b9d8",
   "metadata": {},
   "outputs": [],
   "source": []
  },
  {
   "cell_type": "code",
   "execution_count": null,
   "id": "d57c5272",
   "metadata": {},
   "outputs": [],
   "source": []
  },
  {
   "cell_type": "code",
   "execution_count": null,
   "id": "d258594f",
   "metadata": {},
   "outputs": [],
   "source": []
  },
  {
   "cell_type": "code",
   "execution_count": null,
   "id": "202e2fab",
   "metadata": {},
   "outputs": [],
   "source": []
  }
 ],
 "metadata": {
  "kernelspec": {
   "display_name": "Python 3 (ipykernel)",
   "language": "python",
   "name": "python3"
  },
  "language_info": {
   "codemirror_mode": {
    "name": "ipython",
    "version": 3
   },
   "file_extension": ".py",
   "mimetype": "text/x-python",
   "name": "python",
   "nbconvert_exporter": "python",
   "pygments_lexer": "ipython3",
   "version": "3.8.10"
  }
 },
 "nbformat": 4,
 "nbformat_minor": 5
}
