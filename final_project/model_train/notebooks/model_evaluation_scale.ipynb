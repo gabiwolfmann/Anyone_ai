{
 "cells": [
  {
   "cell_type": "code",
   "execution_count": 1,
   "id": "30af4569",
   "metadata": {},
   "outputs": [],
   "source": [
    "import pandas as pd\n",
    "from utils import utils\n",
    "from models import models\n",
    "from tensorflow import keras"
   ]
  },
  {
   "cell_type": "code",
   "execution_count": 2,
   "id": "62bbb8a2",
   "metadata": {},
   "outputs": [],
   "source": [
    "CONFIG_YML = \"../experiments/exp_009/config_009.yml\"\n",
    "WEIGHTS = \"../experiments/exp_009/model.04-0.5498.h5\""
   ]
  },
  {
   "cell_type": "code",
   "execution_count": 3,
   "id": "82c43452",
   "metadata": {},
   "outputs": [
    {
     "data": {
      "text/plain": [
       "{'seed': 123,\n",
       " 'data': {'train_df': '/home/app/src/data/train_df.csv',\n",
       "  'val_df': '/home/app/src/data/val_df.csv',\n",
       "  'test_df': '/home/app/src/data/test_df.csv'},\n",
       " 'model': {'weights': 'imagenet',\n",
       "  'classes_movement': 4,\n",
       "  'classes_scale': 5,\n",
       "  'dropout_rate': 0.5,\n",
       "  'image_size': 224,\n",
       "  'channels': 3,\n",
       "  'batch_size': 8,\n",
       "  'frames': 8,\n",
       "  'trainable_layers': 'None'},\n",
       " 'compile': {'optimizer': {'adam': {'learning_rate': 0.0005}},\n",
       "  'loss': 'sparse_categorical_crossentropy',\n",
       "  'metrics': ['accuracy']},\n",
       " 'fit': {'epochs': 20,\n",
       "  'callbacks': {'model_checkpoint': {'filepath': '../experiments/exp_009/model.{epoch:02d}-{val_loss:.4f}.h5',\n",
       "    'save_best_only': True,\n",
       "    'verbose': 1},\n",
       "   'tensor_board': {'log_dir': '../experiments/exp_009/logs'},\n",
       "   'reduce_on_plateau': {'verbose': 1, 'patience': 2}}}}"
      ]
     },
     "execution_count": 3,
     "metadata": {},
     "output_type": "execute_result"
    }
   ],
   "source": [
    "config = utils.load_config(CONFIG_YML)\n",
    "config"
   ]
  },
  {
   "cell_type": "code",
   "execution_count": 4,
   "id": "6c00fe13",
   "metadata": {},
   "outputs": [],
   "source": [
    "MODEL_CLASSES_MOVEMENT,MODEL_CLASSES_SCALE = utils.get_class_names(config)\n",
    "\n",
    "if len(MODEL_CLASSES_MOVEMENT) != config['model']['classes_movement']:\n",
    "    raise ValueError(\n",
    "        \"Number of classes doesn't match between your model \"\n",
    "        \"and your data!\"\n",
    "    )\n",
    "    \n",
    "if len(MODEL_CLASSES_SCALE) != config['model']['classes_scale']:\n",
    "    raise ValueError(\n",
    "        \"Number of classes doesn't match between your model \"\n",
    "        \"and your data!\"\n",
    "    )\n"
   ]
  },
  {
   "cell_type": "code",
   "execution_count": 8,
   "id": "d1314b90",
   "metadata": {},
   "outputs": [
    {
     "data": {
      "text/plain": [
       "['CS', 'ECS', 'FS', 'LS', 'MS']"
      ]
     },
     "execution_count": 8,
     "metadata": {},
     "output_type": "execute_result"
    }
   ],
   "source": [
    "MODEL_CLASSES_SCALE"
   ]
  },
  {
   "cell_type": "code",
   "execution_count": 5,
   "id": "e145b92e",
   "metadata": {},
   "outputs": [],
   "source": [
    "test_df=pd.read_csv(config[\"data\"][\"test_df\"],index_col='Unnamed: 0')\n",
    "\n",
    "test_generator = models.DataGenerator(test_df, config['model']['batch_size'], output = 'scale')"
   ]
  },
  {
   "cell_type": "code",
   "execution_count": 6,
   "id": "73d9923a",
   "metadata": {},
   "outputs": [
    {
     "data": {
      "text/html": [
       "<div>\n",
       "<style scoped>\n",
       "    .dataframe tbody tr th:only-of-type {\n",
       "        vertical-align: middle;\n",
       "    }\n",
       "\n",
       "    .dataframe tbody tr th {\n",
       "        vertical-align: top;\n",
       "    }\n",
       "\n",
       "    .dataframe thead th {\n",
       "        text-align: right;\n",
       "    }\n",
       "</style>\n",
       "<table border=\"1\" class=\"dataframe\">\n",
       "  <thead>\n",
       "    <tr style=\"text-align: right;\">\n",
       "      <th></th>\n",
       "      <th>scale</th>\n",
       "      <th>movement</th>\n",
       "      <th>ubication</th>\n",
       "      <th>lenght_frames</th>\n",
       "      <th>frames_per_second</th>\n",
       "      <th>duration</th>\n",
       "      <th>inversed</th>\n",
       "    </tr>\n",
       "  </thead>\n",
       "  <tbody>\n",
       "    <tr>\n",
       "      <th>0</th>\n",
       "      <td>LS</td>\n",
       "      <td>Static</td>\n",
       "      <td>../data/data_cleaned/test/tt2006051_shot_0009.mp4</td>\n",
       "      <td>108</td>\n",
       "      <td>24.000000</td>\n",
       "      <td>4.500000</td>\n",
       "      <td>no</td>\n",
       "    </tr>\n",
       "    <tr>\n",
       "      <th>1</th>\n",
       "      <td>MS</td>\n",
       "      <td>Static</td>\n",
       "      <td>../data/data_cleaned/test/tt2006051_shot_0010.mp4</td>\n",
       "      <td>70</td>\n",
       "      <td>24.000000</td>\n",
       "      <td>2.916667</td>\n",
       "      <td>no</td>\n",
       "    </tr>\n",
       "    <tr>\n",
       "      <th>2</th>\n",
       "      <td>MS</td>\n",
       "      <td>Static</td>\n",
       "      <td>../data/data_cleaned/test/tt2006051_shot_0020.mp4</td>\n",
       "      <td>31</td>\n",
       "      <td>24.000000</td>\n",
       "      <td>1.291667</td>\n",
       "      <td>no</td>\n",
       "    </tr>\n",
       "    <tr>\n",
       "      <th>3</th>\n",
       "      <td>LS</td>\n",
       "      <td>Static</td>\n",
       "      <td>../data/data_cleaned/test/tt2006051_shot_0022.mp4</td>\n",
       "      <td>365</td>\n",
       "      <td>24.000000</td>\n",
       "      <td>15.208333</td>\n",
       "      <td>no</td>\n",
       "    </tr>\n",
       "    <tr>\n",
       "      <th>4</th>\n",
       "      <td>FS</td>\n",
       "      <td>Motion</td>\n",
       "      <td>../data/data_cleaned/test/tt2006051_shot_0026.mp4</td>\n",
       "      <td>77</td>\n",
       "      <td>24.000000</td>\n",
       "      <td>3.208333</td>\n",
       "      <td>no</td>\n",
       "    </tr>\n",
       "    <tr>\n",
       "      <th>...</th>\n",
       "      <td>...</td>\n",
       "      <td>...</td>\n",
       "      <td>...</td>\n",
       "      <td>...</td>\n",
       "      <td>...</td>\n",
       "      <td>...</td>\n",
       "      <td>...</td>\n",
       "    </tr>\n",
       "    <tr>\n",
       "      <th>8182</th>\n",
       "      <td>FS</td>\n",
       "      <td>Static</td>\n",
       "      <td>../data/data_cleaned/test/tt6644200_shot_0011.mp4</td>\n",
       "      <td>26</td>\n",
       "      <td>23.976024</td>\n",
       "      <td>1.084417</td>\n",
       "      <td>no</td>\n",
       "    </tr>\n",
       "    <tr>\n",
       "      <th>8183</th>\n",
       "      <td>MS</td>\n",
       "      <td>Motion</td>\n",
       "      <td>../data/data_cleaned/test/tt6644200_shot_0015.mp4</td>\n",
       "      <td>38</td>\n",
       "      <td>23.976024</td>\n",
       "      <td>1.584917</td>\n",
       "      <td>no</td>\n",
       "    </tr>\n",
       "    <tr>\n",
       "      <th>8184</th>\n",
       "      <td>FS</td>\n",
       "      <td>Motion</td>\n",
       "      <td>../data/data_cleaned/test/tt6644200_shot_0021.mp4</td>\n",
       "      <td>47</td>\n",
       "      <td>23.976024</td>\n",
       "      <td>1.960292</td>\n",
       "      <td>no</td>\n",
       "    </tr>\n",
       "    <tr>\n",
       "      <th>8185</th>\n",
       "      <td>LS</td>\n",
       "      <td>Static</td>\n",
       "      <td>../data/data_cleaned/test/tt6644200_shot_0026.mp4</td>\n",
       "      <td>28</td>\n",
       "      <td>23.976024</td>\n",
       "      <td>1.167833</td>\n",
       "      <td>no</td>\n",
       "    </tr>\n",
       "    <tr>\n",
       "      <th>8186</th>\n",
       "      <td>ECS</td>\n",
       "      <td>Static</td>\n",
       "      <td>../data/data_cleaned/test/tt6644200_shot_0042.mp4</td>\n",
       "      <td>22</td>\n",
       "      <td>23.976024</td>\n",
       "      <td>0.917583</td>\n",
       "      <td>no</td>\n",
       "    </tr>\n",
       "  </tbody>\n",
       "</table>\n",
       "<p>8186 rows × 7 columns</p>\n",
       "</div>"
      ],
      "text/plain": [
       "     scale movement                                          ubication  \\\n",
       "0       LS   Static  ../data/data_cleaned/test/tt2006051_shot_0009.mp4   \n",
       "1       MS   Static  ../data/data_cleaned/test/tt2006051_shot_0010.mp4   \n",
       "2       MS   Static  ../data/data_cleaned/test/tt2006051_shot_0020.mp4   \n",
       "3       LS   Static  ../data/data_cleaned/test/tt2006051_shot_0022.mp4   \n",
       "4       FS   Motion  ../data/data_cleaned/test/tt2006051_shot_0026.mp4   \n",
       "...    ...      ...                                                ...   \n",
       "8182    FS   Static  ../data/data_cleaned/test/tt6644200_shot_0011.mp4   \n",
       "8183    MS   Motion  ../data/data_cleaned/test/tt6644200_shot_0015.mp4   \n",
       "8184    FS   Motion  ../data/data_cleaned/test/tt6644200_shot_0021.mp4   \n",
       "8185    LS   Static  ../data/data_cleaned/test/tt6644200_shot_0026.mp4   \n",
       "8186   ECS   Static  ../data/data_cleaned/test/tt6644200_shot_0042.mp4   \n",
       "\n",
       "      lenght_frames  frames_per_second   duration inversed  \n",
       "0               108          24.000000   4.500000       no  \n",
       "1                70          24.000000   2.916667       no  \n",
       "2                31          24.000000   1.291667       no  \n",
       "3               365          24.000000  15.208333       no  \n",
       "4                77          24.000000   3.208333       no  \n",
       "...             ...                ...        ...      ...  \n",
       "8182             26          23.976024   1.084417       no  \n",
       "8183             38          23.976024   1.584917       no  \n",
       "8184             47          23.976024   1.960292       no  \n",
       "8185             28          23.976024   1.167833       no  \n",
       "8186             22          23.976024   0.917583       no  \n",
       "\n",
       "[8186 rows x 7 columns]"
      ]
     },
     "execution_count": 6,
     "metadata": {},
     "output_type": "execute_result"
    }
   ],
   "source": [
    "test_df"
   ]
  },
  {
   "cell_type": "code",
   "execution_count": 7,
   "id": "7cb23699",
   "metadata": {},
   "outputs": [
    {
     "name": "stderr",
     "output_type": "stream",
     "text": [
      "2022-07-24 14:09:37.136993: I tensorflow/stream_executor/cuda/cuda_gpu_executor.cc:936] successful NUMA node read from SysFS had negative value (-1), but there must be at least one NUMA node, so returning NUMA node zero\n",
      "2022-07-24 14:09:37.147503: I tensorflow/stream_executor/cuda/cuda_gpu_executor.cc:936] successful NUMA node read from SysFS had negative value (-1), but there must be at least one NUMA node, so returning NUMA node zero\n",
      "2022-07-24 14:09:37.148321: I tensorflow/stream_executor/cuda/cuda_gpu_executor.cc:936] successful NUMA node read from SysFS had negative value (-1), but there must be at least one NUMA node, so returning NUMA node zero\n",
      "2022-07-24 14:09:37.150648: I tensorflow/core/platform/cpu_feature_guard.cc:151] This TensorFlow binary is optimized with oneAPI Deep Neural Network Library (oneDNN) to use the following CPU instructions in performance-critical operations:  AVX2 FMA\n",
      "To enable them in other operations, rebuild TensorFlow with the appropriate compiler flags.\n",
      "2022-07-24 14:09:37.151277: I tensorflow/stream_executor/cuda/cuda_gpu_executor.cc:936] successful NUMA node read from SysFS had negative value (-1), but there must be at least one NUMA node, so returning NUMA node zero\n",
      "2022-07-24 14:09:37.152191: I tensorflow/stream_executor/cuda/cuda_gpu_executor.cc:936] successful NUMA node read from SysFS had negative value (-1), but there must be at least one NUMA node, so returning NUMA node zero\n",
      "2022-07-24 14:09:37.153115: I tensorflow/stream_executor/cuda/cuda_gpu_executor.cc:936] successful NUMA node read from SysFS had negative value (-1), but there must be at least one NUMA node, so returning NUMA node zero\n",
      "2022-07-24 14:09:37.804895: I tensorflow/stream_executor/cuda/cuda_gpu_executor.cc:936] successful NUMA node read from SysFS had negative value (-1), but there must be at least one NUMA node, so returning NUMA node zero\n",
      "2022-07-24 14:09:37.805761: I tensorflow/stream_executor/cuda/cuda_gpu_executor.cc:936] successful NUMA node read from SysFS had negative value (-1), but there must be at least one NUMA node, so returning NUMA node zero\n",
      "2022-07-24 14:09:37.806585: I tensorflow/stream_executor/cuda/cuda_gpu_executor.cc:936] successful NUMA node read from SysFS had negative value (-1), but there must be at least one NUMA node, so returning NUMA node zero\n",
      "2022-07-24 14:09:37.807347: I tensorflow/core/common_runtime/gpu/gpu_device.cc:1525] Created device /job:localhost/replica:0/task:0/device:GPU:0 with 10794 MB memory:  -> device: 0, name: Tesla K80, pci bus id: 0000:00:1e.0, compute capability: 3.7\n"
     ]
    },
    {
     "name": "stdout",
     "output_type": "stream",
     "text": [
      "Model: \"sequential\"\n",
      "_________________________________________________________________\n",
      " Layer (type)                Output Shape              Param #   \n",
      "=================================================================\n",
      " time_distributed (TimeDistr  (None, 8, 2048)          23587712  \n",
      " ibuted)                                                         \n",
      "                                                                 \n",
      " lstm (LSTM)                 (None, 8, 128)            1114624   \n",
      "                                                                 \n",
      " lstm_1 (LSTM)               (None, 16)                9280      \n",
      "                                                                 \n",
      " dropout (Dropout)           (None, 16)                0         \n",
      "                                                                 \n",
      " dense (Dense)               (None, 64)                1088      \n",
      "                                                                 \n",
      " dropout_1 (Dropout)         (None, 64)                0         \n",
      "                                                                 \n",
      " dense_1 (Dense)             (None, 5)                 325       \n",
      "                                                                 \n",
      "=================================================================\n",
      "Total params: 24,713,029\n",
      "Trainable params: 24,659,909\n",
      "Non-trainable params: 53,120\n",
      "_________________________________________________________________\n",
      "None\n"
     ]
    }
   ],
   "source": [
    "model=keras.models.load_model(WEIGHTS, compile=False)\n",
    "\n",
    "# It should print your model correctly\n",
    "print(model.summary())"
   ]
  },
  {
   "cell_type": "code",
   "execution_count": 9,
   "id": "726a4d3d",
   "metadata": {},
   "outputs": [
    {
     "name": "stderr",
     "output_type": "stream",
     "text": [
      "2022-07-24 14:10:12.807812: I tensorflow/stream_executor/cuda/cuda_dnn.cc:368] Loaded cuDNN version 8200\n",
      "2022-07-24 14:10:13.299976: I tensorflow/core/platform/default/subprocess.cc:304] Start cannot spawn child process: No such file or directory\n",
      "2022-07-24 14:10:13.303728: I tensorflow/core/platform/default/subprocess.cc:304] Start cannot spawn child process: No such file or directory\n",
      "2022-07-24 14:10:13.303787: W tensorflow/stream_executor/gpu/asm_compiler.cc:80] Couldn't get ptxas version string: INTERNAL: Couldn't invoke ptxas --version\n",
      "2022-07-24 14:10:13.305555: I tensorflow/core/platform/default/subprocess.cc:304] Start cannot spawn child process: No such file or directory\n",
      "2022-07-24 14:10:13.305944: W tensorflow/stream_executor/gpu/redzone_allocator.cc:314] INTERNAL: Failed to launch ptxas\n",
      "Relying on driver to perform ptx compilation. \n",
      "Modify $PATH to customize ptxas location.\n",
      "This message will be only logged once.\n"
     ]
    },
    {
     "name": "stdout",
     "output_type": "stream",
     "text": [
      "1024/1024 [==============================] - 1744s 2s/step\n"
     ]
    }
   ],
   "source": [
    "probabilities=model.predict(test_generator,verbose=1)"
   ]
  },
  {
   "cell_type": "code",
   "execution_count": 10,
   "id": "190ed2e2",
   "metadata": {},
   "outputs": [],
   "source": [
    "predictions_scale=[]\n",
    "\n",
    "for prediction in probabilities:\n",
    "    index_max=prediction.argmax()\n",
    "    predictions_scale.append(MODEL_CLASSES_SCALE[index_max])"
   ]
  },
  {
   "cell_type": "code",
   "execution_count": 11,
   "id": "9820914a",
   "metadata": {},
   "outputs": [],
   "source": [
    "labels_scale=test_df[\"scale\"].values.tolist()\n",
    "if len(set(predictions_scale)) != len(set(labels_scale)):\n",
    "    raise ValueError(\n",
    "        \"The lenght of predictions and labels lists doesn't match!\"\n",
    "    )\n",
    "\n",
    "if not isinstance(predictions_scale[0], str):\n",
    "    raise ValueError(\n",
    "        \"Model predictions should be represented as string. E.g: 'CS'\"\n",
    "    )\n",
    "\n",
    "if not isinstance(labels_scale[0], str):\n",
    "    raise ValueError(\n",
    "        \"Ground true labels should be represented as string. E.g: 'CS'\"\n",
    "    )"
   ]
  },
  {
   "cell_type": "code",
   "execution_count": 13,
   "id": "6c58596f",
   "metadata": {},
   "outputs": [
    {
     "name": "stdout",
     "output_type": "stream",
     "text": [
      "Scale results\n",
      "Model Performance metrics:\n",
      "------------------------------\n",
      "Accuracy: 0.8683\n",
      "Macro Average Precision: 0.8719\n",
      "Macro Average Recall: 0.8724\n",
      "Macro Average F1 Score: 0.8712\n",
      "\n",
      "Model Classification report:\n",
      "------------------------------\n",
      "              precision    recall  f1-score   support\n",
      "\n",
      "          CS       0.87      0.78      0.82      1792\n",
      "         ECS       0.86      0.91      0.88      1641\n",
      "          FS       0.89      0.86      0.88      1642\n",
      "          LS       0.92      0.94      0.93      1358\n",
      "          MS       0.81      0.87      0.84      1753\n",
      "\n",
      "    accuracy                           0.87      8186\n",
      "   macro avg       0.87      0.87      0.87      8186\n",
      "weighted avg       0.87      0.87      0.87      8186\n",
      "\n",
      "\n",
      "Prediction Confusion Matrix:\n",
      "------------------------------\n"
     ]
    },
    {
     "data": {
      "image/png": "[encoded data removed]",
      "text/plain": [
       "<Figure size 432x288 with 2 Axes>"
      ]
     },
     "metadata": {
      "needs_background": "light"
     },
     "output_type": "display_data"
    }
   ],
   "source": [
    "print('Scale results')\n",
    "\n",
    "accuracy, precision, recall, f1_score=utils.get_performance(predictions_scale,labels_scale,MODEL_CLASSES_SCALE)"
   ]
  },
  {
   "cell_type": "code",
   "execution_count": null,
   "id": "d258594f",
   "metadata": {},
   "outputs": [],
   "source": []
  },
  {
   "cell_type": "code",
   "execution_count": null,
   "id": "202e2fab",
   "metadata": {},
   "outputs": [],
   "source": []
  }
 ],
 "metadata": {
  "kernelspec": {
   "display_name": "Python 3 (ipykernel)",
   "language": "python",
   "name": "python3"
  },
  "language_info": {
   "codemirror_mode": {
    "name": "ipython",
    "version": 3
   },
   "file_extension": ".py",
   "mimetype": "text/x-python",
   "name": "python",
   "nbconvert_exporter": "python",
   "pygments_lexer": "ipython3",
   "version": "3.8.10"
  }
 },
 "nbformat": 4,
 "nbformat_minor": 5
}
