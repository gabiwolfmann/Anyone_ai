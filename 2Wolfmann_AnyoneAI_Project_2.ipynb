{
 "cells": [
  {
   "cell_type": "markdown",
   "id": "3d08028c-be52-4d84-a995-34b690c3e8a5",
   "metadata": {
    "id": "3d08028c-be52-4d84-a995-34b690c3e8a5"
   },
   "source": [
    "# AnyoneAI - Project II\n",
    "\n",
    "# Making Estimations with our NBA dataset"
   ]
  },
  {
   "cell_type": "markdown",
   "id": "4ff2f3cb-7e1a-4705-bce7-44a56c0113e1",
   "metadata": {
    "id": "4ff2f3cb-7e1a-4705-bce7-44a56c0113e1"
   },
   "source": [
    "In our first project, we learn how to create our own datasets by using a public API, Python and Pandas. We're now going to explore how to make predictive models for regression and classification tasks using ScikitLearn"
   ]
  },
  {
   "cell_type": "markdown",
   "id": "5b732b5b-8fcc-4917-85a1-035bfc00a7dd",
   "metadata": {
    "id": "5b732b5b-8fcc-4917-85a1-035bfc00a7dd"
   },
   "source": [
    "The goals of this project are:\n",
    "- Learn how to define a prediction task\n",
    "- Selecting evaluation metrics and baseline models\n",
    "- Perform feature engineering and standarization\n",
    "- Training and using predictive models: Univariable and Multivariate Linear Regression, Classification\n",
    "- Understand how Gradient Descent works by implementing a Linear Regressor in python"
   ]
  },
  {
   "cell_type": "markdown",
   "id": "73bd1212-887d-4b10-a277-30156aaf410b",
   "metadata": {
    "id": "73bd1212-887d-4b10-a277-30156aaf410b",
    "tags": []
   },
   "source": [
    "## Using Regression Models to Estimate players Salaries"
   ]
  },
  {
   "cell_type": "markdown",
   "id": "e51670c9-30ec-4dcf-b3f4-e5ba90019818",
   "metadata": {
    "id": "e51670c9-30ec-4dcf-b3f4-e5ba90019818"
   },
   "source": [
    "A player's salary can be explained by a lot of factors: \n",
    "\n",
    "- Years in the league: NBA contracts are limited in price, players have caps on how much money they make depending on their years playing in the league\n",
    "- Age: Highly correlated to the previous one, NBA players have a minimun age of 19 years\n",
    "- Draft position: players out of USA universities are selected each year through a process called draft, in which each team selects a player in a predefined order for 2 rounds (meaning only 60 players are drafted each year). A rookie contract value depends on the draft position. (Undrafted players have to negotiate a salary independently)\n",
    "- Performance in statistical categories: after the rookie contract, players can negotiate freely with teams, and usually statistical categories like points, rebounds and assists are extremely important.  \n",
    "- Team: Even though there are limits to what all teams can expend in players salary, they all allocate their resources differently, and can be more willing to pay the penalties incurred by exceeding those limitations.\n",
    "- Year in which the contract was signed: the mininum and maximum values of contracts possibles in the NBA changes depending on league revenue (television contracts, sponsorships, etc), so if the amount of money the teams make increases, players can negotiate bigger contracts.\n",
    "- Intangibles: players can be valued also in things that are not easily translated to a statistic, good defensive players might not always have great stats but can be extremely important for a team, the same can be said about veteran players that help young ones to learn and are good locker-room guys.\n",
    "\n",
    "But we're going to take a simplified approach, we'll try to use the data we already have to make the best estimator possible, and then we will analyze what went right and what could've gone wrong with our results."
   ]
  },
  {
   "cell_type": "markdown",
   "id": "6f110fec-8919-4427-89f7-b3e581176703",
   "metadata": {
    "id": "6f110fec-8919-4427-89f7-b3e581176703"
   },
   "source": [
    "### Analyzing our data"
   ]
  },
  {
   "cell_type": "code",
   "execution_count": 1,
   "id": "bdac389b-e5f8-4563-a187-36b016c0641c",
   "metadata": {
    "id": "bdac389b-e5f8-4563-a187-36b016c0641c"
   },
   "outputs": [
    {
     "data": {
      "text/html": [
       "<div>\n",
       "<style scoped>\n",
       "    .dataframe tbody tr th:only-of-type {\n",
       "        vertical-align: middle;\n",
       "    }\n",
       "\n",
       "    .dataframe tbody tr th {\n",
       "        vertical-align: top;\n",
       "    }\n",
       "\n",
       "    .dataframe thead th {\n",
       "        text-align: right;\n",
       "    }\n",
       "</style>\n",
       "<table border=\"1\" class=\"dataframe\">\n",
       "  <thead>\n",
       "    <tr style=\"text-align: right;\">\n",
       "      <th></th>\n",
       "      <th>PERSON_ID</th>\n",
       "      <th>PLAYER_NAME</th>\n",
       "      <th>TEAM_NAME</th>\n",
       "      <th>POSITION</th>\n",
       "      <th>HEIGHT</th>\n",
       "      <th>WEIGHT</th>\n",
       "      <th>COUNTRY</th>\n",
       "      <th>BIRTHDATE</th>\n",
       "      <th>SEASON_EXP</th>\n",
       "      <th>DRAFT_NUMBER</th>\n",
       "      <th>GP</th>\n",
       "      <th>MIN</th>\n",
       "      <th>PTS</th>\n",
       "      <th>REB</th>\n",
       "      <th>AST</th>\n",
       "      <th>STL</th>\n",
       "      <th>BLK</th>\n",
       "      <th>GAME_DATE</th>\n",
       "      <th>Salary</th>\n",
       "      <th>AGE</th>\n",
       "    </tr>\n",
       "  </thead>\n",
       "  <tbody>\n",
       "    <tr>\n",
       "      <th>0</th>\n",
       "      <td>1630173</td>\n",
       "      <td>Precious Achiuwa</td>\n",
       "      <td>Raptors</td>\n",
       "      <td>Forward</td>\n",
       "      <td>203</td>\n",
       "      <td>102</td>\n",
       "      <td>Nigeria</td>\n",
       "      <td>1999-09-19</td>\n",
       "      <td>1</td>\n",
       "      <td>20</td>\n",
       "      <td>115.0</td>\n",
       "      <td>17.3</td>\n",
       "      <td>6.5</td>\n",
       "      <td>5.1</td>\n",
       "      <td>0.8</td>\n",
       "      <td>0.4</td>\n",
       "      <td>0.5</td>\n",
       "      <td>2022-03-06</td>\n",
       "      <td>2711280</td>\n",
       "      <td>22 years, 5 months, 25 days</td>\n",
       "    </tr>\n",
       "    <tr>\n",
       "      <th>1</th>\n",
       "      <td>203500</td>\n",
       "      <td>Steven Adams</td>\n",
       "      <td>Grizzlies</td>\n",
       "      <td>Center</td>\n",
       "      <td>211</td>\n",
       "      <td>120</td>\n",
       "      <td>New Zealand</td>\n",
       "      <td>1993-07-20</td>\n",
       "      <td>8</td>\n",
       "      <td>12</td>\n",
       "      <td>648.0</td>\n",
       "      <td>26.8</td>\n",
       "      <td>9.3</td>\n",
       "      <td>7.9</td>\n",
       "      <td>1.4</td>\n",
       "      <td>0.9</td>\n",
       "      <td>0.9</td>\n",
       "      <td>2022-03-06</td>\n",
       "      <td>17073171</td>\n",
       "      <td>28 years, 7 months, 24 days</td>\n",
       "    </tr>\n",
       "    <tr>\n",
       "      <th>2</th>\n",
       "      <td>1628389</td>\n",
       "      <td>Bam Adebayo</td>\n",
       "      <td>Heat</td>\n",
       "      <td>Center</td>\n",
       "      <td>206</td>\n",
       "      <td>116</td>\n",
       "      <td>USA</td>\n",
       "      <td>1997-07-18</td>\n",
       "      <td>4</td>\n",
       "      <td>14</td>\n",
       "      <td>326.0</td>\n",
       "      <td>28.0</td>\n",
       "      <td>13.2</td>\n",
       "      <td>8.2</td>\n",
       "      <td>3.5</td>\n",
       "      <td>1.0</td>\n",
       "      <td>0.9</td>\n",
       "      <td>2022-03-07</td>\n",
       "      <td>28103550</td>\n",
       "      <td>24 years, 7 months, 26 days</td>\n",
       "    </tr>\n",
       "    <tr>\n",
       "      <th>3</th>\n",
       "      <td>1630583</td>\n",
       "      <td>Santi Aldama</td>\n",
       "      <td>Grizzlies</td>\n",
       "      <td>Forward</td>\n",
       "      <td>211</td>\n",
       "      <td>98</td>\n",
       "      <td>Spain</td>\n",
       "      <td>2001-01-10</td>\n",
       "      <td>0</td>\n",
       "      <td>30</td>\n",
       "      <td>27.0</td>\n",
       "      <td>10.2</td>\n",
       "      <td>3.3</td>\n",
       "      <td>2.4</td>\n",
       "      <td>0.5</td>\n",
       "      <td>0.1</td>\n",
       "      <td>0.3</td>\n",
       "      <td>2022-03-06</td>\n",
       "      <td>1994520</td>\n",
       "      <td>21 years, 2 months, 6 days</td>\n",
       "    </tr>\n",
       "    <tr>\n",
       "      <th>4</th>\n",
       "      <td>200746</td>\n",
       "      <td>LaMarcus Aldridge</td>\n",
       "      <td>Nets</td>\n",
       "      <td>Center</td>\n",
       "      <td>211</td>\n",
       "      <td>113</td>\n",
       "      <td>USA</td>\n",
       "      <td>1985-07-19</td>\n",
       "      <td>15</td>\n",
       "      <td>2</td>\n",
       "      <td>1073.0</td>\n",
       "      <td>33.7</td>\n",
       "      <td>19.1</td>\n",
       "      <td>8.1</td>\n",
       "      <td>1.9</td>\n",
       "      <td>0.7</td>\n",
       "      <td>1.1</td>\n",
       "      <td>2022-03-06</td>\n",
       "      <td>2641691</td>\n",
       "      <td>36 years, 7 months, 25 days</td>\n",
       "    </tr>\n",
       "    <tr>\n",
       "      <th>...</th>\n",
       "      <td>...</td>\n",
       "      <td>...</td>\n",
       "      <td>...</td>\n",
       "      <td>...</td>\n",
       "      <td>...</td>\n",
       "      <td>...</td>\n",
       "      <td>...</td>\n",
       "      <td>...</td>\n",
       "      <td>...</td>\n",
       "      <td>...</td>\n",
       "      <td>...</td>\n",
       "      <td>...</td>\n",
       "      <td>...</td>\n",
       "      <td>...</td>\n",
       "      <td>...</td>\n",
       "      <td>...</td>\n",
       "      <td>...</td>\n",
       "      <td>...</td>\n",
       "      <td>...</td>\n",
       "      <td>...</td>\n",
       "    </tr>\n",
       "    <tr>\n",
       "      <th>455</th>\n",
       "      <td>201152</td>\n",
       "      <td>Thaddeus Young</td>\n",
       "      <td>Raptors</td>\n",
       "      <td>Forward</td>\n",
       "      <td>203</td>\n",
       "      <td>107</td>\n",
       "      <td>USA</td>\n",
       "      <td>1988-06-21</td>\n",
       "      <td>14</td>\n",
       "      <td>12</td>\n",
       "      <td>1066.0</td>\n",
       "      <td>29.5</td>\n",
       "      <td>12.9</td>\n",
       "      <td>5.9</td>\n",
       "      <td>1.8</td>\n",
       "      <td>1.4</td>\n",
       "      <td>0.4</td>\n",
       "      <td>2022-03-06</td>\n",
       "      <td>14190000</td>\n",
       "      <td>33 years, 8 months, 23 days</td>\n",
       "    </tr>\n",
       "    <tr>\n",
       "      <th>456</th>\n",
       "      <td>1629027</td>\n",
       "      <td>Trae Young</td>\n",
       "      <td>Hawks</td>\n",
       "      <td>Guard</td>\n",
       "      <td>185</td>\n",
       "      <td>74</td>\n",
       "      <td>USA</td>\n",
       "      <td>1998-09-19</td>\n",
       "      <td>3</td>\n",
       "      <td>5</td>\n",
       "      <td>262.0</td>\n",
       "      <td>33.4</td>\n",
       "      <td>25.0</td>\n",
       "      <td>3.9</td>\n",
       "      <td>9.0</td>\n",
       "      <td>0.9</td>\n",
       "      <td>0.2</td>\n",
       "      <td>2022-03-07</td>\n",
       "      <td>8326471</td>\n",
       "      <td>23 years, 5 months, 25 days</td>\n",
       "    </tr>\n",
       "    <tr>\n",
       "      <th>457</th>\n",
       "      <td>1630209</td>\n",
       "      <td>Omer Yurtseven</td>\n",
       "      <td>Heat</td>\n",
       "      <td>Center</td>\n",
       "      <td>211</td>\n",
       "      <td>125</td>\n",
       "      <td>Turkey</td>\n",
       "      <td>1998-06-19</td>\n",
       "      <td>0</td>\n",
       "      <td>Undrafted</td>\n",
       "      <td>45.0</td>\n",
       "      <td>13.7</td>\n",
       "      <td>6.0</td>\n",
       "      <td>5.7</td>\n",
       "      <td>1.0</td>\n",
       "      <td>0.3</td>\n",
       "      <td>0.4</td>\n",
       "      <td>2022-03-07</td>\n",
       "      <td>1489065</td>\n",
       "      <td>23 years, 8 months, 25 days</td>\n",
       "    </tr>\n",
       "    <tr>\n",
       "      <th>458</th>\n",
       "      <td>203469</td>\n",
       "      <td>Cody Zeller</td>\n",
       "      <td>Hornets</td>\n",
       "      <td>Forward</td>\n",
       "      <td>211</td>\n",
       "      <td>109</td>\n",
       "      <td>USA</td>\n",
       "      <td>1992-10-05</td>\n",
       "      <td>9</td>\n",
       "      <td>4</td>\n",
       "      <td>494.0</td>\n",
       "      <td>22.2</td>\n",
       "      <td>8.5</td>\n",
       "      <td>6.0</td>\n",
       "      <td>1.4</td>\n",
       "      <td>0.6</td>\n",
       "      <td>0.6</td>\n",
       "      <td>NaN</td>\n",
       "      <td>2389641</td>\n",
       "      <td>29 years, 5 months, 11 days</td>\n",
       "    </tr>\n",
       "    <tr>\n",
       "      <th>459</th>\n",
       "      <td>1627826</td>\n",
       "      <td>Ivica Zubac</td>\n",
       "      <td>Clippers</td>\n",
       "      <td>Center</td>\n",
       "      <td>213</td>\n",
       "      <td>109</td>\n",
       "      <td>Croatia</td>\n",
       "      <td>1997-03-18</td>\n",
       "      <td>5</td>\n",
       "      <td>32</td>\n",
       "      <td>343.0</td>\n",
       "      <td>18.7</td>\n",
       "      <td>8.2</td>\n",
       "      <td>6.4</td>\n",
       "      <td>1.1</td>\n",
       "      <td>0.3</td>\n",
       "      <td>0.8</td>\n",
       "      <td>2022-03-06</td>\n",
       "      <td>7518518</td>\n",
       "      <td>24 years, 11 months, 26 days</td>\n",
       "    </tr>\n",
       "  </tbody>\n",
       "</table>\n",
       "<p>459 rows × 20 columns</p>\n",
       "</div>"
      ],
      "text/plain": [
       "     PERSON_ID        PLAYER_NAME  TEAM_NAME POSITION  HEIGHT  WEIGHT  \\\n",
       "0      1630173   Precious Achiuwa    Raptors  Forward     203     102   \n",
       "1       203500       Steven Adams  Grizzlies   Center     211     120   \n",
       "2      1628389        Bam Adebayo       Heat   Center     206     116   \n",
       "3      1630583       Santi Aldama  Grizzlies  Forward     211      98   \n",
       "4       200746  LaMarcus Aldridge       Nets   Center     211     113   \n",
       "..         ...                ...        ...      ...     ...     ...   \n",
       "455     201152     Thaddeus Young    Raptors  Forward     203     107   \n",
       "456    1629027         Trae Young      Hawks    Guard     185      74   \n",
       "457    1630209     Omer Yurtseven       Heat   Center     211     125   \n",
       "458     203469        Cody Zeller    Hornets  Forward     211     109   \n",
       "459    1627826        Ivica Zubac   Clippers   Center     213     109   \n",
       "\n",
       "         COUNTRY   BIRTHDATE  SEASON_EXP DRAFT_NUMBER      GP   MIN   PTS  \\\n",
       "0        Nigeria  1999-09-19           1           20   115.0  17.3   6.5   \n",
       "1    New Zealand  1993-07-20           8           12   648.0  26.8   9.3   \n",
       "2            USA  1997-07-18           4           14   326.0  28.0  13.2   \n",
       "3          Spain  2001-01-10           0           30    27.0  10.2   3.3   \n",
       "4            USA  1985-07-19          15            2  1073.0  33.7  19.1   \n",
       "..           ...         ...         ...          ...     ...   ...   ...   \n",
       "455          USA  1988-06-21          14           12  1066.0  29.5  12.9   \n",
       "456          USA  1998-09-19           3            5   262.0  33.4  25.0   \n",
       "457       Turkey  1998-06-19           0    Undrafted    45.0  13.7   6.0   \n",
       "458          USA  1992-10-05           9            4   494.0  22.2   8.5   \n",
       "459      Croatia  1997-03-18           5           32   343.0  18.7   8.2   \n",
       "\n",
       "     REB  AST  STL  BLK   GAME_DATE    Salary                           AGE  \n",
       "0    5.1  0.8  0.4  0.5  2022-03-06   2711280   22 years, 5 months, 25 days  \n",
       "1    7.9  1.4  0.9  0.9  2022-03-06  17073171   28 years, 7 months, 24 days  \n",
       "2    8.2  3.5  1.0  0.9  2022-03-07  28103550   24 years, 7 months, 26 days  \n",
       "3    2.4  0.5  0.1  0.3  2022-03-06   1994520    21 years, 2 months, 6 days  \n",
       "4    8.1  1.9  0.7  1.1  2022-03-06   2641691   36 years, 7 months, 25 days  \n",
       "..   ...  ...  ...  ...         ...       ...                           ...  \n",
       "455  5.9  1.8  1.4  0.4  2022-03-06  14190000   33 years, 8 months, 23 days  \n",
       "456  3.9  9.0  0.9  0.2  2022-03-07   8326471   23 years, 5 months, 25 days  \n",
       "457  5.7  1.0  0.3  0.4  2022-03-07   1489065   23 years, 8 months, 25 days  \n",
       "458  6.0  1.4  0.6  0.6         NaN   2389641   29 years, 5 months, 11 days  \n",
       "459  6.4  1.1  0.3  0.8  2022-03-06   7518518  24 years, 11 months, 26 days  \n",
       "\n",
       "[459 rows x 20 columns]"
      ]
     },
     "execution_count": 1,
     "metadata": {},
     "output_type": "execute_result"
    }
   ],
   "source": [
    "import pandas as pd\n",
    "data = pd.read_csv(\"https://raw.githubusercontent.com/anyoneai/notebooks/main/datasets/project2_players_df.csv\")\n",
    "data.dropna(subset=[\"PTS\"], inplace=True)\n",
    "data"
   ]
  },
  {
   "cell_type": "markdown",
   "id": "c3cc6b89-e698-4943-8562-160190b9cbd0",
   "metadata": {
    "id": "c3cc6b89-e698-4943-8562-160190b9cbd0"
   },
   "source": [
    "Let's have another look at our previously generated dataset. "
   ]
  },
  {
   "cell_type": "code",
   "execution_count": 2,
   "id": "b15fad73",
   "metadata": {},
   "outputs": [],
   "source": [
    "import matplotlib.pyplot as plt\n",
    "import seaborn as sns\n",
    "import pandas as pd\n",
    "import numpy as np\n",
    "from sklearn.model_selection import train_test_split\n",
    "from sklearn.metrics import mean_absolute_error,classification_report,f1_score,precision_score,recall_score\n",
    "from sklearn.metrics import plot_confusion_matrix,accuracy_score,confusion_matrix,ConfusionMatrixDisplay\n",
    "from sklearn.preprocessing import StandardScaler,MinMaxScaler\n",
    "from sklearn.linear_model import SGDRegressor,LogisticRegression\n",
    "from sklearn.tree import DecisionTreeRegressor\n",
    "from sklearn.dummy import DummyClassifier\n",
    "from imblearn.over_sampling import SMOTE\n",
    "\n",
    "import warnings\n",
    "warnings.filterwarnings('ignore')"
   ]
  },
  {
   "cell_type": "markdown",
   "id": "e098b76d-c520-474b-9998-a263354fe27b",
   "metadata": {
    "id": "e098b76d-c520-474b-9998-a263354fe27b"
   },
   "source": [
    "1.1. Plot all players statistics (\"PTS\", \"REB\", \"AST\",\"STL\",\"BLK\") against salary"
   ]
  },
  {
   "cell_type": "code",
   "execution_count": 3,
   "id": "50d589f1-25c1-48f8-88f3-e2c7f0e72625",
   "metadata": {
    "id": "50d589f1-25c1-48f8-88f3-e2c7f0e72625"
   },
   "outputs": [
    {
     "data": {
      "image/png": "[encoded data removed]",
      "text/plain": [
       "<Figure size 720x2160 with 5 Axes>"
      ]
     },
     "metadata": {
      "needs_background": "light"
     },
     "output_type": "display_data"
    }
   ],
   "source": [
    "plt.rcParams['figure.figsize'] = [10, 30]\n",
    "plt.subplot(5, 1, 1)\n",
    "graph=sns.scatterplot(x='PTS', y='Salary',data=data)\n",
    "plt.yticks(graph.get_yticks(), graph.get_yticks() / 1000000)\n",
    "plt.ylim(bottom=1)\n",
    "plt.ylabel('SALARY [millions of dollars]')\n",
    "plt.xlabel('Points per game')\n",
    "plt.title(\"Relationship between scoring (points per game) and salary\")\n",
    "\n",
    "plt.subplot(5, 1, 2)\n",
    "graph=sns.scatterplot(x='REB', y='Salary',data=data)\n",
    "plt.yticks(graph.get_yticks(), graph.get_yticks() / 1000000)\n",
    "plt.ylim(bottom=1)\n",
    "plt.ylabel('SALARY [millions of dollars]')\n",
    "plt.xlabel('Rebounds per game')\n",
    "plt.title(\"Relationship between rebounding and salary\")\n",
    "\n",
    "plt.subplot(5, 1, 3)\n",
    "graph=sns.scatterplot(x='AST', y='Salary',data=data)\n",
    "plt.yticks(graph.get_yticks(), graph.get_yticks() / 1000000)\n",
    "plt.ylim(bottom=1)\n",
    "plt.ylabel('SALARY [millions of dollars]')\n",
    "plt.xlabel('Assists per game')\n",
    "plt.title(\"Relationship between assists and salary\")\n",
    "\n",
    "plt.subplot(5, 1, 4)\n",
    "graph=sns.scatterplot(x='STL', y='Salary',data=data)\n",
    "plt.yticks(graph.get_yticks(), graph.get_yticks() / 1000000)\n",
    "plt.ylim(bottom=1)\n",
    "plt.ylabel('SALARY [millions of dollars]')\n",
    "plt.xlabel('Steals per game')\n",
    "plt.title(\"Relationship between Steals and salary\")\n",
    "\n",
    "plt.subplot(5, 1, 5)\n",
    "graph=sns.scatterplot(x='BLK', y='Salary',data=data)\n",
    "plt.yticks(graph.get_yticks(), graph.get_yticks() / 1000000)\n",
    "plt.ylim(bottom=1)\n",
    "plt.ylabel('SALARY [millions of dollars]')\n",
    "plt.xlabel('Blocks per game')\n",
    "plt.title(\"Relationship between Blocks and salary\")\n",
    "\n",
    "plt.show()"
   ]
  },
  {
   "cell_type": "markdown",
   "id": "bbf0fe81-4aed-4dd9-8500-0919b4ec1e07",
   "metadata": {
    "id": "bbf0fe81-4aed-4dd9-8500-0919b4ec1e07"
   },
   "source": [
    "1.2. What can we say about these distributions?"
   ]
  },
  {
   "cell_type": "markdown",
   "id": "7899a213",
   "metadata": {
    "id": "12b0fd30-0860-4ac3-8d52-5b072f1fd822"
   },
   "source": [
    "We can say that if we had to choose one feature to predict salary the best one would be points per game. The others have a correlation with the salary but it's not so marked."
   ]
  },
  {
   "cell_type": "markdown",
   "id": "17735366-22bf-4cd8-a392-9dfb01652da0",
   "metadata": {
    "id": "17735366-22bf-4cd8-a392-9dfb01652da0"
   },
   "source": [
    "### Splitting the Dataset"
   ]
  },
  {
   "cell_type": "markdown",
   "id": "02450fb0-829c-420b-b65c-ea553a9a81a2",
   "metadata": {
    "id": "02450fb0-829c-420b-b65c-ea553a9a81a2"
   },
   "source": [
    "1.3. Split the dataset into train and testing sets. Use the Sklearn function for train/test splitting. Make sure to set the random state for reproducibility."
   ]
  },
  {
   "cell_type": "code",
   "execution_count": 4,
   "id": "d532e0fb-e478-48a0-971b-1ad1d428fe95",
   "metadata": {
    "id": "d532e0fb-e478-48a0-971b-1ad1d428fe95"
   },
   "outputs": [],
   "source": [
    "X= data.drop(labels='Salary',axis=1)\n",
    "y= data.Salary\n",
    "X_train, X_test, y_train, y_test = train_test_split(X, y, test_size=0.3, random_state=42)"
   ]
  },
  {
   "cell_type": "markdown",
   "id": "6aec0deb-7efe-438c-8a4a-39f940aeb474",
   "metadata": {
    "id": "6aec0deb-7efe-438c-8a4a-39f940aeb474"
   },
   "source": [
    "### Baseline Model and Evaluation Metric"
   ]
  },
  {
   "cell_type": "markdown",
   "id": "40ca78ad-8dc1-4b13-99bd-27dcd138a809",
   "metadata": {
    "id": "40ca78ad-8dc1-4b13-99bd-27dcd138a809"
   },
   "source": [
    "In every project, we need a baseline model that implements a very simple algorithm or heuristic so we can compare our results with it. \n",
    "In this case, we could create a function that always returns the average player salary, evaluate that, and then compare the result with our modeling to see if we are improving. "
   ]
  },
  {
   "cell_type": "markdown",
   "id": "71a7eb29-2bdf-4faf-93e9-3206dbc9cca2",
   "metadata": {
    "id": "71a7eb29-2bdf-4faf-93e9-3206dbc9cca2"
   },
   "source": [
    "We need an evaluation metric to see how well our models fit the data. For this project we will use [Mean Absolute Error](https://scikit-learn.org/stable/modules/generated/sklearn.metrics.mean_absolute_error.html#sklearn.metrics.mean_absolute_error) as our regression evaluation metric, because it is a really simple metric to interpret. A lower value means the model performs better. \n",
    "\n",
    "For this particular problem, we will always round the value, as we don't need decimals for this task."
   ]
  },
  {
   "cell_type": "markdown",
   "id": "cefd619d-e6b0-4e70-acf8-f0f4a90fe896",
   "metadata": {
    "id": "cefd619d-e6b0-4e70-acf8-f0f4a90fe896"
   },
   "source": [
    "1.4. Create a Baseline model class that implements  fit() and predict() methods. As this model will not consider any other variable, the fit method should only receive a list of all players salaries. The predict method should receive and iterable and return a numpy array with the same length but every element should have the same value (the average salary)"
   ]
  },
  {
   "cell_type": "code",
   "execution_count": 5,
   "id": "8ee01164-1ef2-44dc-8baa-74b630444577",
   "metadata": {
    "id": "8ee01164-1ef2-44dc-8baa-74b630444577"
   },
   "outputs": [],
   "source": [
    "class BaselineModel():\n",
    "    \"\"\"A baseline model that always returns the same value, the mean of the players salary in the train data\"\"\"\n",
    "    def __init__(self):\n",
    "        self.mean_salary = None\n",
    "        '''\n",
    "        Initialize the variable in a null value.\n",
    "        '''\n",
    "    \n",
    "    def fit(self, y_train):\n",
    "        \"\"\"\n",
    "        Fit the training data. \n",
    "        \n",
    "        Parameters\n",
    "        ----------\n",
    "        y_train: Union[pd.Series, np.ndarray]\n",
    "            a pandas series or numpy array containing salary information\n",
    "        \"\"\"\n",
    "        self.mean_salary=round(y_train.mean(),2)\n",
    "    \n",
    "    def predict(self, X):\n",
    "        \"\"\"\n",
    "        Predict salaries \n",
    "        \n",
    "        Parameters\n",
    "        ----------\n",
    "        X: Union[pd.DataFrame, pd.Series, np.ndarray]\n",
    "            a pandas series, dataframe or numpy array with the \n",
    "            \n",
    "        Returns\n",
    "        -------\n",
    "        np.ndarray\n",
    "            a numpy array of the same length as X, with all elements equal to the mean salary calculated in fit()\n",
    "        \"\"\"\n",
    "        size=len(X)\n",
    "        return np.array([self.mean_salary]*size)"
   ]
  },
  {
   "cell_type": "code",
   "execution_count": 6,
   "id": "ce10feb1",
   "metadata": {},
   "outputs": [],
   "source": [
    "first_model=BaselineModel()\n",
    "first_model.fit(y_train)\n",
    "y_predict_base_model=first_model.predict(X_test)"
   ]
  },
  {
   "cell_type": "markdown",
   "id": "6a1a8134-48a4-4c66-84d2-39030242ef5f",
   "metadata": {
    "id": "6a1a8134-48a4-4c66-84d2-39030242ef5f"
   },
   "source": [
    "1.5. Evaluate the performance of our BaselineModel on the test set using mean_absolute_error from Sklearn (round the result)"
   ]
  },
  {
   "cell_type": "code",
   "execution_count": 7,
   "id": "fb72f39b-e7fc-4cd8-bd23-ee4407a80eed",
   "metadata": {
    "id": "fb72f39b-e7fc-4cd8-bd23-ee4407a80eed"
   },
   "outputs": [
    {
     "name": "stdout",
     "output_type": "stream",
     "text": [
      "Mean absolute error of Baseline Model: 6905402\n"
     ]
    }
   ],
   "source": [
    "baseline_mae=round(mean_absolute_error(y_test,y_predict_base_model))\n",
    "print('Mean absolute error of Baseline Model:',baseline_mae)"
   ]
  },
  {
   "cell_type": "markdown",
   "id": "fc4dff42-e36c-478d-bfd3-7541f3f36f16",
   "metadata": {
    "id": "fc4dff42-e36c-478d-bfd3-7541f3f36f16"
   },
   "source": [
    "### Regression with a single variable"
   ]
  },
  {
   "cell_type": "markdown",
   "id": "c9597b03-31fd-4a9c-8dad-9479666355cd",
   "metadata": {
    "id": "c9597b03-31fd-4a9c-8dad-9479666355cd"
   },
   "source": [
    "You're now going to start modeling data. We will start with a really simple approach, selecting just one variable, and doing a regression to see if we improve upon our baseline.\n"
   ]
  },
  {
   "cell_type": "markdown",
   "id": "af92eeac-cbfb-45cb-8626-246332c69624",
   "metadata": {
    "id": "af92eeac-cbfb-45cb-8626-246332c69624"
   },
   "source": [
    "1.6. Select the variable you think would provide the best fit. Perform feature scaling on this variable using a Sklearn scaler."
   ]
  },
  {
   "cell_type": "code",
   "execution_count": 8,
   "id": "173f1211-95e2-4bcb-ba7d-a40c516b4c24",
   "metadata": {
    "id": "173f1211-95e2-4bcb-ba7d-a40c516b4c24"
   },
   "outputs": [
    {
     "data": {
      "image/png": "[encoded data removed]",
      "text/plain": [
       "<Figure size 2160x2160 with 2 Axes>"
      ]
     },
     "metadata": {
      "needs_background": "light"
     },
     "output_type": "display_data"
    }
   ],
   "source": [
    "corr_table = data.set_index('PERSON_ID').corr(method='pearson').round(2)\n",
    "plt.figure(figsize = (30, 30))\n",
    "sns.heatmap(corr_table, annot=True, cmap=plt.cm.Reds,vmin=-1, vmax=1)\n",
    "plt.title('Correlation matrix')\n",
    "plt.show()"
   ]
  },
  {
   "cell_type": "markdown",
   "id": "8038d77b",
   "metadata": {},
   "source": [
    "I decide to select PTS column because has the highest correlation with salary."
   ]
  },
  {
   "cell_type": "code",
   "execution_count": 9,
   "id": "f6c3c52e",
   "metadata": {},
   "outputs": [
    {
     "data": {
      "image/png": "[encoded data removed]",
      "text/plain": [
       "<Figure size 720x360 with 1 Axes>"
      ]
     },
     "metadata": {
      "needs_background": "light"
     },
     "output_type": "display_data"
    }
   ],
   "source": [
    "plt.rcParams['figure.figsize'] = [10, 5]\n",
    "graph=sns.regplot(x='PTS', y='Salary',data=data)\n",
    "plt.yticks(graph.get_yticks(), graph.get_yticks() / 1000000)\n",
    "plt.ylabel('SALARY [millions of dollars]')\n",
    "plt.xlabel('Points per game')\n",
    "plt.title(\"Relationship between scoring (points per game) and salary with linear regression\")\n",
    "plt.show()"
   ]
  },
  {
   "cell_type": "code",
   "execution_count": 10,
   "id": "7ff6abfa",
   "metadata": {},
   "outputs": [
    {
     "data": {
      "image/png": "[encoded data removed]",
      "text/plain": [
       "<Figure size 720x360 with 1 Axes>"
      ]
     },
     "metadata": {
      "needs_background": "light"
     },
     "output_type": "display_data"
    }
   ],
   "source": [
    "sns.histplot(data=data.PTS)\n",
    "plt.title(\"Points per game distribution\")\n",
    "plt.axvline(data.PTS.mean(),color='red', label=\"MEAN\")\n",
    "plt.axvline(data.PTS.median(),color='green', label=\"MEDIAN\")\n",
    "plt.legend()\n",
    "plt.show()"
   ]
  },
  {
   "cell_type": "code",
   "execution_count": 11,
   "id": "ebae6250",
   "metadata": {},
   "outputs": [],
   "source": [
    "X= data.PTS\n",
    "y=data.Salary\n",
    "X_train, X_test, y_train, y_test = train_test_split(X, y, test_size=0.3, random_state=42)\n",
    "\n",
    "scaler = StandardScaler()\n",
    "X_train = scaler.fit_transform(np.array(X_train).reshape(-1, 1))\n",
    "X_test = scaler.transform(np.array(X_test).reshape(-1, 1))"
   ]
  },
  {
   "cell_type": "markdown",
   "id": "1c490e55-2bff-4a06-a01e-c6859d7edb52",
   "metadata": {
    "id": "1c490e55-2bff-4a06-a01e-c6859d7edb52"
   },
   "source": [
    "1.7. Train a model with [SGDRegressor](https://scikit-learn.org/stable/modules/generated/sklearn.linear_model.SGDRegressor.html) from Sklearn using the default parameters. Evaluate the model's performance on the test set using the selected metric."
   ]
  },
  {
   "cell_type": "code",
   "execution_count": 12,
   "id": "15d198ad-a601-4722-937b-3be52090c8d1",
   "metadata": {
    "id": "15d198ad-a601-4722-937b-3be52090c8d1"
   },
   "outputs": [
    {
     "name": "stdout",
     "output_type": "stream",
     "text": [
      "Mean absolute error of SGD Regressor Model with one feature: 4661663\n"
     ]
    }
   ],
   "source": [
    "model = SGDRegressor(random_state=42)\n",
    "model.fit(X_train,y_train)\n",
    "y_predict_sdg_unit_feature_model= model.predict(X_test)\n",
    "default_mae=round(mean_absolute_error(y_test,y_predict_sdg_unit_feature_model))\n",
    "print('Mean absolute error of SGD Regressor Model with one feature:',default_mae)"
   ]
  },
  {
   "cell_type": "markdown",
   "id": "e87147d9-5b57-4984-9f0d-e595cd6d15d3",
   "metadata": {
    "id": "e87147d9-5b57-4984-9f0d-e595cd6d15d3"
   },
   "source": [
    "1.8. Read the Sklearn documentation, and write a function that tries different configurations for the hyperparameters for training: epochs, learning rate and alpha. For each combination of parameters, evaluate the trained algorithm on the test set, then save the results of each hyperparameter combination, finally select the one that has the best MAE (meaning the lowest number) and print the combination and the MAE."
   ]
  },
  {
   "cell_type": "code",
   "execution_count": 13,
   "id": "9e1f26f4-1eb4-4ecc-bfc2-9d8583f00d0d",
   "metadata": {
    "id": "9e1f26f4-1eb4-4ecc-bfc2-9d8583f00d0d"
   },
   "outputs": [],
   "source": [
    "def search_best_hyperparameters(max_iter, eta0):\n",
    "    '''\n",
    "    This function searchs the best model hyperparameters (max_iter and eta0) based on Mean Absolute Error.\n",
    "    Display the result in a dict.\n",
    "    '''\n",
    "    mae_list=[]\n",
    "    hyp_max_iter_list=[]\n",
    "    hyp_eta0_list=[]\n",
    "    for hyp_max_iter in max_iter:\n",
    "        for hyp_eta0 in eta0:\n",
    "            model = SGDRegressor(max_iter=hyp_max_iter,eta0=hyp_eta0,random_state=42)\n",
    "            model.fit(X_train,y_train)\n",
    "            y_predict_sdg_unit_feature_model_hyp= model.predict(X_test)\n",
    "            mae=round(mean_absolute_error(y_test,y_predict_sdg_unit_feature_model_hyp))\n",
    "            mae_list.append(mae)\n",
    "            hyp_max_iter_list.append(hyp_max_iter)\n",
    "            hyp_eta0_list.append(hyp_eta0)\n",
    "            \n",
    "\n",
    "    array_mae=np.array(mae_list)\n",
    "\n",
    "    \n",
    "    result = {\n",
    "        \"hyperparameters\": {\"max_iter\": hyp_max_iter_list[np.argmin(array_mae)], \n",
    "                            \"eta0\": hyp_eta0_list[np.argmin(array_mae)]}, \n",
    "        \"mae\": array_mae.min()\n",
    "    }\n",
    "    return result"
   ]
  },
  {
   "cell_type": "code",
   "execution_count": 14,
   "id": "95ffbb3b-d161-4a29-9c48-eaff18b82412",
   "metadata": {
    "id": "95ffbb3b-d161-4a29-9c48-eaff18b82412"
   },
   "outputs": [
    {
     "name": "stdout",
     "output_type": "stream",
     "text": [
      "{'hyperparameters': {'max_iter': 1000, 'eta0': 0.0001}, 'mae': 4550421}\n"
     ]
    }
   ],
   "source": [
    "# Example list of hyperparameters values\n",
    "max_iter = [100,500,1000,5000,10000]\n",
    "eta0 = [0.0001, 0.001, 0.01, 0.1]\n",
    "\n",
    "result = search_best_hyperparameters(max_iter, eta0)\n",
    "best_mae=result['mae']\n",
    "print(result)"
   ]
  },
  {
   "cell_type": "code",
   "execution_count": 15,
   "id": "6d1e8647",
   "metadata": {},
   "outputs": [
    {
     "data": {
      "image/png": "[encoded data removed]",
      "text/plain": [
       "<Figure size 720x360 with 1 Axes>"
      ]
     },
     "metadata": {
      "needs_background": "light"
     },
     "output_type": "display_data"
    }
   ],
   "source": [
    "model=SGDRegressor(max_iter=result['hyperparameters']['max_iter'],eta0=result['hyperparameters']['eta0'],\n",
    "                   random_state=42)\n",
    "model.fit(X_train,y_train)\n",
    "plt.scatter(X_train, y_train, label='Training data', c='r',s=3)\n",
    "plt.scatter(X_test, y_test,label='Testing data', c='b', s=3)\n",
    "plt.plot(X_train, model.predict(X_train), label='Predicted linear regression', c='g')\n",
    "\n",
    "plt.yticks(graph.get_yticks(), graph.get_yticks() / 1000000)\n",
    "plt.ylabel('SALARY [millions of dollars]')\n",
    "plt.xlabel('Scaled Points per game')\n",
    "plt.title(\"Relationship between scoring and salary with predicted linear regression\")\n",
    "plt.legend()\n",
    "plt.show()"
   ]
  },
  {
   "cell_type": "markdown",
   "id": "776e0c7a-d592-4479-aec6-870edff61def",
   "metadata": {
    "id": "776e0c7a-d592-4479-aec6-870edff61def"
   },
   "source": [
    "1.9. Compare the results of the baseline, the SGDRegressor with default parameters and the one with the best combination of hyperparameters you could find. (replace variables with the ones you used)"
   ]
  },
  {
   "cell_type": "code",
   "execution_count": 16,
   "id": "2e520ef6-52ed-48dc-8450-03031f3a03a6",
   "metadata": {
    "id": "2e520ef6-52ed-48dc-8450-03031f3a03a6"
   },
   "outputs": [
    {
     "name": "stdout",
     "output_type": "stream",
     "text": [
      "Mean Absolute Error for each model:\n",
      "Baseline: 6905402\n",
      "Default SGDRegressor: 4661663\n",
      "Best SGDRegressor: 4550421\n"
     ]
    }
   ],
   "source": [
    "print(\"Mean Absolute Error for each model:\")\n",
    "print(f\"Baseline: {baseline_mae}\")\n",
    "print(f\"Default SGDRegressor: {default_mae}\")\n",
    "print(f\"Best SGDRegressor: {best_mae}\")"
   ]
  },
  {
   "cell_type": "markdown",
   "id": "19e281ec-d578-496d-9f5d-897a2e1986a2",
   "metadata": {
    "id": "19e281ec-d578-496d-9f5d-897a2e1986a2"
   },
   "source": [
    "### Multivariate Linear Regression"
   ]
  },
  {
   "cell_type": "markdown",
   "id": "4ff24d36-439a-478f-b0de-0021223f6e99",
   "metadata": {
    "id": "4ff24d36-439a-478f-b0de-0021223f6e99"
   },
   "source": [
    "To improve our model, we will add more features to it. We will have to do some processing to our dataset to be able to use the data.\n",
    "We'll start with the following variables:"
   ]
  },
  {
   "cell_type": "markdown",
   "id": "247f4716-496a-4040-9519-77f7a6839691",
   "metadata": {
    "id": "247f4716-496a-4040-9519-77f7a6839691"
   },
   "source": [
    "- Points\n",
    "- Rebounds\n",
    "- Assists\n",
    "- Blocks\n",
    "- Experience\n",
    "- Position\n",
    "- Draft Number\n"
   ]
  },
  {
   "cell_type": "markdown",
   "id": "7958f7ec-45a0-4deb-bb79-3daa756dbcca",
   "metadata": {
    "id": "7958f7ec-45a0-4deb-bb79-3daa756dbcca"
   },
   "source": [
    "1.10. Create a copy of the dataset generated in the first project that only has the following columns (and player id as an index):\n",
    "\n",
    "[\"PTS\", \"REB\", \"AST\", \"BLK\", \"SEASON_EXP\", \"POSITION\", \"DRAFT_NUMBER\", \"TEAM_NAME\", \"SALARY\"]"
   ]
  },
  {
   "cell_type": "code",
   "execution_count": 17,
   "id": "64b265b4-d4e5-40a6-a9c3-cce920ecaa1b",
   "metadata": {
    "id": "64b265b4-d4e5-40a6-a9c3-cce920ecaa1b"
   },
   "outputs": [
    {
     "data": {
      "text/html": [
       "<div>\n",
       "<style scoped>\n",
       "    .dataframe tbody tr th:only-of-type {\n",
       "        vertical-align: middle;\n",
       "    }\n",
       "\n",
       "    .dataframe tbody tr th {\n",
       "        vertical-align: top;\n",
       "    }\n",
       "\n",
       "    .dataframe thead th {\n",
       "        text-align: right;\n",
       "    }\n",
       "</style>\n",
       "<table border=\"1\" class=\"dataframe\">\n",
       "  <thead>\n",
       "    <tr style=\"text-align: right;\">\n",
       "      <th></th>\n",
       "      <th>PTS</th>\n",
       "      <th>REB</th>\n",
       "      <th>AST</th>\n",
       "      <th>BLK</th>\n",
       "      <th>SEASON_EXP</th>\n",
       "      <th>POSITION</th>\n",
       "      <th>DRAFT_NUMBER</th>\n",
       "      <th>TEAM_NAME</th>\n",
       "      <th>Salary</th>\n",
       "    </tr>\n",
       "  </thead>\n",
       "  <tbody>\n",
       "    <tr>\n",
       "      <th>0</th>\n",
       "      <td>6.5</td>\n",
       "      <td>5.1</td>\n",
       "      <td>0.8</td>\n",
       "      <td>0.5</td>\n",
       "      <td>1</td>\n",
       "      <td>Forward</td>\n",
       "      <td>20</td>\n",
       "      <td>Raptors</td>\n",
       "      <td>2711280</td>\n",
       "    </tr>\n",
       "    <tr>\n",
       "      <th>1</th>\n",
       "      <td>9.3</td>\n",
       "      <td>7.9</td>\n",
       "      <td>1.4</td>\n",
       "      <td>0.9</td>\n",
       "      <td>8</td>\n",
       "      <td>Center</td>\n",
       "      <td>12</td>\n",
       "      <td>Grizzlies</td>\n",
       "      <td>17073171</td>\n",
       "    </tr>\n",
       "    <tr>\n",
       "      <th>2</th>\n",
       "      <td>13.2</td>\n",
       "      <td>8.2</td>\n",
       "      <td>3.5</td>\n",
       "      <td>0.9</td>\n",
       "      <td>4</td>\n",
       "      <td>Center</td>\n",
       "      <td>14</td>\n",
       "      <td>Heat</td>\n",
       "      <td>28103550</td>\n",
       "    </tr>\n",
       "    <tr>\n",
       "      <th>3</th>\n",
       "      <td>3.3</td>\n",
       "      <td>2.4</td>\n",
       "      <td>0.5</td>\n",
       "      <td>0.3</td>\n",
       "      <td>0</td>\n",
       "      <td>Forward</td>\n",
       "      <td>30</td>\n",
       "      <td>Grizzlies</td>\n",
       "      <td>1994520</td>\n",
       "    </tr>\n",
       "    <tr>\n",
       "      <th>4</th>\n",
       "      <td>19.1</td>\n",
       "      <td>8.1</td>\n",
       "      <td>1.9</td>\n",
       "      <td>1.1</td>\n",
       "      <td>15</td>\n",
       "      <td>Center</td>\n",
       "      <td>2</td>\n",
       "      <td>Nets</td>\n",
       "      <td>2641691</td>\n",
       "    </tr>\n",
       "    <tr>\n",
       "      <th>...</th>\n",
       "      <td>...</td>\n",
       "      <td>...</td>\n",
       "      <td>...</td>\n",
       "      <td>...</td>\n",
       "      <td>...</td>\n",
       "      <td>...</td>\n",
       "      <td>...</td>\n",
       "      <td>...</td>\n",
       "      <td>...</td>\n",
       "    </tr>\n",
       "    <tr>\n",
       "      <th>455</th>\n",
       "      <td>12.9</td>\n",
       "      <td>5.9</td>\n",
       "      <td>1.8</td>\n",
       "      <td>0.4</td>\n",
       "      <td>14</td>\n",
       "      <td>Forward</td>\n",
       "      <td>12</td>\n",
       "      <td>Raptors</td>\n",
       "      <td>14190000</td>\n",
       "    </tr>\n",
       "    <tr>\n",
       "      <th>456</th>\n",
       "      <td>25.0</td>\n",
       "      <td>3.9</td>\n",
       "      <td>9.0</td>\n",
       "      <td>0.2</td>\n",
       "      <td>3</td>\n",
       "      <td>Guard</td>\n",
       "      <td>5</td>\n",
       "      <td>Hawks</td>\n",
       "      <td>8326471</td>\n",
       "    </tr>\n",
       "    <tr>\n",
       "      <th>457</th>\n",
       "      <td>6.0</td>\n",
       "      <td>5.7</td>\n",
       "      <td>1.0</td>\n",
       "      <td>0.4</td>\n",
       "      <td>0</td>\n",
       "      <td>Center</td>\n",
       "      <td>Undrafted</td>\n",
       "      <td>Heat</td>\n",
       "      <td>1489065</td>\n",
       "    </tr>\n",
       "    <tr>\n",
       "      <th>458</th>\n",
       "      <td>8.5</td>\n",
       "      <td>6.0</td>\n",
       "      <td>1.4</td>\n",
       "      <td>0.6</td>\n",
       "      <td>9</td>\n",
       "      <td>Forward</td>\n",
       "      <td>4</td>\n",
       "      <td>Hornets</td>\n",
       "      <td>2389641</td>\n",
       "    </tr>\n",
       "    <tr>\n",
       "      <th>459</th>\n",
       "      <td>8.2</td>\n",
       "      <td>6.4</td>\n",
       "      <td>1.1</td>\n",
       "      <td>0.8</td>\n",
       "      <td>5</td>\n",
       "      <td>Center</td>\n",
       "      <td>32</td>\n",
       "      <td>Clippers</td>\n",
       "      <td>7518518</td>\n",
       "    </tr>\n",
       "  </tbody>\n",
       "</table>\n",
       "<p>459 rows × 9 columns</p>\n",
       "</div>"
      ],
      "text/plain": [
       "      PTS  REB  AST  BLK  SEASON_EXP POSITION DRAFT_NUMBER  TEAM_NAME  \\\n",
       "0     6.5  5.1  0.8  0.5           1  Forward           20    Raptors   \n",
       "1     9.3  7.9  1.4  0.9           8   Center           12  Grizzlies   \n",
       "2    13.2  8.2  3.5  0.9           4   Center           14       Heat   \n",
       "3     3.3  2.4  0.5  0.3           0  Forward           30  Grizzlies   \n",
       "4    19.1  8.1  1.9  1.1          15   Center            2       Nets   \n",
       "..    ...  ...  ...  ...         ...      ...          ...        ...   \n",
       "455  12.9  5.9  1.8  0.4          14  Forward           12    Raptors   \n",
       "456  25.0  3.9  9.0  0.2           3    Guard            5      Hawks   \n",
       "457   6.0  5.7  1.0  0.4           0   Center    Undrafted       Heat   \n",
       "458   8.5  6.0  1.4  0.6           9  Forward            4    Hornets   \n",
       "459   8.2  6.4  1.1  0.8           5   Center           32   Clippers   \n",
       "\n",
       "       Salary  \n",
       "0     2711280  \n",
       "1    17073171  \n",
       "2    28103550  \n",
       "3     1994520  \n",
       "4     2641691  \n",
       "..        ...  \n",
       "455  14190000  \n",
       "456   8326471  \n",
       "457   1489065  \n",
       "458   2389641  \n",
       "459   7518518  \n",
       "\n",
       "[459 rows x 9 columns]"
      ]
     },
     "execution_count": 17,
     "metadata": {},
     "output_type": "execute_result"
    }
   ],
   "source": [
    "work_df=data.copy()\n",
    "work_df=work_df[[\"PTS\", \"REB\", \"AST\", \"BLK\", \"SEASON_EXP\", \"POSITION\", \"DRAFT_NUMBER\",\"TEAM_NAME\",\"Salary\"]]\n",
    "work_df"
   ]
  },
  {
   "cell_type": "markdown",
   "id": "4865eb6e-d85d-4283-a67c-93df46a5b72e",
   "metadata": {
    "id": "4865eb6e-d85d-4283-a67c-93df46a5b72e"
   },
   "source": [
    "#### Feature Engineering"
   ]
  },
  {
   "cell_type": "markdown",
   "id": "ec9b71e8-57aa-405a-8b3b-b0585a45d64d",
   "metadata": {
    "id": "ec9b71e8-57aa-405a-8b3b-b0585a45d64d"
   },
   "source": [
    "1.11. Binning the DRAFT_NUMBER feature. Draft position directly impacts salaries during the first few years, but second round players and undrafted players don't have guaranteed contracts. So we're gonna divide the bins like this: \n",
    "\n",
    "       - 1 to 15: firstround_lottery\n",
    "       - 15 to 30: firstround_non_lottery\n",
    "       - 30 to 60: second_round\n",
    "       - Undrafted: undrafted\n",
    "       \n",
    "Create a new column named DRAFT using these 4 categories. Drop the draft number column."
   ]
  },
  {
   "cell_type": "code",
   "execution_count": 18,
   "id": "3ea6afa9-7df8-446c-b134-c832f3ca27b7",
   "metadata": {
    "id": "3ea6afa9-7df8-446c-b134-c832f3ca27b7"
   },
   "outputs": [
    {
     "data": {
      "text/html": [
       "<div>\n",
       "<style scoped>\n",
       "    .dataframe tbody tr th:only-of-type {\n",
       "        vertical-align: middle;\n",
       "    }\n",
       "\n",
       "    .dataframe tbody tr th {\n",
       "        vertical-align: top;\n",
       "    }\n",
       "\n",
       "    .dataframe thead th {\n",
       "        text-align: right;\n",
       "    }\n",
       "</style>\n",
       "<table border=\"1\" class=\"dataframe\">\n",
       "  <thead>\n",
       "    <tr style=\"text-align: right;\">\n",
       "      <th></th>\n",
       "      <th>PTS</th>\n",
       "      <th>REB</th>\n",
       "      <th>AST</th>\n",
       "      <th>BLK</th>\n",
       "      <th>SEASON_EXP</th>\n",
       "      <th>POSITION</th>\n",
       "      <th>TEAM_NAME</th>\n",
       "      <th>Salary</th>\n",
       "      <th>DRAFT</th>\n",
       "    </tr>\n",
       "  </thead>\n",
       "  <tbody>\n",
       "    <tr>\n",
       "      <th>0</th>\n",
       "      <td>6.5</td>\n",
       "      <td>5.1</td>\n",
       "      <td>0.8</td>\n",
       "      <td>0.5</td>\n",
       "      <td>1</td>\n",
       "      <td>Forward</td>\n",
       "      <td>Raptors</td>\n",
       "      <td>2711280</td>\n",
       "      <td>firstround_non_lottery</td>\n",
       "    </tr>\n",
       "    <tr>\n",
       "      <th>1</th>\n",
       "      <td>9.3</td>\n",
       "      <td>7.9</td>\n",
       "      <td>1.4</td>\n",
       "      <td>0.9</td>\n",
       "      <td>8</td>\n",
       "      <td>Center</td>\n",
       "      <td>Grizzlies</td>\n",
       "      <td>17073171</td>\n",
       "      <td>firstround_lottery</td>\n",
       "    </tr>\n",
       "    <tr>\n",
       "      <th>2</th>\n",
       "      <td>13.2</td>\n",
       "      <td>8.2</td>\n",
       "      <td>3.5</td>\n",
       "      <td>0.9</td>\n",
       "      <td>4</td>\n",
       "      <td>Center</td>\n",
       "      <td>Heat</td>\n",
       "      <td>28103550</td>\n",
       "      <td>firstround_lottery</td>\n",
       "    </tr>\n",
       "    <tr>\n",
       "      <th>3</th>\n",
       "      <td>3.3</td>\n",
       "      <td>2.4</td>\n",
       "      <td>0.5</td>\n",
       "      <td>0.3</td>\n",
       "      <td>0</td>\n",
       "      <td>Forward</td>\n",
       "      <td>Grizzlies</td>\n",
       "      <td>1994520</td>\n",
       "      <td>firstround_non_lottery</td>\n",
       "    </tr>\n",
       "    <tr>\n",
       "      <th>4</th>\n",
       "      <td>19.1</td>\n",
       "      <td>8.1</td>\n",
       "      <td>1.9</td>\n",
       "      <td>1.1</td>\n",
       "      <td>15</td>\n",
       "      <td>Center</td>\n",
       "      <td>Nets</td>\n",
       "      <td>2641691</td>\n",
       "      <td>firstround_lottery</td>\n",
       "    </tr>\n",
       "    <tr>\n",
       "      <th>...</th>\n",
       "      <td>...</td>\n",
       "      <td>...</td>\n",
       "      <td>...</td>\n",
       "      <td>...</td>\n",
       "      <td>...</td>\n",
       "      <td>...</td>\n",
       "      <td>...</td>\n",
       "      <td>...</td>\n",
       "      <td>...</td>\n",
       "    </tr>\n",
       "    <tr>\n",
       "      <th>455</th>\n",
       "      <td>12.9</td>\n",
       "      <td>5.9</td>\n",
       "      <td>1.8</td>\n",
       "      <td>0.4</td>\n",
       "      <td>14</td>\n",
       "      <td>Forward</td>\n",
       "      <td>Raptors</td>\n",
       "      <td>14190000</td>\n",
       "      <td>firstround_lottery</td>\n",
       "    </tr>\n",
       "    <tr>\n",
       "      <th>456</th>\n",
       "      <td>25.0</td>\n",
       "      <td>3.9</td>\n",
       "      <td>9.0</td>\n",
       "      <td>0.2</td>\n",
       "      <td>3</td>\n",
       "      <td>Guard</td>\n",
       "      <td>Hawks</td>\n",
       "      <td>8326471</td>\n",
       "      <td>firstround_lottery</td>\n",
       "    </tr>\n",
       "    <tr>\n",
       "      <th>457</th>\n",
       "      <td>6.0</td>\n",
       "      <td>5.7</td>\n",
       "      <td>1.0</td>\n",
       "      <td>0.4</td>\n",
       "      <td>0</td>\n",
       "      <td>Center</td>\n",
       "      <td>Heat</td>\n",
       "      <td>1489065</td>\n",
       "      <td>Undrafted</td>\n",
       "    </tr>\n",
       "    <tr>\n",
       "      <th>458</th>\n",
       "      <td>8.5</td>\n",
       "      <td>6.0</td>\n",
       "      <td>1.4</td>\n",
       "      <td>0.6</td>\n",
       "      <td>9</td>\n",
       "      <td>Forward</td>\n",
       "      <td>Hornets</td>\n",
       "      <td>2389641</td>\n",
       "      <td>firstround_lottery</td>\n",
       "    </tr>\n",
       "    <tr>\n",
       "      <th>459</th>\n",
       "      <td>8.2</td>\n",
       "      <td>6.4</td>\n",
       "      <td>1.1</td>\n",
       "      <td>0.8</td>\n",
       "      <td>5</td>\n",
       "      <td>Center</td>\n",
       "      <td>Clippers</td>\n",
       "      <td>7518518</td>\n",
       "      <td>second_round</td>\n",
       "    </tr>\n",
       "  </tbody>\n",
       "</table>\n",
       "<p>459 rows × 9 columns</p>\n",
       "</div>"
      ],
      "text/plain": [
       "      PTS  REB  AST  BLK  SEASON_EXP POSITION  TEAM_NAME    Salary  \\\n",
       "0     6.5  5.1  0.8  0.5           1  Forward    Raptors   2711280   \n",
       "1     9.3  7.9  1.4  0.9           8   Center  Grizzlies  17073171   \n",
       "2    13.2  8.2  3.5  0.9           4   Center       Heat  28103550   \n",
       "3     3.3  2.4  0.5  0.3           0  Forward  Grizzlies   1994520   \n",
       "4    19.1  8.1  1.9  1.1          15   Center       Nets   2641691   \n",
       "..    ...  ...  ...  ...         ...      ...        ...       ...   \n",
       "455  12.9  5.9  1.8  0.4          14  Forward    Raptors  14190000   \n",
       "456  25.0  3.9  9.0  0.2           3    Guard      Hawks   8326471   \n",
       "457   6.0  5.7  1.0  0.4           0   Center       Heat   1489065   \n",
       "458   8.5  6.0  1.4  0.6           9  Forward    Hornets   2389641   \n",
       "459   8.2  6.4  1.1  0.8           5   Center   Clippers   7518518   \n",
       "\n",
       "                      DRAFT  \n",
       "0    firstround_non_lottery  \n",
       "1        firstround_lottery  \n",
       "2        firstround_lottery  \n",
       "3    firstround_non_lottery  \n",
       "4        firstround_lottery  \n",
       "..                      ...  \n",
       "455      firstround_lottery  \n",
       "456      firstround_lottery  \n",
       "457               Undrafted  \n",
       "458      firstround_lottery  \n",
       "459            second_round  \n",
       "\n",
       "[459 rows x 9 columns]"
      ]
     },
     "execution_count": 18,
     "metadata": {},
     "output_type": "execute_result"
    }
   ],
   "source": [
    "work_df['DRAFT_NUMBER']=work_df['DRAFT_NUMBER'].replace('Undrafted',np.nan).astype(float).astype('Int64')\n",
    "work_df['DRAFT']=pd.cut(x=work_df['DRAFT_NUMBER'], bins=[0, 15, 30, 60],\n",
    "       labels=['firstround_lottery','firstround_non_lottery','second_round'])\n",
    "work_df['DRAFT']=work_df.DRAFT.astype('str').replace(np.NaN,'Undrafted')\n",
    "work_df=work_df.drop('DRAFT_NUMBER', axis=1)\n",
    "work_df"
   ]
  },
  {
   "cell_type": "markdown",
   "id": "37a55237-cb04-4c38-bef3-8c363f9dbe5c",
   "metadata": {
    "id": "37a55237-cb04-4c38-bef3-8c363f9dbe5c"
   },
   "source": [
    "1.12. Encode the categorical features: DRAFT, POSITION and TEAM_NAME"
   ]
  },
  {
   "cell_type": "code",
   "execution_count": 19,
   "id": "c565394e-5d44-4418-a33b-eaa801062dbc",
   "metadata": {
    "id": "c565394e-5d44-4418-a33b-eaa801062dbc"
   },
   "outputs": [
    {
     "data": {
      "text/html": [
       "<div>\n",
       "<style scoped>\n",
       "    .dataframe tbody tr th:only-of-type {\n",
       "        vertical-align: middle;\n",
       "    }\n",
       "\n",
       "    .dataframe tbody tr th {\n",
       "        vertical-align: top;\n",
       "    }\n",
       "\n",
       "    .dataframe thead th {\n",
       "        text-align: right;\n",
       "    }\n",
       "</style>\n",
       "<table border=\"1\" class=\"dataframe\">\n",
       "  <thead>\n",
       "    <tr style=\"text-align: right;\">\n",
       "      <th></th>\n",
       "      <th>PTS</th>\n",
       "      <th>REB</th>\n",
       "      <th>AST</th>\n",
       "      <th>BLK</th>\n",
       "      <th>SEASON_EXP</th>\n",
       "      <th>Salary</th>\n",
       "      <th>DRAFT_Undrafted</th>\n",
       "      <th>DRAFT_firstround_lottery</th>\n",
       "      <th>DRAFT_firstround_non_lottery</th>\n",
       "      <th>DRAFT_second_round</th>\n",
       "      <th>...</th>\n",
       "      <th>TEAM_NAME_Pistons</th>\n",
       "      <th>TEAM_NAME_Raptors</th>\n",
       "      <th>TEAM_NAME_Rockets</th>\n",
       "      <th>TEAM_NAME_Spurs</th>\n",
       "      <th>TEAM_NAME_Suns</th>\n",
       "      <th>TEAM_NAME_Thunder</th>\n",
       "      <th>TEAM_NAME_Timberwolves</th>\n",
       "      <th>TEAM_NAME_Trail Blazers</th>\n",
       "      <th>TEAM_NAME_Warriors</th>\n",
       "      <th>TEAM_NAME_Wizards</th>\n",
       "    </tr>\n",
       "  </thead>\n",
       "  <tbody>\n",
       "    <tr>\n",
       "      <th>0</th>\n",
       "      <td>6.5</td>\n",
       "      <td>5.1</td>\n",
       "      <td>0.8</td>\n",
       "      <td>0.5</td>\n",
       "      <td>1</td>\n",
       "      <td>2711280</td>\n",
       "      <td>0</td>\n",
       "      <td>0</td>\n",
       "      <td>1</td>\n",
       "      <td>0</td>\n",
       "      <td>...</td>\n",
       "      <td>0</td>\n",
       "      <td>1</td>\n",
       "      <td>0</td>\n",
       "      <td>0</td>\n",
       "      <td>0</td>\n",
       "      <td>0</td>\n",
       "      <td>0</td>\n",
       "      <td>0</td>\n",
       "      <td>0</td>\n",
       "      <td>0</td>\n",
       "    </tr>\n",
       "    <tr>\n",
       "      <th>1</th>\n",
       "      <td>9.3</td>\n",
       "      <td>7.9</td>\n",
       "      <td>1.4</td>\n",
       "      <td>0.9</td>\n",
       "      <td>8</td>\n",
       "      <td>17073171</td>\n",
       "      <td>0</td>\n",
       "      <td>1</td>\n",
       "      <td>0</td>\n",
       "      <td>0</td>\n",
       "      <td>...</td>\n",
       "      <td>0</td>\n",
       "      <td>0</td>\n",
       "      <td>0</td>\n",
       "      <td>0</td>\n",
       "      <td>0</td>\n",
       "      <td>0</td>\n",
       "      <td>0</td>\n",
       "      <td>0</td>\n",
       "      <td>0</td>\n",
       "      <td>0</td>\n",
       "    </tr>\n",
       "    <tr>\n",
       "      <th>2</th>\n",
       "      <td>13.2</td>\n",
       "      <td>8.2</td>\n",
       "      <td>3.5</td>\n",
       "      <td>0.9</td>\n",
       "      <td>4</td>\n",
       "      <td>28103550</td>\n",
       "      <td>0</td>\n",
       "      <td>1</td>\n",
       "      <td>0</td>\n",
       "      <td>0</td>\n",
       "      <td>...</td>\n",
       "      <td>0</td>\n",
       "      <td>0</td>\n",
       "      <td>0</td>\n",
       "      <td>0</td>\n",
       "      <td>0</td>\n",
       "      <td>0</td>\n",
       "      <td>0</td>\n",
       "      <td>0</td>\n",
       "      <td>0</td>\n",
       "      <td>0</td>\n",
       "    </tr>\n",
       "    <tr>\n",
       "      <th>3</th>\n",
       "      <td>3.3</td>\n",
       "      <td>2.4</td>\n",
       "      <td>0.5</td>\n",
       "      <td>0.3</td>\n",
       "      <td>0</td>\n",
       "      <td>1994520</td>\n",
       "      <td>0</td>\n",
       "      <td>0</td>\n",
       "      <td>1</td>\n",
       "      <td>0</td>\n",
       "      <td>...</td>\n",
       "      <td>0</td>\n",
       "      <td>0</td>\n",
       "      <td>0</td>\n",
       "      <td>0</td>\n",
       "      <td>0</td>\n",
       "      <td>0</td>\n",
       "      <td>0</td>\n",
       "      <td>0</td>\n",
       "      <td>0</td>\n",
       "      <td>0</td>\n",
       "    </tr>\n",
       "    <tr>\n",
       "      <th>4</th>\n",
       "      <td>19.1</td>\n",
       "      <td>8.1</td>\n",
       "      <td>1.9</td>\n",
       "      <td>1.1</td>\n",
       "      <td>15</td>\n",
       "      <td>2641691</td>\n",
       "      <td>0</td>\n",
       "      <td>1</td>\n",
       "      <td>0</td>\n",
       "      <td>0</td>\n",
       "      <td>...</td>\n",
       "      <td>0</td>\n",
       "      <td>0</td>\n",
       "      <td>0</td>\n",
       "      <td>0</td>\n",
       "      <td>0</td>\n",
       "      <td>0</td>\n",
       "      <td>0</td>\n",
       "      <td>0</td>\n",
       "      <td>0</td>\n",
       "      <td>0</td>\n",
       "    </tr>\n",
       "    <tr>\n",
       "      <th>...</th>\n",
       "      <td>...</td>\n",
       "      <td>...</td>\n",
       "      <td>...</td>\n",
       "      <td>...</td>\n",
       "      <td>...</td>\n",
       "      <td>...</td>\n",
       "      <td>...</td>\n",
       "      <td>...</td>\n",
       "      <td>...</td>\n",
       "      <td>...</td>\n",
       "      <td>...</td>\n",
       "      <td>...</td>\n",
       "      <td>...</td>\n",
       "      <td>...</td>\n",
       "      <td>...</td>\n",
       "      <td>...</td>\n",
       "      <td>...</td>\n",
       "      <td>...</td>\n",
       "      <td>...</td>\n",
       "      <td>...</td>\n",
       "      <td>...</td>\n",
       "    </tr>\n",
       "    <tr>\n",
       "      <th>455</th>\n",
       "      <td>12.9</td>\n",
       "      <td>5.9</td>\n",
       "      <td>1.8</td>\n",
       "      <td>0.4</td>\n",
       "      <td>14</td>\n",
       "      <td>14190000</td>\n",
       "      <td>0</td>\n",
       "      <td>1</td>\n",
       "      <td>0</td>\n",
       "      <td>0</td>\n",
       "      <td>...</td>\n",
       "      <td>0</td>\n",
       "      <td>1</td>\n",
       "      <td>0</td>\n",
       "      <td>0</td>\n",
       "      <td>0</td>\n",
       "      <td>0</td>\n",
       "      <td>0</td>\n",
       "      <td>0</td>\n",
       "      <td>0</td>\n",
       "      <td>0</td>\n",
       "    </tr>\n",
       "    <tr>\n",
       "      <th>456</th>\n",
       "      <td>25.0</td>\n",
       "      <td>3.9</td>\n",
       "      <td>9.0</td>\n",
       "      <td>0.2</td>\n",
       "      <td>3</td>\n",
       "      <td>8326471</td>\n",
       "      <td>0</td>\n",
       "      <td>1</td>\n",
       "      <td>0</td>\n",
       "      <td>0</td>\n",
       "      <td>...</td>\n",
       "      <td>0</td>\n",
       "      <td>0</td>\n",
       "      <td>0</td>\n",
       "      <td>0</td>\n",
       "      <td>0</td>\n",
       "      <td>0</td>\n",
       "      <td>0</td>\n",
       "      <td>0</td>\n",
       "      <td>0</td>\n",
       "      <td>0</td>\n",
       "    </tr>\n",
       "    <tr>\n",
       "      <th>457</th>\n",
       "      <td>6.0</td>\n",
       "      <td>5.7</td>\n",
       "      <td>1.0</td>\n",
       "      <td>0.4</td>\n",
       "      <td>0</td>\n",
       "      <td>1489065</td>\n",
       "      <td>1</td>\n",
       "      <td>0</td>\n",
       "      <td>0</td>\n",
       "      <td>0</td>\n",
       "      <td>...</td>\n",
       "      <td>0</td>\n",
       "      <td>0</td>\n",
       "      <td>0</td>\n",
       "      <td>0</td>\n",
       "      <td>0</td>\n",
       "      <td>0</td>\n",
       "      <td>0</td>\n",
       "      <td>0</td>\n",
       "      <td>0</td>\n",
       "      <td>0</td>\n",
       "    </tr>\n",
       "    <tr>\n",
       "      <th>458</th>\n",
       "      <td>8.5</td>\n",
       "      <td>6.0</td>\n",
       "      <td>1.4</td>\n",
       "      <td>0.6</td>\n",
       "      <td>9</td>\n",
       "      <td>2389641</td>\n",
       "      <td>0</td>\n",
       "      <td>1</td>\n",
       "      <td>0</td>\n",
       "      <td>0</td>\n",
       "      <td>...</td>\n",
       "      <td>0</td>\n",
       "      <td>0</td>\n",
       "      <td>0</td>\n",
       "      <td>0</td>\n",
       "      <td>0</td>\n",
       "      <td>0</td>\n",
       "      <td>0</td>\n",
       "      <td>0</td>\n",
       "      <td>0</td>\n",
       "      <td>0</td>\n",
       "    </tr>\n",
       "    <tr>\n",
       "      <th>459</th>\n",
       "      <td>8.2</td>\n",
       "      <td>6.4</td>\n",
       "      <td>1.1</td>\n",
       "      <td>0.8</td>\n",
       "      <td>5</td>\n",
       "      <td>7518518</td>\n",
       "      <td>0</td>\n",
       "      <td>0</td>\n",
       "      <td>0</td>\n",
       "      <td>1</td>\n",
       "      <td>...</td>\n",
       "      <td>0</td>\n",
       "      <td>0</td>\n",
       "      <td>0</td>\n",
       "      <td>0</td>\n",
       "      <td>0</td>\n",
       "      <td>0</td>\n",
       "      <td>0</td>\n",
       "      <td>0</td>\n",
       "      <td>0</td>\n",
       "      <td>0</td>\n",
       "    </tr>\n",
       "  </tbody>\n",
       "</table>\n",
       "<p>459 rows × 43 columns</p>\n",
       "</div>"
      ],
      "text/plain": [
       "      PTS  REB  AST  BLK  SEASON_EXP    Salary  DRAFT_Undrafted  \\\n",
       "0     6.5  5.1  0.8  0.5           1   2711280                0   \n",
       "1     9.3  7.9  1.4  0.9           8  17073171                0   \n",
       "2    13.2  8.2  3.5  0.9           4  28103550                0   \n",
       "3     3.3  2.4  0.5  0.3           0   1994520                0   \n",
       "4    19.1  8.1  1.9  1.1          15   2641691                0   \n",
       "..    ...  ...  ...  ...         ...       ...              ...   \n",
       "455  12.9  5.9  1.8  0.4          14  14190000                0   \n",
       "456  25.0  3.9  9.0  0.2           3   8326471                0   \n",
       "457   6.0  5.7  1.0  0.4           0   1489065                1   \n",
       "458   8.5  6.0  1.4  0.6           9   2389641                0   \n",
       "459   8.2  6.4  1.1  0.8           5   7518518                0   \n",
       "\n",
       "     DRAFT_firstround_lottery  DRAFT_firstround_non_lottery  \\\n",
       "0                           0                             1   \n",
       "1                           1                             0   \n",
       "2                           1                             0   \n",
       "3                           0                             1   \n",
       "4                           1                             0   \n",
       "..                        ...                           ...   \n",
       "455                         1                             0   \n",
       "456                         1                             0   \n",
       "457                         0                             0   \n",
       "458                         1                             0   \n",
       "459                         0                             0   \n",
       "\n",
       "     DRAFT_second_round  ...  TEAM_NAME_Pistons  TEAM_NAME_Raptors  \\\n",
       "0                     0  ...                  0                  1   \n",
       "1                     0  ...                  0                  0   \n",
       "2                     0  ...                  0                  0   \n",
       "3                     0  ...                  0                  0   \n",
       "4                     0  ...                  0                  0   \n",
       "..                  ...  ...                ...                ...   \n",
       "455                   0  ...                  0                  1   \n",
       "456                   0  ...                  0                  0   \n",
       "457                   0  ...                  0                  0   \n",
       "458                   0  ...                  0                  0   \n",
       "459                   1  ...                  0                  0   \n",
       "\n",
       "     TEAM_NAME_Rockets  TEAM_NAME_Spurs  TEAM_NAME_Suns  TEAM_NAME_Thunder  \\\n",
       "0                    0                0               0                  0   \n",
       "1                    0                0               0                  0   \n",
       "2                    0                0               0                  0   \n",
       "3                    0                0               0                  0   \n",
       "4                    0                0               0                  0   \n",
       "..                 ...              ...             ...                ...   \n",
       "455                  0                0               0                  0   \n",
       "456                  0                0               0                  0   \n",
       "457                  0                0               0                  0   \n",
       "458                  0                0               0                  0   \n",
       "459                  0                0               0                  0   \n",
       "\n",
       "     TEAM_NAME_Timberwolves  TEAM_NAME_Trail Blazers  TEAM_NAME_Warriors  \\\n",
       "0                         0                        0                   0   \n",
       "1                         0                        0                   0   \n",
       "2                         0                        0                   0   \n",
       "3                         0                        0                   0   \n",
       "4                         0                        0                   0   \n",
       "..                      ...                      ...                 ...   \n",
       "455                       0                        0                   0   \n",
       "456                       0                        0                   0   \n",
       "457                       0                        0                   0   \n",
       "458                       0                        0                   0   \n",
       "459                       0                        0                   0   \n",
       "\n",
       "     TEAM_NAME_Wizards  \n",
       "0                    0  \n",
       "1                    0  \n",
       "2                    0  \n",
       "3                    0  \n",
       "4                    0  \n",
       "..                 ...  \n",
       "455                  0  \n",
       "456                  0  \n",
       "457                  0  \n",
       "458                  0  \n",
       "459                  0  \n",
       "\n",
       "[459 rows x 43 columns]"
      ]
     },
     "execution_count": 19,
     "metadata": {},
     "output_type": "execute_result"
    }
   ],
   "source": [
    "df_dummies=pd.get_dummies(work_df[['DRAFT','POSITION','TEAM_NAME']])\n",
    "work_df=pd.concat([work_df,df_dummies],axis=1)\n",
    "work_df=work_df.drop(['DRAFT','POSITION','TEAM_NAME'], axis=1)\n",
    "work_df"
   ]
  },
  {
   "cell_type": "markdown",
   "id": "9816d9d4-b44d-4bb7-9cad-156daee9dc50",
   "metadata": {
    "id": "9816d9d4-b44d-4bb7-9cad-156daee9dc50"
   },
   "source": [
    "#### Modeling"
   ]
  },
  {
   "cell_type": "markdown",
   "id": "1eb528f1-852e-428e-b97c-40b412985f98",
   "metadata": {
    "id": "1eb528f1-852e-428e-b97c-40b412985f98"
   },
   "source": [
    "1.13. Split the dataset into train and test"
   ]
  },
  {
   "cell_type": "code",
   "execution_count": 20,
   "id": "7696efd0-94f8-49ce-846f-4fd24a01b0fd",
   "metadata": {
    "id": "7696efd0-94f8-49ce-846f-4fd24a01b0fd"
   },
   "outputs": [],
   "source": [
    "X= work_df.drop(labels='Salary',axis=1)\n",
    "y= work_df.Salary\n",
    "X_train, X_test, y_train, y_test = train_test_split(X, y, test_size=0.3, random_state=42)"
   ]
  },
  {
   "cell_type": "markdown",
   "id": "b2540df8-ac16-4ad1-b8cf-028f566faa06",
   "metadata": {
    "id": "b2540df8-ac16-4ad1-b8cf-028f566faa06"
   },
   "source": [
    "1.14. Perform feature scaling in all the numerical features (\"PTS\", \"REB\", \"AST\", \"BLK\", \"SEASON_EXP\") except for draft number"
   ]
  },
  {
   "cell_type": "code",
   "execution_count": 21,
   "id": "94c1b356-8f74-4a20-8b9d-9dd61b6e3dec",
   "metadata": {
    "id": "94c1b356-8f74-4a20-8b9d-9dd61b6e3dec"
   },
   "outputs": [],
   "source": [
    "X_train[[\"PTS\", \"REB\", \"AST\", \"BLK\", \"SEASON_EXP\"]]= scaler.fit_transform(\n",
    "                                                    X_train[[\"PTS\", \"REB\", \"AST\", \"BLK\", \"SEASON_EXP\"]]\n",
    "                                                    )\n",
    "X_test[[\"PTS\", \"REB\", \"AST\", \"BLK\", \"SEASON_EXP\"]]= scaler.transform(\n",
    "                                                    X_test[[\"PTS\", \"REB\", \"AST\", \"BLK\", \"SEASON_EXP\"]]\n",
    "                                                    )"
   ]
  },
  {
   "cell_type": "markdown",
   "id": "7790c25a-b516-4e3f-b311-6e5b026bfb80",
   "metadata": {
    "id": "7790c25a-b516-4e3f-b311-6e5b026bfb80"
   },
   "source": [
    "1.15. Write a function to train a SGDRegressor model with the new dataset, trying different hyperparameters, and selecting the one that performs the best."
   ]
  },
  {
   "cell_type": "code",
   "execution_count": 22,
   "id": "7d8642f3-895c-4d8d-85b7-80a087a0adef",
   "metadata": {
    "id": "7d8642f3-895c-4d8d-85b7-80a087a0adef"
   },
   "outputs": [
    {
     "name": "stdout",
     "output_type": "stream",
     "text": [
      "Mean absolute error of SGD Regressor Model with one feature: 4935712\n"
     ]
    }
   ],
   "source": [
    "#model with default hyperparameters\n",
    "model = SGDRegressor(random_state=42)\n",
    "model.fit(X_train,y_train)\n",
    "y_predict_sdg_multiple_feature_model= model.predict(X_test)\n",
    "default_mae_multiple_features=round(mean_absolute_error(y_test,y_predict_sdg_multiple_feature_model))\n",
    "print('Mean absolute error of SGD Regressor Model with one feature:',default_mae_multiple_features)"
   ]
  },
  {
   "cell_type": "code",
   "execution_count": 23,
   "id": "7626a8a2",
   "metadata": {},
   "outputs": [],
   "source": [
    "def search_best_hyperparameters_2(max_iter, eta0,alpha,penalty):\n",
    "    '''\n",
    "    This function searchs the best model hyperparameters (max_iter, eta0, alpha and penalty) based on\n",
    "    Mean Absolute Error.\n",
    "    Display the result in a dict.\n",
    "    '''\n",
    "    mae_list=[]\n",
    "    hyp_max_iter_list=[]\n",
    "    hyp_eta0_list=[]\n",
    "    hyp_alpha_list=[]\n",
    "    hyp_penalty_list=[]\n",
    "    for hyp_max_iter in max_iter:\n",
    "        for hyp_eta0 in eta0:\n",
    "            for hyp_alpha in alpha:\n",
    "                for hyp_penalty in penalty:\n",
    "                    model = SGDRegressor(max_iter=hyp_max_iter,eta0=hyp_eta0,alpha=hyp_alpha,penalty=hyp_penalty\n",
    "                                         ,random_state=42)\n",
    "                    model.fit(X_train,y_train)\n",
    "                    y_predict_sdg_multiple_feature_model_hyp= model.predict(X_test)\n",
    "                    mae=round(mean_absolute_error(y_test,y_predict_sdg_multiple_feature_model_hyp))\n",
    "                    mae_list.append(mae)\n",
    "                    hyp_max_iter_list.append(hyp_max_iter)\n",
    "                    hyp_eta0_list.append(hyp_eta0)\n",
    "                    hyp_alpha_list.append(hyp_alpha)\n",
    "                    hyp_penalty_list.append(hyp_penalty)\n",
    "                    \n",
    "    array_mae=np.array(mae_list)\n",
    "\n",
    "    \n",
    "    result = {\n",
    "        \"hyperparameters\": {\"max_iter\": hyp_max_iter_list[np.argmin(array_mae)], \n",
    "                            \"eta0\": hyp_eta0_list[np.argmin(array_mae)],\n",
    "                            \"alpha\": hyp_alpha_list[np.argmin(array_mae)],\n",
    "                           \"penalty\": hyp_penalty_list[np.argmin(array_mae)]}, \n",
    "        \"mae\": array_mae.min()\n",
    "    }\n",
    "    return result"
   ]
  },
  {
   "cell_type": "code",
   "execution_count": 24,
   "id": "f00d7292",
   "metadata": {},
   "outputs": [],
   "source": [
    "# Example list of hyperparameters values\n",
    "max_iter = [100,500,1000,5000,10000]\n",
    "eta0 = [0.0001, 0.001, 0.01, 0.1,0.5]\n",
    "penalty=['l2','l1','elasticnet']\n",
    "alphas = [0.0001, 0.001, 0.01, 0.1,0.5]\n",
    "\n",
    "result = search_best_hyperparameters_2(max_iter,eta0,alphas,penalty)\n",
    "best_mae_multiple_features=result['mae']\n"
   ]
  },
  {
   "cell_type": "code",
   "execution_count": 25,
   "id": "5b571a57",
   "metadata": {},
   "outputs": [
    {
     "name": "stdout",
     "output_type": "stream",
     "text": [
      "{'hyperparameters': {'max_iter': 1000, 'eta0': 0.0001, 'alpha': 0.5, 'penalty': 'l2'}, 'mae': 4606594}\n"
     ]
    }
   ],
   "source": [
    "print(result)"
   ]
  },
  {
   "cell_type": "markdown",
   "id": "33d63bc7-448d-40a6-a314-6602c75e2284",
   "metadata": {
    "id": "33d63bc7-448d-40a6-a314-6602c75e2284"
   },
   "source": [
    "1.16. How did the model performed compared to our univariate models? "
   ]
  },
  {
   "cell_type": "code",
   "execution_count": 26,
   "id": "b8dc264b-1fde-4de3-9099-a526210075fa",
   "metadata": {
    "id": "b8dc264b-1fde-4de3-9099-a526210075fa"
   },
   "outputs": [
    {
     "name": "stdout",
     "output_type": "stream",
     "text": [
      "Default SGDRegressor one feature: 4661663\n",
      "Best SGDRegressor one feature: 4550421\n",
      "Default SGDRegressor multiple feature: 4935712\n",
      "Best SGDRegressor mulltiple feature: 4606594\n"
     ]
    }
   ],
   "source": [
    "print(f\"Default SGDRegressor one feature: {default_mae}\")\n",
    "print(f\"Best SGDRegressor one feature: {best_mae}\")\n",
    "print(f\"Default SGDRegressor multiple feature: {default_mae_multiple_features}\")\n",
    "print(f\"Best SGDRegressor mulltiple feature: {best_mae_multiple_features}\")"
   ]
  },
  {
   "cell_type": "markdown",
   "id": "4d43e65f",
   "metadata": {},
   "source": [
    "In this case the sgd regressor with multiple features is slightly worst than the univariate model. I think it's because the complexity of this model isnt enough to solve this multi-feature problem. Maybe more feature can confuse the model. However we can see that the search of hyperparameters improves the error, in both cases. "
   ]
  },
  {
   "cell_type": "markdown",
   "id": "e9992197-563b-4a69-9cd7-97fcb9ee3677",
   "metadata": {
    "id": "e9992197-563b-4a69-9cd7-97fcb9ee3677",
    "tags": []
   },
   "source": [
    "### DecisionTreeRegressor\n",
    "\n",
    "It is possible that this problem might not be easily resolvable by a linear model, or that there could be better types of algorithms to tackle it. As an example, let's try with a very used algorithm, a Decision Tree.\n",
    "\n"
   ]
  },
  {
   "cell_type": "markdown",
   "id": "61930247-d4b0-4bdf-ad98-a421457e2c4a",
   "metadata": {
    "id": "61930247-d4b0-4bdf-ad98-a421457e2c4a"
   },
   "source": [
    "1.17. Create new model using [DecisionTreeRegressor](https://scikit-learn.org/stable/auto_examples/tree/plot_tree_regression.html) from scikit learn. We will use again all variables, and try different configuration for the following hyperparameters:\n",
    "\n",
    "- max_depth\n",
    "- min_samples_leaf\n",
    "- max_features\n",
    "\n",
    "These are all regularization hyperparameters for this algorithm. Read the documentation to get a better grasp of what each one does."
   ]
  },
  {
   "cell_type": "code",
   "execution_count": 27,
   "id": "be5af833",
   "metadata": {},
   "outputs": [
    {
     "name": "stdout",
     "output_type": "stream",
     "text": [
      "Mean absolute error of DecisionTreeRegressor Model with default parameter: 4433805\n"
     ]
    }
   ],
   "source": [
    "model = DecisionTreeRegressor(random_state=42)\n",
    "model.fit(X_train,y_train)\n",
    "y_predict_DecisionTreeRegressor_model= model.predict(X_test)\n",
    "default_mae_DecisionTreeRegressor=round(mean_absolute_error(y_test,y_predict_DecisionTreeRegressor_model))\n",
    "print('Mean absolute error of DecisionTreeRegressor Model with default parameter:',default_mae_DecisionTreeRegressor)"
   ]
  },
  {
   "cell_type": "code",
   "execution_count": 28,
   "id": "6809bcc3",
   "metadata": {},
   "outputs": [],
   "source": [
    "def search_best_hyperparameters_decision_tree(max_depth, min_samples_leaf,max_features,X_train,y_train,X_test,y_test):\n",
    "    '''\n",
    "    This function searchs the best model hyperparameters (max_depth, min_samples_leaf,max_features) based on\n",
    "    Mean Absolute Error.\n",
    "    Display the result in a dict.\n",
    "    '''\n",
    "    mae_list=[]\n",
    "    hyp_max_depth_list=[]\n",
    "    hyp_min_samples_leaf_list=[]\n",
    "    hyp_max_features_list=[]\n",
    "    for hyp_max_depth in max_depth:\n",
    "        for hyp_min_samples_leaf in min_samples_leaf:\n",
    "            for hyp_max_features in max_features:\n",
    "                model = DecisionTreeRegressor(max_depth=hyp_max_depth,min_samples_leaf=hyp_min_samples_leaf,\n",
    "                                              max_features=hyp_max_features,random_state=42)\n",
    "                model.fit(X_train,y_train)\n",
    "                y_predict_decision_tree_model_hyp= model.predict(X_test)\n",
    "                mae=round(mean_absolute_error(y_test,y_predict_decision_tree_model_hyp))\n",
    "                mae_list.append(mae)\n",
    "                \n",
    "                hyp_max_depth_list.append(hyp_max_depth)\n",
    "                hyp_min_samples_leaf_list.append(hyp_min_samples_leaf)\n",
    "                hyp_max_features_list.append(hyp_max_features)\n",
    "\n",
    "    array_mae=np.array(mae_list)\n",
    "\n",
    "    \n",
    "    result = {\n",
    "        \"hyperparameters\": {\"max_depth\": hyp_max_depth_list[np.argmin(array_mae)], \n",
    "                            \"min_samples_leaf\": hyp_min_samples_leaf_list[np.argmin(array_mae)],\n",
    "                            \"max_features\":hyp_max_features_list[np.argmin(array_mae)]\n",
    "                           }, \n",
    "        \"mae\": array_mae.min()\n",
    "    }\n",
    "    return result"
   ]
  },
  {
   "cell_type": "code",
   "execution_count": 29,
   "id": "d393cdae-c2d7-40a0-a518-19f007edb242",
   "metadata": {
    "id": "d393cdae-c2d7-40a0-a518-19f007edb242"
   },
   "outputs": [
    {
     "name": "stdout",
     "output_type": "stream",
     "text": [
      "{'hyperparameters': {'max_depth': 15, 'min_samples_leaf': 2, 'max_features': 10}, 'mae': 3579341}\n"
     ]
    }
   ],
   "source": [
    "# List of hyperparameter example values\n",
    "max_depth = [5, 10, 15, 20, 50, None]\n",
    "min_samples_leaf = [1, 2, 10, 20, 50]\n",
    "max_features = [5, 10,'auto', 'sqrt', 'log2']\n",
    "\n",
    "result = search_best_hyperparameters_decision_tree(max_depth, min_samples_leaf,max_features,X_train,y_train,X_test,\n",
    "                                                   y_test)\n",
    "best_mae_decision_tree=result['mae']\n",
    "print(result)"
   ]
  },
  {
   "cell_type": "markdown",
   "id": "71ef72fc-7386-433c-9725-2055f4016ae9",
   "metadata": {
    "id": "71ef72fc-7386-433c-9725-2055f4016ae9"
   },
   "source": [
    "1.18. Compare the results obtained with the best decision tree model against the baseline, default and the best params sgd regressors-"
   ]
  },
  {
   "cell_type": "code",
   "execution_count": 30,
   "id": "af1084d8-97a4-4618-b4f4-0952e0b39f09",
   "metadata": {
    "id": "af1084d8-97a4-4618-b4f4-0952e0b39f09"
   },
   "outputs": [
    {
     "name": "stdout",
     "output_type": "stream",
     "text": [
      "Mean Absolute Error for each model:\n",
      "Baseline: 6905402\n",
      "Default SGDRegressor one feature: 4661663\n",
      "Best SGDRegressor one feature: 4550421\n",
      "Default SGDRegressor multiple feature: 4935712\n",
      "Best SGDRegressor mulltiple feature: 4606594\n",
      "Default DecisionTreeRegressor multiple feature: 4433805\n",
      "Best DecisionTreeRegressor mulltiple feature: 3579341\n"
     ]
    }
   ],
   "source": [
    "print(\"Mean Absolute Error for each model:\")\n",
    "print(f\"Baseline: {baseline_mae}\")\n",
    "print(f\"Default SGDRegressor one feature: {default_mae}\")\n",
    "print(f\"Best SGDRegressor one feature: {best_mae}\")\n",
    "print(f\"Default SGDRegressor multiple feature: {default_mae_multiple_features}\")\n",
    "print(f\"Best SGDRegressor mulltiple feature: {best_mae_multiple_features}\")\n",
    "print(f\"Default DecisionTreeRegressor multiple feature: {default_mae_DecisionTreeRegressor}\")\n",
    "print(f\"Best DecisionTreeRegressor mulltiple feature: {best_mae_decision_tree}\")"
   ]
  },
  {
   "cell_type": "markdown",
   "id": "ce424a87-37af-470d-9a14-ec6ae2258eb1",
   "metadata": {
    "id": "ce424a87-37af-470d-9a14-ec6ae2258eb1"
   },
   "source": [
    "### Analyzing our results"
   ]
  },
  {
   "cell_type": "markdown",
   "id": "ed6c9746-ed98-4075-9a6a-adb24056d217",
   "metadata": {
    "id": "ed6c9746-ed98-4075-9a6a-adb24056d217"
   },
   "source": [
    "Based on what you found, and what you read about players salaries above, answer the following: "
   ]
  },
  {
   "cell_type": "markdown",
   "id": "e204456d-cb86-47a0-9c3c-6307d8a831fa",
   "metadata": {
    "id": "e204456d-cb86-47a0-9c3c-6307d8a831fa"
   },
   "source": [
    "1.19. Which kind of model worked better in this dataset, linear or non linear models? Do you have any hypothesis about why? "
   ]
  },
  {
   "cell_type": "markdown",
   "id": "f1ec23b1",
   "metadata": {
    "id": "7f384324-76df-435c-97f5-57ccfd25157a"
   },
   "source": [
    "In this dataset, non linear models works better than linear models. I think one reasons is for the nature of data, roockie contracts don't depend on the statistics, and you can see from the graph that it's non linear problem. Also when you use a lot of features, that depend on social things, it wont always be logical and in linear models it can confuse that.  "
   ]
  },
  {
   "cell_type": "markdown",
   "id": "f09e5c20-3f7b-4938-a1b3-34ada990f181",
   "metadata": {
    "id": "f09e5c20-3f7b-4938-a1b3-34ada990f181"
   },
   "source": [
    "1.20. Is there something else we could do to improve our results if wanted to make a more accurate model?"
   ]
  },
  {
   "cell_type": "markdown",
   "id": "5d961a3c",
   "metadata": {},
   "source": [
    "Maybe we can choose some features to fit the model only that have more than 0.5 correlated with salary and not correlated with each other. Also we can try droping team name feature, the one hot encoding can confuse that. Other thing can be create more features (we dont use min feature for example), or search for new statistical features (some defensive features). Other way can be use polinomical regressor and see the number of degree that best fit with this data (always in the test set). And finally you can search for more data, maybe information of years before."
   ]
  },
  {
   "cell_type": "markdown",
   "id": "25e23c2a-a0bf-4d39-bc1b-9524107f3a02",
   "metadata": {
    "id": "25e23c2a-a0bf-4d39-bc1b-9524107f3a02",
    "tags": []
   },
   "source": [
    "## Star or no Star? Predicting players All-NBA selections"
   ]
  },
  {
   "cell_type": "markdown",
   "id": "26cd4fec-1b8b-4bfc-8024-dcdd5b8b803a",
   "metadata": {
    "id": "26cd4fec-1b8b-4bfc-8024-dcdd5b8b803a"
   },
   "source": [
    "In this section we're going to try to solve a different question:\n",
    "\n",
    "Can we train a model to predict which players are going to be selected to ALL-NBA teams at the end of the season? This is a [binary classification](https://en.wikipedia.org/wiki/Binary_classification) task, so we're training our first classifier model to solve this problem.\n",
    "\n",
    "Consider that:\n",
    "\n",
    "- Being selected as part of the [All-NBA teams](https://en.wikipedia.org/wiki/All-NBA_Team) is different than being selected for [All-Star Game](https://en.wikipedia.org/wiki/NBA_All-Star_Game). \n",
    "- You're trying to predict All-NBA selections, which takes place after the regular season but before playoffs start, so we're only going to use players and teams statistics about the regular season (you're not going to consider if the players got to the NBA finals for example). \n",
    "- All Star game takes place at the middle point of the regular season, players are selected based on partial season performance, and the general public has 50% of the votes, so it is also a more popularity-based award.\n",
    "- All-NBA teams are divided in first, second and third teams of 5 players each, divided by position: 2 front court players (guards), 2 backcourt players (forwards) and 1 center.\n",
    "- As only 15 players are selected to All-NBA teams each year (out of more than 400 qualifying players), our dataset is going to be imbalanced. You're going to have to find a good strategy to deal with this inbalance."
   ]
  },
  {
   "cell_type": "markdown",
   "id": "ef2353fa-10d7-48d1-85d7-f8743ee86698",
   "metadata": {
    "id": "ef2353fa-10d7-48d1-85d7-f8743ee86698"
   },
   "source": [
    "### Analyzing the data"
   ]
  },
  {
   "cell_type": "markdown",
   "id": "d4159ce5-fec3-48bb-93c5-058f2cbb55c5",
   "metadata": {
    "id": "d4159ce5-fec3-48bb-93c5-058f2cbb55c5"
   },
   "source": [
    "To do this task, you're going to need historical information about All-NBA selections. We'll use a dataset that contains information about players from season starting in 1990 and ending in the 2018-2019 season.\n",
    "The dataset contains statistics for all players, and a column named \"all-nba\" that is going to be our target variable, 1 means the player was selected to an All-NBA team that season.\n"
   ]
  },
  {
   "cell_type": "markdown",
   "id": "e6d64103-d6b5-4544-8ca5-81f99c937d73",
   "metadata": {
    "id": "e6d64103-d6b5-4544-8ca5-81f99c937d73"
   },
   "source": [
    "2.1. Load the dataset \"all_nba_1990_2017_dataset.csv\" from disk, look at the data inside it and print:\n",
    "- number of rows\n",
    "- number of seasons\n",
    "- number of unique players\n",
    "- number of all-nba selections vs non selected "
   ]
  },
  {
   "cell_type": "code",
   "execution_count": 31,
   "id": "bb6725f6-418d-4159-b046-3bf33a8ead0b",
   "metadata": {
    "id": "bb6725f6-418d-4159-b046-3bf33a8ead0b"
   },
   "outputs": [
    {
     "data": {
      "text/html": [
       "<div>\n",
       "<style scoped>\n",
       "    .dataframe tbody tr th:only-of-type {\n",
       "        vertical-align: middle;\n",
       "    }\n",
       "\n",
       "    .dataframe tbody tr th {\n",
       "        vertical-align: top;\n",
       "    }\n",
       "\n",
       "    .dataframe thead th {\n",
       "        text-align: right;\n",
       "    }\n",
       "</style>\n",
       "<table border=\"1\" class=\"dataframe\">\n",
       "  <thead>\n",
       "    <tr style=\"text-align: right;\">\n",
       "      <th></th>\n",
       "      <th>season_id</th>\n",
       "      <th>player_id</th>\n",
       "      <th>player_season</th>\n",
       "      <th>player</th>\n",
       "      <th>season</th>\n",
       "      <th>season_start</th>\n",
       "      <th>team</th>\n",
       "      <th>games</th>\n",
       "      <th>gamesstarted</th>\n",
       "      <th>mp</th>\n",
       "      <th>...</th>\n",
       "      <th>2p_perc</th>\n",
       "      <th>ft_perc</th>\n",
       "      <th>trb</th>\n",
       "      <th>ast</th>\n",
       "      <th>stl</th>\n",
       "      <th>blk</th>\n",
       "      <th>tov</th>\n",
       "      <th>pf</th>\n",
       "      <th>pts</th>\n",
       "      <th>all_nba</th>\n",
       "    </tr>\n",
       "  </thead>\n",
       "  <tbody>\n",
       "    <tr>\n",
       "      <th>0</th>\n",
       "      <td>0</td>\n",
       "      <td>0</td>\n",
       "      <td>1</td>\n",
       "      <td>Alaa Abdelnaby</td>\n",
       "      <td>1990-91</td>\n",
       "      <td>1990</td>\n",
       "      <td>POR</td>\n",
       "      <td>43</td>\n",
       "      <td>0</td>\n",
       "      <td>6.7</td>\n",
       "      <td>...</td>\n",
       "      <td>0.474</td>\n",
       "      <td>0.568</td>\n",
       "      <td>2.1</td>\n",
       "      <td>0.3</td>\n",
       "      <td>0.1</td>\n",
       "      <td>0.3</td>\n",
       "      <td>0.5</td>\n",
       "      <td>0.9</td>\n",
       "      <td>3.1</td>\n",
       "      <td>0</td>\n",
       "    </tr>\n",
       "    <tr>\n",
       "      <th>1</th>\n",
       "      <td>1</td>\n",
       "      <td>0</td>\n",
       "      <td>2</td>\n",
       "      <td>Alaa Abdelnaby</td>\n",
       "      <td>1991-92</td>\n",
       "      <td>1991</td>\n",
       "      <td>POR</td>\n",
       "      <td>71</td>\n",
       "      <td>1</td>\n",
       "      <td>13.2</td>\n",
       "      <td>...</td>\n",
       "      <td>0.493</td>\n",
       "      <td>0.752</td>\n",
       "      <td>3.7</td>\n",
       "      <td>0.4</td>\n",
       "      <td>0.4</td>\n",
       "      <td>0.2</td>\n",
       "      <td>0.9</td>\n",
       "      <td>1.9</td>\n",
       "      <td>6.1</td>\n",
       "      <td>0</td>\n",
       "    </tr>\n",
       "    <tr>\n",
       "      <th>2</th>\n",
       "      <td>2</td>\n",
       "      <td>0</td>\n",
       "      <td>3</td>\n",
       "      <td>Alaa Abdelnaby</td>\n",
       "      <td>1992-93</td>\n",
       "      <td>1992</td>\n",
       "      <td>TOT</td>\n",
       "      <td>75</td>\n",
       "      <td>52</td>\n",
       "      <td>17.5</td>\n",
       "      <td>...</td>\n",
       "      <td>0.519</td>\n",
       "      <td>0.759</td>\n",
       "      <td>4.5</td>\n",
       "      <td>0.4</td>\n",
       "      <td>0.3</td>\n",
       "      <td>0.3</td>\n",
       "      <td>1.3</td>\n",
       "      <td>2.5</td>\n",
       "      <td>7.7</td>\n",
       "      <td>0</td>\n",
       "    </tr>\n",
       "    <tr>\n",
       "      <th>3</th>\n",
       "      <td>3</td>\n",
       "      <td>0</td>\n",
       "      <td>4</td>\n",
       "      <td>Alaa Abdelnaby</td>\n",
       "      <td>1993-94</td>\n",
       "      <td>1993</td>\n",
       "      <td>BOS</td>\n",
       "      <td>13</td>\n",
       "      <td>0</td>\n",
       "      <td>12.2</td>\n",
       "      <td>...</td>\n",
       "      <td>0.436</td>\n",
       "      <td>0.640</td>\n",
       "      <td>3.5</td>\n",
       "      <td>0.2</td>\n",
       "      <td>0.2</td>\n",
       "      <td>0.2</td>\n",
       "      <td>1.3</td>\n",
       "      <td>1.5</td>\n",
       "      <td>4.9</td>\n",
       "      <td>0</td>\n",
       "    </tr>\n",
       "    <tr>\n",
       "      <th>4</th>\n",
       "      <td>4</td>\n",
       "      <td>0</td>\n",
       "      <td>5</td>\n",
       "      <td>Alaa Abdelnaby</td>\n",
       "      <td>1994-95</td>\n",
       "      <td>1994</td>\n",
       "      <td>TOT</td>\n",
       "      <td>54</td>\n",
       "      <td>0</td>\n",
       "      <td>9.4</td>\n",
       "      <td>...</td>\n",
       "      <td>0.515</td>\n",
       "      <td>0.571</td>\n",
       "      <td>2.1</td>\n",
       "      <td>0.2</td>\n",
       "      <td>0.3</td>\n",
       "      <td>0.2</td>\n",
       "      <td>0.8</td>\n",
       "      <td>1.9</td>\n",
       "      <td>4.7</td>\n",
       "      <td>0</td>\n",
       "    </tr>\n",
       "    <tr>\n",
       "      <th>...</th>\n",
       "      <td>...</td>\n",
       "      <td>...</td>\n",
       "      <td>...</td>\n",
       "      <td>...</td>\n",
       "      <td>...</td>\n",
       "      <td>...</td>\n",
       "      <td>...</td>\n",
       "      <td>...</td>\n",
       "      <td>...</td>\n",
       "      <td>...</td>\n",
       "      <td>...</td>\n",
       "      <td>...</td>\n",
       "      <td>...</td>\n",
       "      <td>...</td>\n",
       "      <td>...</td>\n",
       "      <td>...</td>\n",
       "      <td>...</td>\n",
       "      <td>...</td>\n",
       "      <td>...</td>\n",
       "      <td>...</td>\n",
       "      <td>...</td>\n",
       "    </tr>\n",
       "    <tr>\n",
       "      <th>15348</th>\n",
       "      <td>15348</td>\n",
       "      <td>2817</td>\n",
       "      <td>2</td>\n",
       "      <td>Paul Zipser</td>\n",
       "      <td>2017-18</td>\n",
       "      <td>2017</td>\n",
       "      <td>CHI</td>\n",
       "      <td>54</td>\n",
       "      <td>12</td>\n",
       "      <td>15.3</td>\n",
       "      <td>...</td>\n",
       "      <td>0.355</td>\n",
       "      <td>0.760</td>\n",
       "      <td>2.4</td>\n",
       "      <td>0.9</td>\n",
       "      <td>0.4</td>\n",
       "      <td>0.3</td>\n",
       "      <td>0.8</td>\n",
       "      <td>1.6</td>\n",
       "      <td>4.0</td>\n",
       "      <td>0</td>\n",
       "    </tr>\n",
       "    <tr>\n",
       "      <th>15349</th>\n",
       "      <td>15349</td>\n",
       "      <td>2818</td>\n",
       "      <td>1</td>\n",
       "      <td>Ante Zizic</td>\n",
       "      <td>2017-18</td>\n",
       "      <td>2017</td>\n",
       "      <td>CLE</td>\n",
       "      <td>32</td>\n",
       "      <td>2</td>\n",
       "      <td>6.7</td>\n",
       "      <td>...</td>\n",
       "      <td>0.731</td>\n",
       "      <td>0.724</td>\n",
       "      <td>1.9</td>\n",
       "      <td>0.2</td>\n",
       "      <td>0.1</td>\n",
       "      <td>0.4</td>\n",
       "      <td>0.3</td>\n",
       "      <td>0.9</td>\n",
       "      <td>3.7</td>\n",
       "      <td>0</td>\n",
       "    </tr>\n",
       "    <tr>\n",
       "      <th>15351</th>\n",
       "      <td>15351</td>\n",
       "      <td>2819</td>\n",
       "      <td>1</td>\n",
       "      <td>Jim Zoet</td>\n",
       "      <td>1982-83</td>\n",
       "      <td>1982</td>\n",
       "      <td>DET</td>\n",
       "      <td>7</td>\n",
       "      <td>0</td>\n",
       "      <td>4.3</td>\n",
       "      <td>...</td>\n",
       "      <td>0.200</td>\n",
       "      <td>0.000</td>\n",
       "      <td>1.1</td>\n",
       "      <td>0.1</td>\n",
       "      <td>0.1</td>\n",
       "      <td>0.4</td>\n",
       "      <td>0.6</td>\n",
       "      <td>1.3</td>\n",
       "      <td>0.3</td>\n",
       "      <td>0</td>\n",
       "    </tr>\n",
       "    <tr>\n",
       "      <th>15352</th>\n",
       "      <td>15352</td>\n",
       "      <td>2820</td>\n",
       "      <td>1</td>\n",
       "      <td>Ivica Zubac</td>\n",
       "      <td>2016-17</td>\n",
       "      <td>2016</td>\n",
       "      <td>LAL</td>\n",
       "      <td>38</td>\n",
       "      <td>11</td>\n",
       "      <td>16.0</td>\n",
       "      <td>...</td>\n",
       "      <td>0.536</td>\n",
       "      <td>0.653</td>\n",
       "      <td>4.2</td>\n",
       "      <td>0.8</td>\n",
       "      <td>0.4</td>\n",
       "      <td>0.9</td>\n",
       "      <td>0.8</td>\n",
       "      <td>1.7</td>\n",
       "      <td>7.5</td>\n",
       "      <td>0</td>\n",
       "    </tr>\n",
       "    <tr>\n",
       "      <th>15353</th>\n",
       "      <td>15353</td>\n",
       "      <td>2820</td>\n",
       "      <td>2</td>\n",
       "      <td>Ivica Zubac</td>\n",
       "      <td>2017-18</td>\n",
       "      <td>2017</td>\n",
       "      <td>LAL</td>\n",
       "      <td>43</td>\n",
       "      <td>0</td>\n",
       "      <td>9.5</td>\n",
       "      <td>...</td>\n",
       "      <td>0.504</td>\n",
       "      <td>0.765</td>\n",
       "      <td>2.9</td>\n",
       "      <td>0.6</td>\n",
       "      <td>0.2</td>\n",
       "      <td>0.3</td>\n",
       "      <td>0.6</td>\n",
       "      <td>1.1</td>\n",
       "      <td>3.7</td>\n",
       "      <td>0</td>\n",
       "    </tr>\n",
       "  </tbody>\n",
       "</table>\n",
       "<p>14825 rows × 22 columns</p>\n",
       "</div>"
      ],
      "text/plain": [
       "       season_id  player_id  player_season          player   season  \\\n",
       "0              0          0              1  Alaa Abdelnaby  1990-91   \n",
       "1              1          0              2  Alaa Abdelnaby  1991-92   \n",
       "2              2          0              3  Alaa Abdelnaby  1992-93   \n",
       "3              3          0              4  Alaa Abdelnaby  1993-94   \n",
       "4              4          0              5  Alaa Abdelnaby  1994-95   \n",
       "...          ...        ...            ...             ...      ...   \n",
       "15348      15348       2817              2     Paul Zipser  2017-18   \n",
       "15349      15349       2818              1      Ante Zizic  2017-18   \n",
       "15351      15351       2819              1        Jim Zoet  1982-83   \n",
       "15352      15352       2820              1     Ivica Zubac  2016-17   \n",
       "15353      15353       2820              2     Ivica Zubac  2017-18   \n",
       "\n",
       "       season_start team  games  gamesstarted    mp  ...  2p_perc  ft_perc  \\\n",
       "0              1990  POR     43             0   6.7  ...    0.474    0.568   \n",
       "1              1991  POR     71             1  13.2  ...    0.493    0.752   \n",
       "2              1992  TOT     75            52  17.5  ...    0.519    0.759   \n",
       "3              1993  BOS     13             0  12.2  ...    0.436    0.640   \n",
       "4              1994  TOT     54             0   9.4  ...    0.515    0.571   \n",
       "...             ...  ...    ...           ...   ...  ...      ...      ...   \n",
       "15348          2017  CHI     54            12  15.3  ...    0.355    0.760   \n",
       "15349          2017  CLE     32             2   6.7  ...    0.731    0.724   \n",
       "15351          1982  DET      7             0   4.3  ...    0.200    0.000   \n",
       "15352          2016  LAL     38            11  16.0  ...    0.536    0.653   \n",
       "15353          2017  LAL     43             0   9.5  ...    0.504    0.765   \n",
       "\n",
       "       trb  ast  stl  blk  tov   pf  pts  all_nba  \n",
       "0      2.1  0.3  0.1  0.3  0.5  0.9  3.1        0  \n",
       "1      3.7  0.4  0.4  0.2  0.9  1.9  6.1        0  \n",
       "2      4.5  0.4  0.3  0.3  1.3  2.5  7.7        0  \n",
       "3      3.5  0.2  0.2  0.2  1.3  1.5  4.9        0  \n",
       "4      2.1  0.2  0.3  0.2  0.8  1.9  4.7        0  \n",
       "...    ...  ...  ...  ...  ...  ...  ...      ...  \n",
       "15348  2.4  0.9  0.4  0.3  0.8  1.6  4.0        0  \n",
       "15349  1.9  0.2  0.1  0.4  0.3  0.9  3.7        0  \n",
       "15351  1.1  0.1  0.1  0.4  0.6  1.3  0.3        0  \n",
       "15352  4.2  0.8  0.4  0.9  0.8  1.7  7.5        0  \n",
       "15353  2.9  0.6  0.2  0.3  0.6  1.1  3.7        0  \n",
       "\n",
       "[14825 rows x 22 columns]"
      ]
     },
     "execution_count": 31,
     "metadata": {},
     "output_type": "execute_result"
    }
   ],
   "source": [
    "all_nba_df = pd.read_csv(\"https://raw.githubusercontent.com/anyoneai/notebooks/main/datasets/all_nba_1990_2017_dataset.csv\", index_col=0)\n",
    "all_nba_df"
   ]
  },
  {
   "cell_type": "code",
   "execution_count": 32,
   "id": "fe99dfa4",
   "metadata": {},
   "outputs": [
    {
     "name": "stdout",
     "output_type": "stream",
     "text": [
      "Number of rows: 14825 \n",
      "\n",
      "Number of seasons: 39 \n",
      "\n",
      "Number of unique players: 2718 \n",
      "\n",
      "Number of all-nba selections vs non selected:\n",
      "Non selected: 14329\n",
      "All-nba selections: 496\n"
     ]
    }
   ],
   "source": [
    "print('Number of rows:',all_nba_df.shape[0],'\\n')\n",
    "print('Number of seasons:',len(all_nba_df.season.unique()),'\\n')\n",
    "print('Number of unique players:',len(all_nba_df.player_id.unique()),'\\n')\n",
    "print('Number of all-nba selections vs non selected:')\n",
    "print('Non selected:',all_nba_df.all_nba.value_counts()[0])\n",
    "print('All-nba selections:',all_nba_df.all_nba.value_counts()[1])"
   ]
  },
  {
   "cell_type": "markdown",
   "id": "f268db59-8c9e-446b-be19-290e608169d2",
   "metadata": {
    "id": "f268db59-8c9e-446b-be19-290e608169d2"
   },
   "source": [
    "### Splitting the dataset"
   ]
  },
  {
   "cell_type": "markdown",
   "id": "6b4916b2-e8cf-4e30-a2ac-e1538c2f5cd5",
   "metadata": {
    "id": "6b4916b2-e8cf-4e30-a2ac-e1538c2f5cd5"
   },
   "source": [
    "2.2. Split the dataset in training and test sets. Make sure to keep the distribution of values in the target variable.\n",
    "\n",
    "Use columns: 'team', 'games', 'games_started', 'mp', 'fg_perc', '3p_perc',\n",
    "       '2p_perc', 'ft_perc', 'trb', 'ast', 'stl', 'blk', 'tov', 'pf', 'pts','all_nba'\n",
    "       \n",
    "    "
   ]
  },
  {
   "cell_type": "code",
   "execution_count": 33,
   "id": "25cfc4ee-98e7-4b84-98d3-80a91fb44912",
   "metadata": {
    "id": "25cfc4ee-98e7-4b84-98d3-80a91fb44912"
   },
   "outputs": [],
   "source": [
    "X=all_nba_df[['team', 'games', 'gamesstarted', 'mp', 'fg_perc', '3p_perc', '2p_perc', 'ft_perc',\n",
    "              'trb', 'ast', 'stl', 'blk', 'tov', 'pf', 'pts']]\n",
    "y=all_nba_df['all_nba']\n",
    "X_train, X_test, y_train, y_test = train_test_split(X, y, test_size=0.2,stratify=y, random_state=42)"
   ]
  },
  {
   "cell_type": "code",
   "execution_count": 34,
   "id": "cd0b5acc",
   "metadata": {},
   "outputs": [
    {
     "name": "stdout",
     "output_type": "stream",
     "text": [
      "Target distribution in all dataset: 0.035\n",
      "Target distribution in train dataset: 0.035\n",
      "Target distribution in test dataset: 0.035\n"
     ]
    }
   ],
   "source": [
    "print('Target distribution in all dataset:',round(y.value_counts()[1]/y.value_counts()[0],3))\n",
    "print('Target distribution in train dataset:',round(y_train.value_counts()[1]/y_train.value_counts()[0],3))\n",
    "print('Target distribution in test dataset:',round(y_test.value_counts()[1]/y_test.value_counts()[0],3))"
   ]
  },
  {
   "cell_type": "markdown",
   "id": "fc554b38",
   "metadata": {},
   "source": [
    "The target distribution is held constant when we use stratify parameter in train-test split."
   ]
  },
  {
   "cell_type": "markdown",
   "id": "7043db6e-da74-4a04-91d9-4dd0cd830f22",
   "metadata": {
    "id": "7043db6e-da74-4a04-91d9-4dd0cd830f22"
   },
   "source": [
    "### Baseline model and Evaluation Metrics"
   ]
  },
  {
   "cell_type": "markdown",
   "id": "cedaf085-2a23-41ab-a55f-474e2ae6bb9c",
   "metadata": {
    "id": "cedaf085-2a23-41ab-a55f-474e2ae6bb9c"
   },
   "source": [
    "In this oportunity we'll define our baseline model as the model we can train with the minimun amount of work on the dataset. For this you're gonna train a [LogisticRegression](https://scikit-learn.org/stable/modules/generated/sklearn.linear_model.LogisticRegression.html) with default parameters, and without doing any preprocessing to our data."
   ]
  },
  {
   "cell_type": "markdown",
   "id": "67a8999b-2dfe-466b-814c-94ecced9f8dc",
   "metadata": {
    "id": "67a8999b-2dfe-466b-814c-94ecced9f8dc"
   },
   "source": [
    "2.3. Let's start with a simple test. What accuracy would we get if we had a baseline model that always predicted 0 (player not selected to all nba)?"
   ]
  },
  {
   "cell_type": "code",
   "execution_count": 35,
   "id": "98eb9a0d",
   "metadata": {},
   "outputs": [
    {
     "data": {
      "text/plain": [
       "0    2866\n",
       "1      99\n",
       "Name: all_nba, dtype: int64"
      ]
     },
     "execution_count": 35,
     "metadata": {},
     "output_type": "execute_result"
    }
   ],
   "source": [
    "y_test.value_counts()"
   ]
  },
  {
   "cell_type": "markdown",
   "id": "1fc0eaa9",
   "metadata": {},
   "source": [
    "### Accuracy formula: \n",
    "$$\n",
    "Accuracy= \\frac{TP+TN}{TP+FP+TN+FN}\n",
    "$$\n",
    "If always predict 0 the accuracy will be:\n",
    "$$\n",
    "Accuracy= \\frac{0+2866}{0+0+2866+99}\n",
    "$$\n",
    "\n",
    "$$\n",
    "Accuracy= 0.97 = 97\\%\n",
    "$$"
   ]
  },
  {
   "cell_type": "code",
   "execution_count": 36,
   "id": "d37ea201",
   "metadata": {},
   "outputs": [
    {
     "name": "stdout",
     "output_type": "stream",
     "text": [
      "Accuracy of Dummy Classifier is:  0.966610455311973\n"
     ]
    }
   ],
   "source": [
    "#using most frequent class to predict\n",
    "dummy_majority = DummyClassifier(strategy='most_frequent') \n",
    "\n",
    "dummy_majority.fit(X_train, y_train)\n",
    "print('Accuracy of Dummy Classifier is: ', dummy_majority.score(X_test, y_test))\n"
   ]
  },
  {
   "cell_type": "markdown",
   "id": "a7f436a6-d3fe-4ead-8c09-b450d850b36f",
   "metadata": {
    "id": "a7f436a6-d3fe-4ead-8c09-b450d850b36f"
   },
   "source": [
    "2.4. What does this tells us about the data and the use of accuracy as an evaluation metric?"
   ]
  },
  {
   "cell_type": "markdown",
   "id": "ec8f797e",
   "metadata": {
    "id": "6de87d7c-4f0e-4ffc-b063-cee6eadc4e16"
   },
   "source": [
    "When you have an imbalanced dataset, the accuracy is not the best metric to evaluate your model. In this case, you have to choose a F1 score to evaluate them.\n",
    "\n",
    "\"Precision is a measure of the probability of actual positive cases given the total positive predictions of a machine learning model.\n",
    "Recall on the other hand is a measure of the probability of predicting positive out of the number of ground truth positive. \n",
    "The F1-score seeks to provide a balance between the two as most times, it’s difficult to decide on whether to go for a high precision or high recall.\"\n",
    "\n",
    "https://medium.com/analytics-vidhya/handling-imbalanced-datasets-dccaded84045\n"
   ]
  },
  {
   "cell_type": "markdown",
   "id": "df1a22d1-3fd1-4e6f-9139-52a3466fb1c4",
   "metadata": {
    "id": "df1a22d1-3fd1-4e6f-9139-52a3466fb1c4"
   },
   "source": [
    "2.5. Scale all numerical features in the dataset (we will keep this scaling for future modeling, so make sure to do it in place)"
   ]
  },
  {
   "cell_type": "code",
   "execution_count": 37,
   "id": "2e7dfcaf",
   "metadata": {},
   "outputs": [],
   "source": [
    "X_train_without_team_column=X_train.drop(labels='team',axis=1)\n",
    "X_test_without_team_column=X_test.drop(labels='team',axis=1)\n",
    "\n",
    "col_list= ['games', 'gamesstarted', 'mp', 'fg_perc', '3p_perc', '2p_perc', 'ft_perc','trb', 'ast', 'stl',\n",
    "           'blk', 'tov', 'pf', 'pts']\n",
    "\n",
    "X_train_without_team_column[col_list]=scaler.fit_transform(X_train_without_team_column)\n",
    "X_test_without_team_column[col_list]=scaler.transform(X_test_without_team_column)"
   ]
  },
  {
   "cell_type": "markdown",
   "id": "0ccfd642-fd2a-4ce6-af92-901156e2a009",
   "metadata": {
    "id": "0ccfd642-fd2a-4ce6-af92-901156e2a009"
   },
   "source": [
    "2.6. Train a LogisticRegression with default parameters, use only the numerical features (omit the team information for now). This will be our baseline model. "
   ]
  },
  {
   "cell_type": "code",
   "execution_count": 38,
   "id": "4aa3bbfb-d2ce-43bc-aea4-f6f7aab0933c",
   "metadata": {
    "id": "4aa3bbfb-d2ce-43bc-aea4-f6f7aab0933c"
   },
   "outputs": [],
   "source": [
    "model = LogisticRegression(random_state=42)\n",
    "model.fit(X_train_without_team_column,y_train)\n",
    "y_predict_default_model= model.predict(X_test_without_team_column)"
   ]
  },
  {
   "cell_type": "markdown",
   "id": "0f06758a-f2dd-4339-b170-275b428fdb4e",
   "metadata": {
    "id": "0f06758a-f2dd-4339-b170-275b428fdb4e"
   },
   "source": [
    "2.7. Evaluate our baseline model using this metrics: \n",
    "\n",
    "    - accuracy\n",
    "    - precision\n",
    "    - recall\n",
    "    - f1"
   ]
  },
  {
   "cell_type": "code",
   "execution_count": 39,
   "id": "b953324f-f7ae-4823-a801-f06d27d6eb43",
   "metadata": {
    "id": "b953324f-f7ae-4823-a801-f06d27d6eb43"
   },
   "outputs": [
    {
     "name": "stdout",
     "output_type": "stream",
     "text": [
      "              precision    recall  f1-score   support\n",
      "\n",
      "           0       0.99      0.99      0.99      2866\n",
      "           1       0.78      0.57      0.65        99\n",
      "\n",
      "    accuracy                           0.98      2965\n",
      "   macro avg       0.88      0.78      0.82      2965\n",
      "weighted avg       0.98      0.98      0.98      2965\n",
      "\n"
     ]
    }
   ],
   "source": [
    "print(classification_report(y_test, y_predict_default_model))"
   ]
  },
  {
   "cell_type": "markdown",
   "id": "f0d92f89",
   "metadata": {},
   "source": [
    "The metric that we have to see are in the row of label 1. This ones are metrics about target 1. "
   ]
  },
  {
   "cell_type": "code",
   "execution_count": 40,
   "id": "0f986f43",
   "metadata": {},
   "outputs": [
    {
     "name": "stdout",
     "output_type": "stream",
     "text": [
      "Other way to show the same:\n",
      "f1_score: 0.65\n",
      "precision: 0.78\n",
      "recall: 0.57\n",
      "accuracy: 0.98\n"
     ]
    }
   ],
   "source": [
    "print('Other way to show the same:')\n",
    "print('f1_score:',round(f1_score(y_test, y_predict_default_model),2))\n",
    "print('precision:',round(precision_score(y_test, y_predict_default_model),2))\n",
    "print('recall:',round(recall_score(y_test, y_predict_default_model),2))\n",
    "print('accuracy:',round(accuracy_score(y_test, y_predict_default_model),2))\n"
   ]
  },
  {
   "cell_type": "code",
   "execution_count": 41,
   "id": "89756b54",
   "metadata": {},
   "outputs": [
    {
     "data": {
      "image/png": "[encoded data removed]",
      "text/plain": [
       "<Figure size 720x360 with 2 Axes>"
      ]
     },
     "metadata": {
      "needs_background": "light"
     },
     "output_type": "display_data"
    }
   ],
   "source": [
    "plot_confusion_matrix(model, X_test_without_team_column, y_test)\n",
    "plt.title('Confusion matrix')\n",
    "plt.show()"
   ]
  },
  {
   "cell_type": "markdown",
   "id": "7a540e7b-387d-4e2b-a441-d0c5173bdbf7",
   "metadata": {
    "id": "7a540e7b-387d-4e2b-a441-d0c5173bdbf7"
   },
   "source": [
    "From now on, you'll be evaluating you model primarily using the F1 Score metric, but we also want to avoid models that have very low recall. "
   ]
  },
  {
   "cell_type": "markdown",
   "id": "2054a43f-55ec-45fc-9ead-a7699d8aa2b0",
   "metadata": {
    "id": "2054a43f-55ec-45fc-9ead-a7699d8aa2b0"
   },
   "source": [
    "### Classification"
   ]
  },
  {
   "cell_type": "markdown",
   "id": "1e2847f3-f02c-4308-8a0c-41ba79af0781",
   "metadata": {
    "id": "1e2847f3-f02c-4308-8a0c-41ba79af0781"
   },
   "source": [
    "#### Feature engineering"
   ]
  },
  {
   "cell_type": "markdown",
   "id": "27b6ddb3-576c-4238-9ec3-534aafee764b",
   "metadata": {
    "id": "27b6ddb3-576c-4238-9ec3-534aafee764b"
   },
   "source": [
    "2.8. One hot encode the Team feature. Make sure to drop the original column."
   ]
  },
  {
   "cell_type": "code",
   "execution_count": 42,
   "id": "f4ca83ec-7aab-4cff-8ac7-1b224ff54dde",
   "metadata": {
    "id": "f4ca83ec-7aab-4cff-8ac7-1b224ff54dde"
   },
   "outputs": [],
   "source": [
    "df_dummies_train=pd.get_dummies(X_train['team'])\n",
    "X_train=pd.concat([X_train_without_team_column,df_dummies_train],axis=1)\n",
    "\n",
    "df_dummies_test=pd.get_dummies(X_test['team'])\n",
    "X_test=pd.concat([X_test_without_team_column,df_dummies_test],axis=1)\n"
   ]
  },
  {
   "cell_type": "markdown",
   "id": "6592c6c0-7ec8-49ac-936c-2d0fb84ccfef",
   "metadata": {
    "id": "6592c6c0-7ec8-49ac-936c-2d0fb84ccfef",
    "tags": []
   },
   "source": [
    "#### Modeling"
   ]
  },
  {
   "cell_type": "markdown",
   "id": "06240cb2-de21-4d4e-ae0e-0f90c3c0453a",
   "metadata": {
    "id": "06240cb2-de21-4d4e-ae0e-0f90c3c0453a"
   },
   "source": [
    "2.9. Train a logistic regresion model, find the best hyperparameters for: tols, C and max_iter. Try at least 4 values of each parameter. Remember to select based on f1 score, but report also precision and recall. Save the best performing model to use in the next steps."
   ]
  },
  {
   "cell_type": "code",
   "execution_count": 43,
   "id": "5acc6748",
   "metadata": {},
   "outputs": [],
   "source": [
    "def search_best_hyperparameters_logistic_regression(tol, C,max_iter,X_train,y_train,X_test,y_test):\n",
    "    '''\n",
    "    This function searchs the best model hyperparameters (tol, C,max_iter) based on f1 score.\n",
    "    Display the result in a dict.\n",
    "    '''\n",
    "    \n",
    "    f1score_list=[]\n",
    "    precision_list=[]\n",
    "    recall_list=[]\n",
    "    hyp_tol_list=[]\n",
    "    hyp_C_list=[]\n",
    "    hyp_max_iter_list=[]\n",
    "    for hyp_tol in tol:\n",
    "        for hyp_C in C:\n",
    "            for hyp_max_iter in max_iter:\n",
    "                model = LogisticRegression(tol=hyp_tol,C=hyp_C,\n",
    "                                              max_iter=hyp_max_iter,random_state=42)\n",
    "                model.fit(X_train,y_train)\n",
    "                y_predict_logistic_regression_model_hyp= model.predict(X_test)\n",
    "                \n",
    "                f1score=f1_score(y_test,y_predict_logistic_regression_model_hyp)\n",
    "                f1score_list.append(round(f1score,2))\n",
    "                \n",
    "                precision=precision_score(y_test,y_predict_logistic_regression_model_hyp)\n",
    "                precision_list.append(round(precision,2))\n",
    "                \n",
    "                recall=recall_score(y_test,y_predict_logistic_regression_model_hyp)\n",
    "                recall_list.append(round(recall,2))\n",
    "                \n",
    "                hyp_tol_list.append(hyp_tol)\n",
    "                hyp_C_list.append(hyp_C)\n",
    "                hyp_max_iter_list.append(hyp_max_iter)\n",
    "\n",
    "    array_f1score=np.array(f1score_list)\n",
    "\n",
    "    \n",
    "    result = {\n",
    "        \"hyperparameters\": {\"tol\": hyp_tol_list[np.argmax(array_f1score)], \n",
    "                            \"C\": hyp_C_list[np.argmax(array_f1score)],\n",
    "                            \"max_iter\":hyp_max_iter_list[np.argmax(array_f1score)]\n",
    "                           }, \n",
    "        \"metrics\":{\"f1_score\": array_f1score.max(),\n",
    "                            \"precision\":precision_list[np.argmax(array_f1score)],\n",
    "                            \"recall\":recall_list[np.argmax(array_f1score)]}\n",
    "    }\n",
    "    return result"
   ]
  },
  {
   "cell_type": "code",
   "execution_count": 44,
   "id": "bc9c76c0",
   "metadata": {},
   "outputs": [
    {
     "name": "stdout",
     "output_type": "stream",
     "text": [
      "{'hyperparameters': {'tol': 0.1, 'C': 100.0, 'max_iter': 1000}, 'metrics': {'f1_score': 0.68, 'precision': 0.83, 'recall': 0.58}}\n"
     ]
    }
   ],
   "source": [
    "tol=[0.0001,0.001,0.00001,0.01,0.1]\n",
    "C=[1.0,0.1,0.01,10.0,100.0]\n",
    "max_iter=[100,1000,10000,5000]\n",
    "\n",
    "result = search_best_hyperparameters_logistic_regression(tol, C,max_iter,X_train,y_train,X_test,y_test)\n",
    "print(result)"
   ]
  },
  {
   "cell_type": "code",
   "execution_count": 45,
   "id": "5e194006",
   "metadata": {},
   "outputs": [
    {
     "name": "stdout",
     "output_type": "stream",
     "text": [
      "              precision    recall  f1-score   support\n",
      "\n",
      "           0       0.99      1.00      0.99      2866\n",
      "           1       0.83      0.58      0.68        99\n",
      "\n",
      "    accuracy                           0.98      2965\n",
      "   macro avg       0.91      0.79      0.83      2965\n",
      "weighted avg       0.98      0.98      0.98      2965\n",
      "\n"
     ]
    }
   ],
   "source": [
    "#Use the best hyperparameters to get the best model.\n",
    "model = LogisticRegression(random_state=42,\n",
    "                           tol=result['hyperparameters']['tol'],\n",
    "                           C=result['hyperparameters']['C'],\n",
    "                           max_iter=result['hyperparameters']['max_iter'])\n",
    "model.fit(X_train,y_train)\n",
    "y_predict_best_model= model.predict(X_test)\n",
    "print(classification_report(y_test, y_predict_best_model))"
   ]
  },
  {
   "cell_type": "code",
   "execution_count": 46,
   "id": "153046c9",
   "metadata": {},
   "outputs": [
    {
     "name": "stdout",
     "output_type": "stream",
     "text": [
      "Other way to show the same:\n",
      "f1_score: 0.68\n",
      "precision: 0.83\n",
      "recall: 0.58\n",
      "accuracy: 0.98\n"
     ]
    }
   ],
   "source": [
    "print('Other way to show the same:')\n",
    "print('f1_score:',round(f1_score(y_test, y_predict_best_model),2))\n",
    "print('precision:',round(precision_score(y_test, y_predict_best_model),2))\n",
    "print('recall:',round(recall_score(y_test, y_predict_best_model),2))\n",
    "print('accuracy:',round(accuracy_score(y_test, y_predict_best_model),2))"
   ]
  },
  {
   "cell_type": "code",
   "execution_count": 47,
   "id": "ab32cfc5",
   "metadata": {},
   "outputs": [
    {
     "data": {
      "image/png": "[encoded data removed]",
      "text/plain": [
       "<Figure size 720x360 with 2 Axes>"
      ]
     },
     "metadata": {
      "needs_background": "light"
     },
     "output_type": "display_data"
    }
   ],
   "source": [
    "plot_confusion_matrix(model, X_test, y_test)\n",
    "plt.title('Confusion matrix')\n",
    "plt.show()"
   ]
  },
  {
   "cell_type": "markdown",
   "id": "45c0c3bd-b431-40f1-abbb-4e90b7479411",
   "metadata": {
    "id": "45c0c3bd-b431-40f1-abbb-4e90b7479411"
   },
   "source": [
    "#### Evaluating on New Data"
   ]
  },
  {
   "cell_type": "markdown",
   "id": "3a5352ce-df8a-4c9d-b583-65255774f9d9",
   "metadata": {
    "id": "3a5352ce-df8a-4c9d-b583-65255774f9d9"
   },
   "source": [
    "You're now going to evaluate the results on a test dataset that has not being used to train or do hyperparameter tuning, this is sometimes known as a Test set (in this cases the test set used for training is known as validation set, yeah, it's confusing, but you can read about it [here](https://machinelearningmastery.com/difference-test-validation-datasets/))"
   ]
  },
  {
   "cell_type": "markdown",
   "id": "9da9e93b-6265-44e4-89be-75e7178800e2",
   "metadata": {
    "id": "9da9e93b-6265-44e4-89be-75e7178800e2"
   },
   "source": [
    "2.10. Load the dataset [all_nba_2018_dataset.csv](https://raw.githubusercontent.com/anyoneai/notebooks/main/datasets/all_nba_2018_dataset.csv) in one dataframe and [all_nba_2018_selections.csv](https://raw.githubusercontent.com/anyoneai/notebooks/main/datasets/all_nba_2018_selections.csv)) in another, then:\n",
    "\n",
    "    - Scale the numerical features. Columns season_id, player_id, player_season, player, season and season_start will not be used for prediction, you can keep them but remember not to pass them to the classifier.\n",
    "    \n",
    "    - Create the one hot encoded features for team. This step will be complex, as you will have to consider that in the 2018 season there are 30 teams, but the previous dataset contains 40 teams, that is because a lot of teams changed names or cities over the years. You need to add those 10 different team names in this dataset (with all values in 0) to make the classifier work."
   ]
  },
  {
   "cell_type": "code",
   "execution_count": 48,
   "id": "79ea153a-b061-4df9-9c3d-1aaa0526c700",
   "metadata": {
    "id": "79ea153a-b061-4df9-9c3d-1aaa0526c700"
   },
   "outputs": [],
   "source": [
    "all_nba_2018_df = pd.read_csv(\"https://raw.githubusercontent.com/anyoneai/notebooks/main/datasets/all_nba_2018_dataset.csv\", index_col=0)\n",
    "all_nba_2018_selections = pd.read_csv(\"https://raw.githubusercontent.com/anyoneai/notebooks/main/datasets/all_nba_2018_selections.csv\", index_col=0)"
   ]
  },
  {
   "cell_type": "code",
   "execution_count": 49,
   "id": "8d8e485d",
   "metadata": {},
   "outputs": [
    {
     "data": {
      "text/html": [
       "<div>\n",
       "<style scoped>\n",
       "    .dataframe tbody tr th:only-of-type {\n",
       "        vertical-align: middle;\n",
       "    }\n",
       "\n",
       "    .dataframe tbody tr th {\n",
       "        vertical-align: top;\n",
       "    }\n",
       "\n",
       "    .dataframe thead th {\n",
       "        text-align: right;\n",
       "    }\n",
       "</style>\n",
       "<table border=\"1\" class=\"dataframe\">\n",
       "  <thead>\n",
       "    <tr style=\"text-align: right;\">\n",
       "      <th></th>\n",
       "      <th>season_id</th>\n",
       "      <th>player_id</th>\n",
       "      <th>player_season</th>\n",
       "      <th>player</th>\n",
       "      <th>season</th>\n",
       "      <th>season_start</th>\n",
       "      <th>team</th>\n",
       "      <th>games</th>\n",
       "      <th>gamesstarted</th>\n",
       "      <th>mp</th>\n",
       "      <th>...</th>\n",
       "      <th>3p_perc</th>\n",
       "      <th>2p_perc</th>\n",
       "      <th>ft_perc</th>\n",
       "      <th>trb</th>\n",
       "      <th>ast</th>\n",
       "      <th>stl</th>\n",
       "      <th>blk</th>\n",
       "      <th>tov</th>\n",
       "      <th>pf</th>\n",
       "      <th>pts</th>\n",
       "    </tr>\n",
       "  </thead>\n",
       "  <tbody>\n",
       "    <tr>\n",
       "      <th>34</th>\n",
       "      <td>34</td>\n",
       "      <td>5</td>\n",
       "      <td>2</td>\n",
       "      <td>Alex Abrines</td>\n",
       "      <td>2018-19</td>\n",
       "      <td>2018</td>\n",
       "      <td>OKC</td>\n",
       "      <td>31</td>\n",
       "      <td>2</td>\n",
       "      <td>19.0</td>\n",
       "      <td>...</td>\n",
       "      <td>0.323</td>\n",
       "      <td>0.500</td>\n",
       "      <td>0.923</td>\n",
       "      <td>1.5</td>\n",
       "      <td>0.6</td>\n",
       "      <td>0.5</td>\n",
       "      <td>0.2</td>\n",
       "      <td>0.5</td>\n",
       "      <td>1.7</td>\n",
       "      <td>5.3</td>\n",
       "    </tr>\n",
       "    <tr>\n",
       "      <th>49</th>\n",
       "      <td>49</td>\n",
       "      <td>8</td>\n",
       "      <td>7</td>\n",
       "      <td>Quincy Acy</td>\n",
       "      <td>2018-19</td>\n",
       "      <td>2018</td>\n",
       "      <td>PHO</td>\n",
       "      <td>10</td>\n",
       "      <td>0</td>\n",
       "      <td>12.3</td>\n",
       "      <td>...</td>\n",
       "      <td>0.133</td>\n",
       "      <td>0.667</td>\n",
       "      <td>0.700</td>\n",
       "      <td>2.5</td>\n",
       "      <td>0.8</td>\n",
       "      <td>0.1</td>\n",
       "      <td>0.4</td>\n",
       "      <td>0.4</td>\n",
       "      <td>2.4</td>\n",
       "      <td>1.7</td>\n",
       "    </tr>\n",
       "    <tr>\n",
       "      <th>70</th>\n",
       "      <td>52</td>\n",
       "      <td>10</td>\n",
       "      <td>1</td>\n",
       "      <td>Jaylen Adams</td>\n",
       "      <td>2018-19</td>\n",
       "      <td>2018</td>\n",
       "      <td>ATL</td>\n",
       "      <td>34</td>\n",
       "      <td>1</td>\n",
       "      <td>12.6</td>\n",
       "      <td>...</td>\n",
       "      <td>0.338</td>\n",
       "      <td>0.361</td>\n",
       "      <td>0.778</td>\n",
       "      <td>1.8</td>\n",
       "      <td>1.9</td>\n",
       "      <td>0.4</td>\n",
       "      <td>0.1</td>\n",
       "      <td>0.8</td>\n",
       "      <td>1.3</td>\n",
       "      <td>3.2</td>\n",
       "    </tr>\n",
       "    <tr>\n",
       "      <th>71</th>\n",
       "      <td>71</td>\n",
       "      <td>13</td>\n",
       "      <td>6</td>\n",
       "      <td>Steven Adams</td>\n",
       "      <td>2018-19</td>\n",
       "      <td>2018</td>\n",
       "      <td>OKC</td>\n",
       "      <td>80</td>\n",
       "      <td>80</td>\n",
       "      <td>33.4</td>\n",
       "      <td>...</td>\n",
       "      <td>0.000</td>\n",
       "      <td>0.596</td>\n",
       "      <td>0.500</td>\n",
       "      <td>9.5</td>\n",
       "      <td>1.6</td>\n",
       "      <td>1.5</td>\n",
       "      <td>1.0</td>\n",
       "      <td>1.7</td>\n",
       "      <td>2.6</td>\n",
       "      <td>13.9</td>\n",
       "    </tr>\n",
       "    <tr>\n",
       "      <th>79</th>\n",
       "      <td>79</td>\n",
       "      <td>15</td>\n",
       "      <td>2</td>\n",
       "      <td>Bam Adebayo</td>\n",
       "      <td>2018-19</td>\n",
       "      <td>2018</td>\n",
       "      <td>MIA</td>\n",
       "      <td>82</td>\n",
       "      <td>28</td>\n",
       "      <td>23.3</td>\n",
       "      <td>...</td>\n",
       "      <td>0.200</td>\n",
       "      <td>0.588</td>\n",
       "      <td>0.735</td>\n",
       "      <td>7.3</td>\n",
       "      <td>2.2</td>\n",
       "      <td>0.9</td>\n",
       "      <td>0.8</td>\n",
       "      <td>1.5</td>\n",
       "      <td>2.5</td>\n",
       "      <td>8.9</td>\n",
       "    </tr>\n",
       "    <tr>\n",
       "      <th>...</th>\n",
       "      <td>...</td>\n",
       "      <td>...</td>\n",
       "      <td>...</td>\n",
       "      <td>...</td>\n",
       "      <td>...</td>\n",
       "      <td>...</td>\n",
       "      <td>...</td>\n",
       "      <td>...</td>\n",
       "      <td>...</td>\n",
       "      <td>...</td>\n",
       "      <td>...</td>\n",
       "      <td>...</td>\n",
       "      <td>...</td>\n",
       "      <td>...</td>\n",
       "      <td>...</td>\n",
       "      <td>...</td>\n",
       "      <td>...</td>\n",
       "      <td>...</td>\n",
       "      <td>...</td>\n",
       "      <td>...</td>\n",
       "      <td>...</td>\n",
       "    </tr>\n",
       "    <tr>\n",
       "      <th>15319</th>\n",
       "      <td>15319</td>\n",
       "      <td>2806</td>\n",
       "      <td>1</td>\n",
       "      <td>Trae Young</td>\n",
       "      <td>2018-19</td>\n",
       "      <td>2018</td>\n",
       "      <td>ATL</td>\n",
       "      <td>81</td>\n",
       "      <td>81</td>\n",
       "      <td>30.9</td>\n",
       "      <td>...</td>\n",
       "      <td>0.324</td>\n",
       "      <td>0.477</td>\n",
       "      <td>0.829</td>\n",
       "      <td>3.7</td>\n",
       "      <td>8.1</td>\n",
       "      <td>0.9</td>\n",
       "      <td>0.2</td>\n",
       "      <td>3.8</td>\n",
       "      <td>1.7</td>\n",
       "      <td>19.1</td>\n",
       "    </tr>\n",
       "    <tr>\n",
       "      <th>15333</th>\n",
       "      <td>15326</td>\n",
       "      <td>2808</td>\n",
       "      <td>6</td>\n",
       "      <td>Cody Zeller</td>\n",
       "      <td>2018-19</td>\n",
       "      <td>2018</td>\n",
       "      <td>CHO</td>\n",
       "      <td>49</td>\n",
       "      <td>47</td>\n",
       "      <td>25.4</td>\n",
       "      <td>...</td>\n",
       "      <td>0.273</td>\n",
       "      <td>0.570</td>\n",
       "      <td>0.787</td>\n",
       "      <td>6.8</td>\n",
       "      <td>2.1</td>\n",
       "      <td>0.8</td>\n",
       "      <td>0.8</td>\n",
       "      <td>1.3</td>\n",
       "      <td>3.3</td>\n",
       "      <td>10.1</td>\n",
       "    </tr>\n",
       "    <tr>\n",
       "      <th>15334</th>\n",
       "      <td>15334</td>\n",
       "      <td>2810</td>\n",
       "      <td>7</td>\n",
       "      <td>Tyler Zeller</td>\n",
       "      <td>2018-19</td>\n",
       "      <td>2018</td>\n",
       "      <td>TOT</td>\n",
       "      <td>6</td>\n",
       "      <td>1</td>\n",
       "      <td>15.5</td>\n",
       "      <td>...</td>\n",
       "      <td>0.000</td>\n",
       "      <td>0.552</td>\n",
       "      <td>0.778</td>\n",
       "      <td>4.0</td>\n",
       "      <td>0.7</td>\n",
       "      <td>0.2</td>\n",
       "      <td>0.5</td>\n",
       "      <td>0.7</td>\n",
       "      <td>3.3</td>\n",
       "      <td>7.7</td>\n",
       "    </tr>\n",
       "    <tr>\n",
       "      <th>15350</th>\n",
       "      <td>15350</td>\n",
       "      <td>2818</td>\n",
       "      <td>2</td>\n",
       "      <td>Ante Zizic</td>\n",
       "      <td>2018-19</td>\n",
       "      <td>2018</td>\n",
       "      <td>CLE</td>\n",
       "      <td>59</td>\n",
       "      <td>25</td>\n",
       "      <td>18.3</td>\n",
       "      <td>...</td>\n",
       "      <td>0.000</td>\n",
       "      <td>0.553</td>\n",
       "      <td>0.705</td>\n",
       "      <td>5.4</td>\n",
       "      <td>0.9</td>\n",
       "      <td>0.2</td>\n",
       "      <td>0.4</td>\n",
       "      <td>1.0</td>\n",
       "      <td>1.9</td>\n",
       "      <td>7.8</td>\n",
       "    </tr>\n",
       "    <tr>\n",
       "      <th>15354</th>\n",
       "      <td>15354</td>\n",
       "      <td>2820</td>\n",
       "      <td>3</td>\n",
       "      <td>Ivica Zubac</td>\n",
       "      <td>2018-19</td>\n",
       "      <td>2018</td>\n",
       "      <td>TOT</td>\n",
       "      <td>59</td>\n",
       "      <td>37</td>\n",
       "      <td>17.6</td>\n",
       "      <td>...</td>\n",
       "      <td>0.000</td>\n",
       "      <td>0.559</td>\n",
       "      <td>0.802</td>\n",
       "      <td>6.1</td>\n",
       "      <td>1.1</td>\n",
       "      <td>0.2</td>\n",
       "      <td>0.9</td>\n",
       "      <td>1.2</td>\n",
       "      <td>2.3</td>\n",
       "      <td>8.9</td>\n",
       "    </tr>\n",
       "  </tbody>\n",
       "</table>\n",
       "<p>530 rows × 21 columns</p>\n",
       "</div>"
      ],
      "text/plain": [
       "       season_id  player_id  player_season        player   season  \\\n",
       "34            34          5              2  Alex Abrines  2018-19   \n",
       "49            49          8              7    Quincy Acy  2018-19   \n",
       "70            52         10              1  Jaylen Adams  2018-19   \n",
       "71            71         13              6  Steven Adams  2018-19   \n",
       "79            79         15              2   Bam Adebayo  2018-19   \n",
       "...          ...        ...            ...           ...      ...   \n",
       "15319      15319       2806              1    Trae Young  2018-19   \n",
       "15333      15326       2808              6   Cody Zeller  2018-19   \n",
       "15334      15334       2810              7  Tyler Zeller  2018-19   \n",
       "15350      15350       2818              2    Ante Zizic  2018-19   \n",
       "15354      15354       2820              3   Ivica Zubac  2018-19   \n",
       "\n",
       "       season_start team  games  gamesstarted    mp  ...  3p_perc  2p_perc  \\\n",
       "34             2018  OKC     31             2  19.0  ...    0.323    0.500   \n",
       "49             2018  PHO     10             0  12.3  ...    0.133    0.667   \n",
       "70             2018  ATL     34             1  12.6  ...    0.338    0.361   \n",
       "71             2018  OKC     80            80  33.4  ...    0.000    0.596   \n",
       "79             2018  MIA     82            28  23.3  ...    0.200    0.588   \n",
       "...             ...  ...    ...           ...   ...  ...      ...      ...   \n",
       "15319          2018  ATL     81            81  30.9  ...    0.324    0.477   \n",
       "15333          2018  CHO     49            47  25.4  ...    0.273    0.570   \n",
       "15334          2018  TOT      6             1  15.5  ...    0.000    0.552   \n",
       "15350          2018  CLE     59            25  18.3  ...    0.000    0.553   \n",
       "15354          2018  TOT     59            37  17.6  ...    0.000    0.559   \n",
       "\n",
       "       ft_perc  trb  ast  stl  blk  tov   pf   pts  \n",
       "34       0.923  1.5  0.6  0.5  0.2  0.5  1.7   5.3  \n",
       "49       0.700  2.5  0.8  0.1  0.4  0.4  2.4   1.7  \n",
       "70       0.778  1.8  1.9  0.4  0.1  0.8  1.3   3.2  \n",
       "71       0.500  9.5  1.6  1.5  1.0  1.7  2.6  13.9  \n",
       "79       0.735  7.3  2.2  0.9  0.8  1.5  2.5   8.9  \n",
       "...        ...  ...  ...  ...  ...  ...  ...   ...  \n",
       "15319    0.829  3.7  8.1  0.9  0.2  3.8  1.7  19.1  \n",
       "15333    0.787  6.8  2.1  0.8  0.8  1.3  3.3  10.1  \n",
       "15334    0.778  4.0  0.7  0.2  0.5  0.7  3.3   7.7  \n",
       "15350    0.705  5.4  0.9  0.2  0.4  1.0  1.9   7.8  \n",
       "15354    0.802  6.1  1.1  0.2  0.9  1.2  2.3   8.9  \n",
       "\n",
       "[530 rows x 21 columns]"
      ]
     },
     "execution_count": 49,
     "metadata": {},
     "output_type": "execute_result"
    }
   ],
   "source": [
    "all_nba_2018_df"
   ]
  },
  {
   "cell_type": "code",
   "execution_count": 50,
   "id": "09d3c1aa",
   "metadata": {},
   "outputs": [
    {
     "data": {
      "text/html": [
       "<div>\n",
       "<style scoped>\n",
       "    .dataframe tbody tr th:only-of-type {\n",
       "        vertical-align: middle;\n",
       "    }\n",
       "\n",
       "    .dataframe tbody tr th {\n",
       "        vertical-align: top;\n",
       "    }\n",
       "\n",
       "    .dataframe thead th {\n",
       "        text-align: right;\n",
       "    }\n",
       "</style>\n",
       "<table border=\"1\" class=\"dataframe\">\n",
       "  <thead>\n",
       "    <tr style=\"text-align: right;\">\n",
       "      <th></th>\n",
       "      <th>player_id</th>\n",
       "      <th>player</th>\n",
       "      <th>all_nba</th>\n",
       "    </tr>\n",
       "  </thead>\n",
       "  <tbody>\n",
       "    <tr>\n",
       "      <th>34</th>\n",
       "      <td>5</td>\n",
       "      <td>Alex Abrines</td>\n",
       "      <td>0</td>\n",
       "    </tr>\n",
       "    <tr>\n",
       "      <th>49</th>\n",
       "      <td>8</td>\n",
       "      <td>Quincy Acy</td>\n",
       "      <td>0</td>\n",
       "    </tr>\n",
       "    <tr>\n",
       "      <th>70</th>\n",
       "      <td>10</td>\n",
       "      <td>Jaylen Adams</td>\n",
       "      <td>0</td>\n",
       "    </tr>\n",
       "    <tr>\n",
       "      <th>71</th>\n",
       "      <td>13</td>\n",
       "      <td>Steven Adams</td>\n",
       "      <td>0</td>\n",
       "    </tr>\n",
       "    <tr>\n",
       "      <th>79</th>\n",
       "      <td>15</td>\n",
       "      <td>Bam Adebayo</td>\n",
       "      <td>0</td>\n",
       "    </tr>\n",
       "    <tr>\n",
       "      <th>...</th>\n",
       "      <td>...</td>\n",
       "      <td>...</td>\n",
       "      <td>...</td>\n",
       "    </tr>\n",
       "    <tr>\n",
       "      <th>15319</th>\n",
       "      <td>2806</td>\n",
       "      <td>Trae Young</td>\n",
       "      <td>0</td>\n",
       "    </tr>\n",
       "    <tr>\n",
       "      <th>15333</th>\n",
       "      <td>2808</td>\n",
       "      <td>Cody Zeller</td>\n",
       "      <td>0</td>\n",
       "    </tr>\n",
       "    <tr>\n",
       "      <th>15334</th>\n",
       "      <td>2810</td>\n",
       "      <td>Tyler Zeller</td>\n",
       "      <td>0</td>\n",
       "    </tr>\n",
       "    <tr>\n",
       "      <th>15350</th>\n",
       "      <td>2818</td>\n",
       "      <td>Ante Zizic</td>\n",
       "      <td>0</td>\n",
       "    </tr>\n",
       "    <tr>\n",
       "      <th>15354</th>\n",
       "      <td>2820</td>\n",
       "      <td>Ivica Zubac</td>\n",
       "      <td>0</td>\n",
       "    </tr>\n",
       "  </tbody>\n",
       "</table>\n",
       "<p>530 rows × 3 columns</p>\n",
       "</div>"
      ],
      "text/plain": [
       "       player_id        player  all_nba\n",
       "34             5  Alex Abrines        0\n",
       "49             8    Quincy Acy        0\n",
       "70            10  Jaylen Adams        0\n",
       "71            13  Steven Adams        0\n",
       "79            15   Bam Adebayo        0\n",
       "...          ...           ...      ...\n",
       "15319       2806    Trae Young        0\n",
       "15333       2808   Cody Zeller        0\n",
       "15334       2810  Tyler Zeller        0\n",
       "15350       2818    Ante Zizic        0\n",
       "15354       2820   Ivica Zubac        0\n",
       "\n",
       "[530 rows x 3 columns]"
      ]
     },
     "execution_count": 50,
     "metadata": {},
     "output_type": "execute_result"
    }
   ],
   "source": [
    "all_nba_2018_selections"
   ]
  },
  {
   "cell_type": "code",
   "execution_count": 51,
   "id": "89f868b4",
   "metadata": {},
   "outputs": [],
   "source": [
    "#save this column name to later concatenate with the df.\n",
    "player_names=all_nba_2018_df['player']\n"
   ]
  },
  {
   "cell_type": "code",
   "execution_count": 52,
   "id": "02061ff3",
   "metadata": {},
   "outputs": [
    {
     "data": {
      "text/html": [
       "<div>\n",
       "<style scoped>\n",
       "    .dataframe tbody tr th:only-of-type {\n",
       "        vertical-align: middle;\n",
       "    }\n",
       "\n",
       "    .dataframe tbody tr th {\n",
       "        vertical-align: top;\n",
       "    }\n",
       "\n",
       "    .dataframe thead th {\n",
       "        text-align: right;\n",
       "    }\n",
       "</style>\n",
       "<table border=\"1\" class=\"dataframe\">\n",
       "  <thead>\n",
       "    <tr style=\"text-align: right;\">\n",
       "      <th></th>\n",
       "      <th>team</th>\n",
       "      <th>games</th>\n",
       "      <th>gamesstarted</th>\n",
       "      <th>mp</th>\n",
       "      <th>fg_perc</th>\n",
       "      <th>3p_perc</th>\n",
       "      <th>2p_perc</th>\n",
       "      <th>ft_perc</th>\n",
       "      <th>trb</th>\n",
       "      <th>ast</th>\n",
       "      <th>stl</th>\n",
       "      <th>blk</th>\n",
       "      <th>tov</th>\n",
       "      <th>pf</th>\n",
       "      <th>pts</th>\n",
       "    </tr>\n",
       "  </thead>\n",
       "  <tbody>\n",
       "    <tr>\n",
       "      <th>34</th>\n",
       "      <td>OKC</td>\n",
       "      <td>-0.928980</td>\n",
       "      <td>-0.816202</td>\n",
       "      <td>-0.136703</td>\n",
       "      <td>-0.864447</td>\n",
       "      <td>0.596239</td>\n",
       "      <td>0.417985</td>\n",
       "      <td>1.200117</td>\n",
       "      <td>-0.813199</td>\n",
       "      <td>-0.677860</td>\n",
       "      <td>-0.362958</td>\n",
       "      <td>-0.434056</td>\n",
       "      <td>-0.926134</td>\n",
       "      <td>-0.285790</td>\n",
       "      <td>-0.494559</td>\n",
       "    </tr>\n",
       "    <tr>\n",
       "      <th>49</th>\n",
       "      <td>PHO</td>\n",
       "      <td>-1.761780</td>\n",
       "      <td>-0.883638</td>\n",
       "      <td>-0.789927</td>\n",
       "      <td>-2.292930</td>\n",
       "      <td>-0.442336</td>\n",
       "      <td>2.097087</td>\n",
       "      <td>0.002548</td>\n",
       "      <td>-0.421585</td>\n",
       "      <td>-0.571225</td>\n",
       "      <td>-1.193255</td>\n",
       "      <td>-0.047068</td>\n",
       "      <td>-1.048590</td>\n",
       "      <td>0.532641</td>\n",
       "      <td>-1.092923</td>\n",
       "    </tr>\n",
       "    <tr>\n",
       "      <th>70</th>\n",
       "      <td>ATL</td>\n",
       "      <td>-0.810009</td>\n",
       "      <td>-0.849920</td>\n",
       "      <td>-0.760678</td>\n",
       "      <td>-0.991424</td>\n",
       "      <td>0.678231</td>\n",
       "      <td>-0.979591</td>\n",
       "      <td>0.421429</td>\n",
       "      <td>-0.695715</td>\n",
       "      <td>0.015267</td>\n",
       "      <td>-0.570532</td>\n",
       "      <td>-0.627549</td>\n",
       "      <td>-0.558765</td>\n",
       "      <td>-0.753465</td>\n",
       "      <td>-0.843605</td>\n",
       "    </tr>\n",
       "    <tr>\n",
       "      <th>71</th>\n",
       "      <td>OKC</td>\n",
       "      <td>1.014220</td>\n",
       "      <td>1.813816</td>\n",
       "      <td>1.267241</td>\n",
       "      <td>1.653914</td>\n",
       "      <td>-1.169338</td>\n",
       "      <td>1.383217</td>\n",
       "      <td>-1.071505</td>\n",
       "      <td>2.319708</td>\n",
       "      <td>-0.144686</td>\n",
       "      <td>1.712786</td>\n",
       "      <td>1.113894</td>\n",
       "      <td>0.543340</td>\n",
       "      <td>0.766478</td>\n",
       "      <td>0.934864</td>\n",
       "    </tr>\n",
       "    <tr>\n",
       "      <th>79</th>\n",
       "      <td>MIA</td>\n",
       "      <td>1.093534</td>\n",
       "      <td>0.060471</td>\n",
       "      <td>0.282530</td>\n",
       "      <td>1.452869</td>\n",
       "      <td>-0.076102</td>\n",
       "      <td>1.302781</td>\n",
       "      <td>0.190507</td>\n",
       "      <td>1.458159</td>\n",
       "      <td>0.175219</td>\n",
       "      <td>0.467340</td>\n",
       "      <td>0.726906</td>\n",
       "      <td>0.298427</td>\n",
       "      <td>0.649559</td>\n",
       "      <td>0.103804</td>\n",
       "    </tr>\n",
       "    <tr>\n",
       "      <th>...</th>\n",
       "      <td>...</td>\n",
       "      <td>...</td>\n",
       "      <td>...</td>\n",
       "      <td>...</td>\n",
       "      <td>...</td>\n",
       "      <td>...</td>\n",
       "      <td>...</td>\n",
       "      <td>...</td>\n",
       "      <td>...</td>\n",
       "      <td>...</td>\n",
       "      <td>...</td>\n",
       "      <td>...</td>\n",
       "      <td>...</td>\n",
       "      <td>...</td>\n",
       "      <td>...</td>\n",
       "    </tr>\n",
       "    <tr>\n",
       "      <th>15319</th>\n",
       "      <td>ATL</td>\n",
       "      <td>1.053877</td>\n",
       "      <td>1.847534</td>\n",
       "      <td>1.023500</td>\n",
       "      <td>-0.218985</td>\n",
       "      <td>0.601705</td>\n",
       "      <td>0.186731</td>\n",
       "      <td>0.695312</td>\n",
       "      <td>0.048351</td>\n",
       "      <td>3.320951</td>\n",
       "      <td>0.467340</td>\n",
       "      <td>-0.434056</td>\n",
       "      <td>3.114918</td>\n",
       "      <td>-0.285790</td>\n",
       "      <td>1.799167</td>\n",
       "    </tr>\n",
       "    <tr>\n",
       "      <th>15333</th>\n",
       "      <td>CHO</td>\n",
       "      <td>-0.215152</td>\n",
       "      <td>0.701116</td>\n",
       "      <td>0.487272</td>\n",
       "      <td>1.188335</td>\n",
       "      <td>0.322930</td>\n",
       "      <td>1.121800</td>\n",
       "      <td>0.469761</td>\n",
       "      <td>1.262352</td>\n",
       "      <td>0.121902</td>\n",
       "      <td>0.259766</td>\n",
       "      <td>0.726906</td>\n",
       "      <td>0.053515</td>\n",
       "      <td>1.584909</td>\n",
       "      <td>0.303258</td>\n",
       "    </tr>\n",
       "    <tr>\n",
       "      <th>15334</th>\n",
       "      <td>TOT</td>\n",
       "      <td>-1.920409</td>\n",
       "      <td>-0.849920</td>\n",
       "      <td>-0.477940</td>\n",
       "      <td>0.997871</td>\n",
       "      <td>-1.169338</td>\n",
       "      <td>0.940819</td>\n",
       "      <td>0.421429</td>\n",
       "      <td>0.165835</td>\n",
       "      <td>-0.624543</td>\n",
       "      <td>-0.985681</td>\n",
       "      <td>0.146425</td>\n",
       "      <td>-0.681222</td>\n",
       "      <td>1.584909</td>\n",
       "      <td>-0.095650</td>\n",
       "    </tr>\n",
       "    <tr>\n",
       "      <th>15350</th>\n",
       "      <td>CLE</td>\n",
       "      <td>0.181420</td>\n",
       "      <td>-0.040684</td>\n",
       "      <td>-0.204951</td>\n",
       "      <td>1.209498</td>\n",
       "      <td>-1.169338</td>\n",
       "      <td>0.950874</td>\n",
       "      <td>0.029399</td>\n",
       "      <td>0.714093</td>\n",
       "      <td>-0.517908</td>\n",
       "      <td>-0.985681</td>\n",
       "      <td>-0.047068</td>\n",
       "      <td>-0.313853</td>\n",
       "      <td>-0.051953</td>\n",
       "      <td>-0.079029</td>\n",
       "    </tr>\n",
       "    <tr>\n",
       "      <th>15354</th>\n",
       "      <td>TOT</td>\n",
       "      <td>0.181420</td>\n",
       "      <td>0.363935</td>\n",
       "      <td>-0.273198</td>\n",
       "      <td>1.272986</td>\n",
       "      <td>-1.169338</td>\n",
       "      <td>1.011201</td>\n",
       "      <td>0.550315</td>\n",
       "      <td>0.988223</td>\n",
       "      <td>-0.411273</td>\n",
       "      <td>-0.985681</td>\n",
       "      <td>0.920400</td>\n",
       "      <td>-0.068941</td>\n",
       "      <td>0.415722</td>\n",
       "      <td>0.103804</td>\n",
       "    </tr>\n",
       "  </tbody>\n",
       "</table>\n",
       "<p>530 rows × 15 columns</p>\n",
       "</div>"
      ],
      "text/plain": [
       "      team     games  gamesstarted        mp   fg_perc   3p_perc   2p_perc  \\\n",
       "34     OKC -0.928980     -0.816202 -0.136703 -0.864447  0.596239  0.417985   \n",
       "49     PHO -1.761780     -0.883638 -0.789927 -2.292930 -0.442336  2.097087   \n",
       "70     ATL -0.810009     -0.849920 -0.760678 -0.991424  0.678231 -0.979591   \n",
       "71     OKC  1.014220      1.813816  1.267241  1.653914 -1.169338  1.383217   \n",
       "79     MIA  1.093534      0.060471  0.282530  1.452869 -0.076102  1.302781   \n",
       "...    ...       ...           ...       ...       ...       ...       ...   \n",
       "15319  ATL  1.053877      1.847534  1.023500 -0.218985  0.601705  0.186731   \n",
       "15333  CHO -0.215152      0.701116  0.487272  1.188335  0.322930  1.121800   \n",
       "15334  TOT -1.920409     -0.849920 -0.477940  0.997871 -1.169338  0.940819   \n",
       "15350  CLE  0.181420     -0.040684 -0.204951  1.209498 -1.169338  0.950874   \n",
       "15354  TOT  0.181420      0.363935 -0.273198  1.272986 -1.169338  1.011201   \n",
       "\n",
       "        ft_perc       trb       ast       stl       blk       tov        pf  \\\n",
       "34     1.200117 -0.813199 -0.677860 -0.362958 -0.434056 -0.926134 -0.285790   \n",
       "49     0.002548 -0.421585 -0.571225 -1.193255 -0.047068 -1.048590  0.532641   \n",
       "70     0.421429 -0.695715  0.015267 -0.570532 -0.627549 -0.558765 -0.753465   \n",
       "71    -1.071505  2.319708 -0.144686  1.712786  1.113894  0.543340  0.766478   \n",
       "79     0.190507  1.458159  0.175219  0.467340  0.726906  0.298427  0.649559   \n",
       "...         ...       ...       ...       ...       ...       ...       ...   \n",
       "15319  0.695312  0.048351  3.320951  0.467340 -0.434056  3.114918 -0.285790   \n",
       "15333  0.469761  1.262352  0.121902  0.259766  0.726906  0.053515  1.584909   \n",
       "15334  0.421429  0.165835 -0.624543 -0.985681  0.146425 -0.681222  1.584909   \n",
       "15350  0.029399  0.714093 -0.517908 -0.985681 -0.047068 -0.313853 -0.051953   \n",
       "15354  0.550315  0.988223 -0.411273 -0.985681  0.920400 -0.068941  0.415722   \n",
       "\n",
       "            pts  \n",
       "34    -0.494559  \n",
       "49    -1.092923  \n",
       "70    -0.843605  \n",
       "71     0.934864  \n",
       "79     0.103804  \n",
       "...         ...  \n",
       "15319  1.799167  \n",
       "15333  0.303258  \n",
       "15334 -0.095650  \n",
       "15350 -0.079029  \n",
       "15354  0.103804  \n",
       "\n",
       "[530 rows x 15 columns]"
      ]
     },
     "execution_count": 52,
     "metadata": {},
     "output_type": "execute_result"
    }
   ],
   "source": [
    "#scaling the numerical variables\n",
    "all_nba_2018_df=all_nba_2018_df.drop(['season_id', 'player_id', 'player_season', 'player', 'season',\n",
    "       'season_start'], axis=1)\n",
    "all_nba_2018_df[col_list]=scaler.transform(all_nba_2018_df[col_list])\n",
    "all_nba_2018_df"
   ]
  },
  {
   "cell_type": "code",
   "execution_count": 53,
   "id": "0225fcc8",
   "metadata": {},
   "outputs": [
    {
     "data": {
      "text/html": [
       "<div>\n",
       "<style scoped>\n",
       "    .dataframe tbody tr th:only-of-type {\n",
       "        vertical-align: middle;\n",
       "    }\n",
       "\n",
       "    .dataframe tbody tr th {\n",
       "        vertical-align: top;\n",
       "    }\n",
       "\n",
       "    .dataframe thead th {\n",
       "        text-align: right;\n",
       "    }\n",
       "</style>\n",
       "<table border=\"1\" class=\"dataframe\">\n",
       "  <thead>\n",
       "    <tr style=\"text-align: right;\">\n",
       "      <th></th>\n",
       "      <th>games</th>\n",
       "      <th>gamesstarted</th>\n",
       "      <th>mp</th>\n",
       "      <th>fg_perc</th>\n",
       "      <th>3p_perc</th>\n",
       "      <th>2p_perc</th>\n",
       "      <th>ft_perc</th>\n",
       "      <th>trb</th>\n",
       "      <th>ast</th>\n",
       "      <th>stl</th>\n",
       "      <th>...</th>\n",
       "      <th>ORL</th>\n",
       "      <th>PHI</th>\n",
       "      <th>PHO</th>\n",
       "      <th>POR</th>\n",
       "      <th>SAC</th>\n",
       "      <th>SAS</th>\n",
       "      <th>TOR</th>\n",
       "      <th>TOT</th>\n",
       "      <th>UTA</th>\n",
       "      <th>WAS</th>\n",
       "    </tr>\n",
       "  </thead>\n",
       "  <tbody>\n",
       "    <tr>\n",
       "      <th>34</th>\n",
       "      <td>-0.928980</td>\n",
       "      <td>-0.816202</td>\n",
       "      <td>-0.136703</td>\n",
       "      <td>-0.864447</td>\n",
       "      <td>0.596239</td>\n",
       "      <td>0.417985</td>\n",
       "      <td>1.200117</td>\n",
       "      <td>-0.813199</td>\n",
       "      <td>-0.677860</td>\n",
       "      <td>-0.362958</td>\n",
       "      <td>...</td>\n",
       "      <td>0</td>\n",
       "      <td>0</td>\n",
       "      <td>0</td>\n",
       "      <td>0</td>\n",
       "      <td>0</td>\n",
       "      <td>0</td>\n",
       "      <td>0</td>\n",
       "      <td>0</td>\n",
       "      <td>0</td>\n",
       "      <td>0</td>\n",
       "    </tr>\n",
       "    <tr>\n",
       "      <th>49</th>\n",
       "      <td>-1.761780</td>\n",
       "      <td>-0.883638</td>\n",
       "      <td>-0.789927</td>\n",
       "      <td>-2.292930</td>\n",
       "      <td>-0.442336</td>\n",
       "      <td>2.097087</td>\n",
       "      <td>0.002548</td>\n",
       "      <td>-0.421585</td>\n",
       "      <td>-0.571225</td>\n",
       "      <td>-1.193255</td>\n",
       "      <td>...</td>\n",
       "      <td>0</td>\n",
       "      <td>0</td>\n",
       "      <td>1</td>\n",
       "      <td>0</td>\n",
       "      <td>0</td>\n",
       "      <td>0</td>\n",
       "      <td>0</td>\n",
       "      <td>0</td>\n",
       "      <td>0</td>\n",
       "      <td>0</td>\n",
       "    </tr>\n",
       "    <tr>\n",
       "      <th>70</th>\n",
       "      <td>-0.810009</td>\n",
       "      <td>-0.849920</td>\n",
       "      <td>-0.760678</td>\n",
       "      <td>-0.991424</td>\n",
       "      <td>0.678231</td>\n",
       "      <td>-0.979591</td>\n",
       "      <td>0.421429</td>\n",
       "      <td>-0.695715</td>\n",
       "      <td>0.015267</td>\n",
       "      <td>-0.570532</td>\n",
       "      <td>...</td>\n",
       "      <td>0</td>\n",
       "      <td>0</td>\n",
       "      <td>0</td>\n",
       "      <td>0</td>\n",
       "      <td>0</td>\n",
       "      <td>0</td>\n",
       "      <td>0</td>\n",
       "      <td>0</td>\n",
       "      <td>0</td>\n",
       "      <td>0</td>\n",
       "    </tr>\n",
       "    <tr>\n",
       "      <th>71</th>\n",
       "      <td>1.014220</td>\n",
       "      <td>1.813816</td>\n",
       "      <td>1.267241</td>\n",
       "      <td>1.653914</td>\n",
       "      <td>-1.169338</td>\n",
       "      <td>1.383217</td>\n",
       "      <td>-1.071505</td>\n",
       "      <td>2.319708</td>\n",
       "      <td>-0.144686</td>\n",
       "      <td>1.712786</td>\n",
       "      <td>...</td>\n",
       "      <td>0</td>\n",
       "      <td>0</td>\n",
       "      <td>0</td>\n",
       "      <td>0</td>\n",
       "      <td>0</td>\n",
       "      <td>0</td>\n",
       "      <td>0</td>\n",
       "      <td>0</td>\n",
       "      <td>0</td>\n",
       "      <td>0</td>\n",
       "    </tr>\n",
       "    <tr>\n",
       "      <th>79</th>\n",
       "      <td>1.093534</td>\n",
       "      <td>0.060471</td>\n",
       "      <td>0.282530</td>\n",
       "      <td>1.452869</td>\n",
       "      <td>-0.076102</td>\n",
       "      <td>1.302781</td>\n",
       "      <td>0.190507</td>\n",
       "      <td>1.458159</td>\n",
       "      <td>0.175219</td>\n",
       "      <td>0.467340</td>\n",
       "      <td>...</td>\n",
       "      <td>0</td>\n",
       "      <td>0</td>\n",
       "      <td>0</td>\n",
       "      <td>0</td>\n",
       "      <td>0</td>\n",
       "      <td>0</td>\n",
       "      <td>0</td>\n",
       "      <td>0</td>\n",
       "      <td>0</td>\n",
       "      <td>0</td>\n",
       "    </tr>\n",
       "    <tr>\n",
       "      <th>...</th>\n",
       "      <td>...</td>\n",
       "      <td>...</td>\n",
       "      <td>...</td>\n",
       "      <td>...</td>\n",
       "      <td>...</td>\n",
       "      <td>...</td>\n",
       "      <td>...</td>\n",
       "      <td>...</td>\n",
       "      <td>...</td>\n",
       "      <td>...</td>\n",
       "      <td>...</td>\n",
       "      <td>...</td>\n",
       "      <td>...</td>\n",
       "      <td>...</td>\n",
       "      <td>...</td>\n",
       "      <td>...</td>\n",
       "      <td>...</td>\n",
       "      <td>...</td>\n",
       "      <td>...</td>\n",
       "      <td>...</td>\n",
       "      <td>...</td>\n",
       "    </tr>\n",
       "    <tr>\n",
       "      <th>15319</th>\n",
       "      <td>1.053877</td>\n",
       "      <td>1.847534</td>\n",
       "      <td>1.023500</td>\n",
       "      <td>-0.218985</td>\n",
       "      <td>0.601705</td>\n",
       "      <td>0.186731</td>\n",
       "      <td>0.695312</td>\n",
       "      <td>0.048351</td>\n",
       "      <td>3.320951</td>\n",
       "      <td>0.467340</td>\n",
       "      <td>...</td>\n",
       "      <td>0</td>\n",
       "      <td>0</td>\n",
       "      <td>0</td>\n",
       "      <td>0</td>\n",
       "      <td>0</td>\n",
       "      <td>0</td>\n",
       "      <td>0</td>\n",
       "      <td>0</td>\n",
       "      <td>0</td>\n",
       "      <td>0</td>\n",
       "    </tr>\n",
       "    <tr>\n",
       "      <th>15333</th>\n",
       "      <td>-0.215152</td>\n",
       "      <td>0.701116</td>\n",
       "      <td>0.487272</td>\n",
       "      <td>1.188335</td>\n",
       "      <td>0.322930</td>\n",
       "      <td>1.121800</td>\n",
       "      <td>0.469761</td>\n",
       "      <td>1.262352</td>\n",
       "      <td>0.121902</td>\n",
       "      <td>0.259766</td>\n",
       "      <td>...</td>\n",
       "      <td>0</td>\n",
       "      <td>0</td>\n",
       "      <td>0</td>\n",
       "      <td>0</td>\n",
       "      <td>0</td>\n",
       "      <td>0</td>\n",
       "      <td>0</td>\n",
       "      <td>0</td>\n",
       "      <td>0</td>\n",
       "      <td>0</td>\n",
       "    </tr>\n",
       "    <tr>\n",
       "      <th>15334</th>\n",
       "      <td>-1.920409</td>\n",
       "      <td>-0.849920</td>\n",
       "      <td>-0.477940</td>\n",
       "      <td>0.997871</td>\n",
       "      <td>-1.169338</td>\n",
       "      <td>0.940819</td>\n",
       "      <td>0.421429</td>\n",
       "      <td>0.165835</td>\n",
       "      <td>-0.624543</td>\n",
       "      <td>-0.985681</td>\n",
       "      <td>...</td>\n",
       "      <td>0</td>\n",
       "      <td>0</td>\n",
       "      <td>0</td>\n",
       "      <td>0</td>\n",
       "      <td>0</td>\n",
       "      <td>0</td>\n",
       "      <td>0</td>\n",
       "      <td>1</td>\n",
       "      <td>0</td>\n",
       "      <td>0</td>\n",
       "    </tr>\n",
       "    <tr>\n",
       "      <th>15350</th>\n",
       "      <td>0.181420</td>\n",
       "      <td>-0.040684</td>\n",
       "      <td>-0.204951</td>\n",
       "      <td>1.209498</td>\n",
       "      <td>-1.169338</td>\n",
       "      <td>0.950874</td>\n",
       "      <td>0.029399</td>\n",
       "      <td>0.714093</td>\n",
       "      <td>-0.517908</td>\n",
       "      <td>-0.985681</td>\n",
       "      <td>...</td>\n",
       "      <td>0</td>\n",
       "      <td>0</td>\n",
       "      <td>0</td>\n",
       "      <td>0</td>\n",
       "      <td>0</td>\n",
       "      <td>0</td>\n",
       "      <td>0</td>\n",
       "      <td>0</td>\n",
       "      <td>0</td>\n",
       "      <td>0</td>\n",
       "    </tr>\n",
       "    <tr>\n",
       "      <th>15354</th>\n",
       "      <td>0.181420</td>\n",
       "      <td>0.363935</td>\n",
       "      <td>-0.273198</td>\n",
       "      <td>1.272986</td>\n",
       "      <td>-1.169338</td>\n",
       "      <td>1.011201</td>\n",
       "      <td>0.550315</td>\n",
       "      <td>0.988223</td>\n",
       "      <td>-0.411273</td>\n",
       "      <td>-0.985681</td>\n",
       "      <td>...</td>\n",
       "      <td>0</td>\n",
       "      <td>0</td>\n",
       "      <td>0</td>\n",
       "      <td>0</td>\n",
       "      <td>0</td>\n",
       "      <td>0</td>\n",
       "      <td>0</td>\n",
       "      <td>1</td>\n",
       "      <td>0</td>\n",
       "      <td>0</td>\n",
       "    </tr>\n",
       "  </tbody>\n",
       "</table>\n",
       "<p>530 rows × 45 columns</p>\n",
       "</div>"
      ],
      "text/plain": [
       "          games  gamesstarted        mp   fg_perc   3p_perc   2p_perc  \\\n",
       "34    -0.928980     -0.816202 -0.136703 -0.864447  0.596239  0.417985   \n",
       "49    -1.761780     -0.883638 -0.789927 -2.292930 -0.442336  2.097087   \n",
       "70    -0.810009     -0.849920 -0.760678 -0.991424  0.678231 -0.979591   \n",
       "71     1.014220      1.813816  1.267241  1.653914 -1.169338  1.383217   \n",
       "79     1.093534      0.060471  0.282530  1.452869 -0.076102  1.302781   \n",
       "...         ...           ...       ...       ...       ...       ...   \n",
       "15319  1.053877      1.847534  1.023500 -0.218985  0.601705  0.186731   \n",
       "15333 -0.215152      0.701116  0.487272  1.188335  0.322930  1.121800   \n",
       "15334 -1.920409     -0.849920 -0.477940  0.997871 -1.169338  0.940819   \n",
       "15350  0.181420     -0.040684 -0.204951  1.209498 -1.169338  0.950874   \n",
       "15354  0.181420      0.363935 -0.273198  1.272986 -1.169338  1.011201   \n",
       "\n",
       "        ft_perc       trb       ast       stl  ...  ORL  PHI  PHO  POR  SAC  \\\n",
       "34     1.200117 -0.813199 -0.677860 -0.362958  ...    0    0    0    0    0   \n",
       "49     0.002548 -0.421585 -0.571225 -1.193255  ...    0    0    1    0    0   \n",
       "70     0.421429 -0.695715  0.015267 -0.570532  ...    0    0    0    0    0   \n",
       "71    -1.071505  2.319708 -0.144686  1.712786  ...    0    0    0    0    0   \n",
       "79     0.190507  1.458159  0.175219  0.467340  ...    0    0    0    0    0   \n",
       "...         ...       ...       ...       ...  ...  ...  ...  ...  ...  ...   \n",
       "15319  0.695312  0.048351  3.320951  0.467340  ...    0    0    0    0    0   \n",
       "15333  0.469761  1.262352  0.121902  0.259766  ...    0    0    0    0    0   \n",
       "15334  0.421429  0.165835 -0.624543 -0.985681  ...    0    0    0    0    0   \n",
       "15350  0.029399  0.714093 -0.517908 -0.985681  ...    0    0    0    0    0   \n",
       "15354  0.550315  0.988223 -0.411273 -0.985681  ...    0    0    0    0    0   \n",
       "\n",
       "       SAS  TOR  TOT  UTA  WAS  \n",
       "34       0    0    0    0    0  \n",
       "49       0    0    0    0    0  \n",
       "70       0    0    0    0    0  \n",
       "71       0    0    0    0    0  \n",
       "79       0    0    0    0    0  \n",
       "...    ...  ...  ...  ...  ...  \n",
       "15319    0    0    0    0    0  \n",
       "15333    0    0    0    0    0  \n",
       "15334    0    0    1    0    0  \n",
       "15350    0    0    0    0    0  \n",
       "15354    0    0    1    0    0  \n",
       "\n",
       "[530 rows x 45 columns]"
      ]
     },
     "execution_count": 53,
     "metadata": {},
     "output_type": "execute_result"
    }
   ],
   "source": [
    "#Make one hot encoding of team name\n",
    "df_dummies=pd.get_dummies(all_nba_2018_df['team'])\n",
    "all_nba_2018_df=pd.concat([all_nba_2018_df,df_dummies],axis=1)\n",
    "all_nba_2018_df=all_nba_2018_df.drop(['team'], axis=1)\n",
    "all_nba_2018_df"
   ]
  },
  {
   "cell_type": "code",
   "execution_count": 54,
   "id": "4e822e20",
   "metadata": {},
   "outputs": [
    {
     "data": {
      "text/html": [
       "<div>\n",
       "<style scoped>\n",
       "    .dataframe tbody tr th:only-of-type {\n",
       "        vertical-align: middle;\n",
       "    }\n",
       "\n",
       "    .dataframe tbody tr th {\n",
       "        vertical-align: top;\n",
       "    }\n",
       "\n",
       "    .dataframe thead th {\n",
       "        text-align: right;\n",
       "    }\n",
       "</style>\n",
       "<table border=\"1\" class=\"dataframe\">\n",
       "  <thead>\n",
       "    <tr style=\"text-align: right;\">\n",
       "      <th></th>\n",
       "      <th>games</th>\n",
       "      <th>gamesstarted</th>\n",
       "      <th>mp</th>\n",
       "      <th>fg_perc</th>\n",
       "      <th>3p_perc</th>\n",
       "      <th>2p_perc</th>\n",
       "      <th>ft_perc</th>\n",
       "      <th>trb</th>\n",
       "      <th>ast</th>\n",
       "      <th>stl</th>\n",
       "      <th>...</th>\n",
       "      <th>CHA</th>\n",
       "      <th>CHH</th>\n",
       "      <th>KCK</th>\n",
       "      <th>NJN</th>\n",
       "      <th>NOH</th>\n",
       "      <th>NOK</th>\n",
       "      <th>SDC</th>\n",
       "      <th>SEA</th>\n",
       "      <th>VAN</th>\n",
       "      <th>WSB</th>\n",
       "    </tr>\n",
       "  </thead>\n",
       "  <tbody>\n",
       "    <tr>\n",
       "      <th>0</th>\n",
       "      <td>-0.928980</td>\n",
       "      <td>-0.816202</td>\n",
       "      <td>-0.136703</td>\n",
       "      <td>-0.864447</td>\n",
       "      <td>0.596239</td>\n",
       "      <td>0.417985</td>\n",
       "      <td>1.200117</td>\n",
       "      <td>-0.813199</td>\n",
       "      <td>-0.677860</td>\n",
       "      <td>-0.362958</td>\n",
       "      <td>...</td>\n",
       "      <td>0</td>\n",
       "      <td>0</td>\n",
       "      <td>0</td>\n",
       "      <td>0</td>\n",
       "      <td>0</td>\n",
       "      <td>0</td>\n",
       "      <td>0</td>\n",
       "      <td>0</td>\n",
       "      <td>0</td>\n",
       "      <td>0</td>\n",
       "    </tr>\n",
       "    <tr>\n",
       "      <th>1</th>\n",
       "      <td>-1.761780</td>\n",
       "      <td>-0.883638</td>\n",
       "      <td>-0.789927</td>\n",
       "      <td>-2.292930</td>\n",
       "      <td>-0.442336</td>\n",
       "      <td>2.097087</td>\n",
       "      <td>0.002548</td>\n",
       "      <td>-0.421585</td>\n",
       "      <td>-0.571225</td>\n",
       "      <td>-1.193255</td>\n",
       "      <td>...</td>\n",
       "      <td>0</td>\n",
       "      <td>0</td>\n",
       "      <td>0</td>\n",
       "      <td>0</td>\n",
       "      <td>0</td>\n",
       "      <td>0</td>\n",
       "      <td>0</td>\n",
       "      <td>0</td>\n",
       "      <td>0</td>\n",
       "      <td>0</td>\n",
       "    </tr>\n",
       "    <tr>\n",
       "      <th>2</th>\n",
       "      <td>-0.810009</td>\n",
       "      <td>-0.849920</td>\n",
       "      <td>-0.760678</td>\n",
       "      <td>-0.991424</td>\n",
       "      <td>0.678231</td>\n",
       "      <td>-0.979591</td>\n",
       "      <td>0.421429</td>\n",
       "      <td>-0.695715</td>\n",
       "      <td>0.015267</td>\n",
       "      <td>-0.570532</td>\n",
       "      <td>...</td>\n",
       "      <td>0</td>\n",
       "      <td>0</td>\n",
       "      <td>0</td>\n",
       "      <td>0</td>\n",
       "      <td>0</td>\n",
       "      <td>0</td>\n",
       "      <td>0</td>\n",
       "      <td>0</td>\n",
       "      <td>0</td>\n",
       "      <td>0</td>\n",
       "    </tr>\n",
       "    <tr>\n",
       "      <th>3</th>\n",
       "      <td>1.014220</td>\n",
       "      <td>1.813816</td>\n",
       "      <td>1.267241</td>\n",
       "      <td>1.653914</td>\n",
       "      <td>-1.169338</td>\n",
       "      <td>1.383217</td>\n",
       "      <td>-1.071505</td>\n",
       "      <td>2.319708</td>\n",
       "      <td>-0.144686</td>\n",
       "      <td>1.712786</td>\n",
       "      <td>...</td>\n",
       "      <td>0</td>\n",
       "      <td>0</td>\n",
       "      <td>0</td>\n",
       "      <td>0</td>\n",
       "      <td>0</td>\n",
       "      <td>0</td>\n",
       "      <td>0</td>\n",
       "      <td>0</td>\n",
       "      <td>0</td>\n",
       "      <td>0</td>\n",
       "    </tr>\n",
       "    <tr>\n",
       "      <th>4</th>\n",
       "      <td>1.093534</td>\n",
       "      <td>0.060471</td>\n",
       "      <td>0.282530</td>\n",
       "      <td>1.452869</td>\n",
       "      <td>-0.076102</td>\n",
       "      <td>1.302781</td>\n",
       "      <td>0.190507</td>\n",
       "      <td>1.458159</td>\n",
       "      <td>0.175219</td>\n",
       "      <td>0.467340</td>\n",
       "      <td>...</td>\n",
       "      <td>0</td>\n",
       "      <td>0</td>\n",
       "      <td>0</td>\n",
       "      <td>0</td>\n",
       "      <td>0</td>\n",
       "      <td>0</td>\n",
       "      <td>0</td>\n",
       "      <td>0</td>\n",
       "      <td>0</td>\n",
       "      <td>0</td>\n",
       "    </tr>\n",
       "    <tr>\n",
       "      <th>...</th>\n",
       "      <td>...</td>\n",
       "      <td>...</td>\n",
       "      <td>...</td>\n",
       "      <td>...</td>\n",
       "      <td>...</td>\n",
       "      <td>...</td>\n",
       "      <td>...</td>\n",
       "      <td>...</td>\n",
       "      <td>...</td>\n",
       "      <td>...</td>\n",
       "      <td>...</td>\n",
       "      <td>...</td>\n",
       "      <td>...</td>\n",
       "      <td>...</td>\n",
       "      <td>...</td>\n",
       "      <td>...</td>\n",
       "      <td>...</td>\n",
       "      <td>...</td>\n",
       "      <td>...</td>\n",
       "      <td>...</td>\n",
       "      <td>...</td>\n",
       "    </tr>\n",
       "    <tr>\n",
       "      <th>525</th>\n",
       "      <td>1.053877</td>\n",
       "      <td>1.847534</td>\n",
       "      <td>1.023500</td>\n",
       "      <td>-0.218985</td>\n",
       "      <td>0.601705</td>\n",
       "      <td>0.186731</td>\n",
       "      <td>0.695312</td>\n",
       "      <td>0.048351</td>\n",
       "      <td>3.320951</td>\n",
       "      <td>0.467340</td>\n",
       "      <td>...</td>\n",
       "      <td>0</td>\n",
       "      <td>0</td>\n",
       "      <td>0</td>\n",
       "      <td>0</td>\n",
       "      <td>0</td>\n",
       "      <td>0</td>\n",
       "      <td>0</td>\n",
       "      <td>0</td>\n",
       "      <td>0</td>\n",
       "      <td>0</td>\n",
       "    </tr>\n",
       "    <tr>\n",
       "      <th>526</th>\n",
       "      <td>-0.215152</td>\n",
       "      <td>0.701116</td>\n",
       "      <td>0.487272</td>\n",
       "      <td>1.188335</td>\n",
       "      <td>0.322930</td>\n",
       "      <td>1.121800</td>\n",
       "      <td>0.469761</td>\n",
       "      <td>1.262352</td>\n",
       "      <td>0.121902</td>\n",
       "      <td>0.259766</td>\n",
       "      <td>...</td>\n",
       "      <td>0</td>\n",
       "      <td>0</td>\n",
       "      <td>0</td>\n",
       "      <td>0</td>\n",
       "      <td>0</td>\n",
       "      <td>0</td>\n",
       "      <td>0</td>\n",
       "      <td>0</td>\n",
       "      <td>0</td>\n",
       "      <td>0</td>\n",
       "    </tr>\n",
       "    <tr>\n",
       "      <th>527</th>\n",
       "      <td>-1.920409</td>\n",
       "      <td>-0.849920</td>\n",
       "      <td>-0.477940</td>\n",
       "      <td>0.997871</td>\n",
       "      <td>-1.169338</td>\n",
       "      <td>0.940819</td>\n",
       "      <td>0.421429</td>\n",
       "      <td>0.165835</td>\n",
       "      <td>-0.624543</td>\n",
       "      <td>-0.985681</td>\n",
       "      <td>...</td>\n",
       "      <td>0</td>\n",
       "      <td>0</td>\n",
       "      <td>0</td>\n",
       "      <td>0</td>\n",
       "      <td>0</td>\n",
       "      <td>0</td>\n",
       "      <td>0</td>\n",
       "      <td>0</td>\n",
       "      <td>0</td>\n",
       "      <td>0</td>\n",
       "    </tr>\n",
       "    <tr>\n",
       "      <th>528</th>\n",
       "      <td>0.181420</td>\n",
       "      <td>-0.040684</td>\n",
       "      <td>-0.204951</td>\n",
       "      <td>1.209498</td>\n",
       "      <td>-1.169338</td>\n",
       "      <td>0.950874</td>\n",
       "      <td>0.029399</td>\n",
       "      <td>0.714093</td>\n",
       "      <td>-0.517908</td>\n",
       "      <td>-0.985681</td>\n",
       "      <td>...</td>\n",
       "      <td>0</td>\n",
       "      <td>0</td>\n",
       "      <td>0</td>\n",
       "      <td>0</td>\n",
       "      <td>0</td>\n",
       "      <td>0</td>\n",
       "      <td>0</td>\n",
       "      <td>0</td>\n",
       "      <td>0</td>\n",
       "      <td>0</td>\n",
       "    </tr>\n",
       "    <tr>\n",
       "      <th>529</th>\n",
       "      <td>0.181420</td>\n",
       "      <td>0.363935</td>\n",
       "      <td>-0.273198</td>\n",
       "      <td>1.272986</td>\n",
       "      <td>-1.169338</td>\n",
       "      <td>1.011201</td>\n",
       "      <td>0.550315</td>\n",
       "      <td>0.988223</td>\n",
       "      <td>-0.411273</td>\n",
       "      <td>-0.985681</td>\n",
       "      <td>...</td>\n",
       "      <td>0</td>\n",
       "      <td>0</td>\n",
       "      <td>0</td>\n",
       "      <td>0</td>\n",
       "      <td>0</td>\n",
       "      <td>0</td>\n",
       "      <td>0</td>\n",
       "      <td>0</td>\n",
       "      <td>0</td>\n",
       "      <td>0</td>\n",
       "    </tr>\n",
       "  </tbody>\n",
       "</table>\n",
       "<p>530 rows × 55 columns</p>\n",
       "</div>"
      ],
      "text/plain": [
       "        games  gamesstarted        mp   fg_perc   3p_perc   2p_perc   ft_perc  \\\n",
       "0   -0.928980     -0.816202 -0.136703 -0.864447  0.596239  0.417985  1.200117   \n",
       "1   -1.761780     -0.883638 -0.789927 -2.292930 -0.442336  2.097087  0.002548   \n",
       "2   -0.810009     -0.849920 -0.760678 -0.991424  0.678231 -0.979591  0.421429   \n",
       "3    1.014220      1.813816  1.267241  1.653914 -1.169338  1.383217 -1.071505   \n",
       "4    1.093534      0.060471  0.282530  1.452869 -0.076102  1.302781  0.190507   \n",
       "..        ...           ...       ...       ...       ...       ...       ...   \n",
       "525  1.053877      1.847534  1.023500 -0.218985  0.601705  0.186731  0.695312   \n",
       "526 -0.215152      0.701116  0.487272  1.188335  0.322930  1.121800  0.469761   \n",
       "527 -1.920409     -0.849920 -0.477940  0.997871 -1.169338  0.940819  0.421429   \n",
       "528  0.181420     -0.040684 -0.204951  1.209498 -1.169338  0.950874  0.029399   \n",
       "529  0.181420      0.363935 -0.273198  1.272986 -1.169338  1.011201  0.550315   \n",
       "\n",
       "          trb       ast       stl  ...  CHA  CHH  KCK  NJN  NOH  NOK  SDC  \\\n",
       "0   -0.813199 -0.677860 -0.362958  ...    0    0    0    0    0    0    0   \n",
       "1   -0.421585 -0.571225 -1.193255  ...    0    0    0    0    0    0    0   \n",
       "2   -0.695715  0.015267 -0.570532  ...    0    0    0    0    0    0    0   \n",
       "3    2.319708 -0.144686  1.712786  ...    0    0    0    0    0    0    0   \n",
       "4    1.458159  0.175219  0.467340  ...    0    0    0    0    0    0    0   \n",
       "..        ...       ...       ...  ...  ...  ...  ...  ...  ...  ...  ...   \n",
       "525  0.048351  3.320951  0.467340  ...    0    0    0    0    0    0    0   \n",
       "526  1.262352  0.121902  0.259766  ...    0    0    0    0    0    0    0   \n",
       "527  0.165835 -0.624543 -0.985681  ...    0    0    0    0    0    0    0   \n",
       "528  0.714093 -0.517908 -0.985681  ...    0    0    0    0    0    0    0   \n",
       "529  0.988223 -0.411273 -0.985681  ...    0    0    0    0    0    0    0   \n",
       "\n",
       "     SEA  VAN  WSB  \n",
       "0      0    0    0  \n",
       "1      0    0    0  \n",
       "2      0    0    0  \n",
       "3      0    0    0  \n",
       "4      0    0    0  \n",
       "..   ...  ...  ...  \n",
       "525    0    0    0  \n",
       "526    0    0    0  \n",
       "527    0    0    0  \n",
       "528    0    0    0  \n",
       "529    0    0    0  \n",
       "\n",
       "[530 rows x 55 columns]"
      ]
     },
     "execution_count": 54,
     "metadata": {},
     "output_type": "execute_result"
    }
   ],
   "source": [
    "#Add the missing team names encoding \n",
    "missing_names=X_train.columns.difference(all_nba_2018_df.columns)\n",
    "missing_df=pd.DataFrame(np.zeros((530,10),dtype='int8'),columns=missing_names)\n",
    "all_nba_2018_df=pd.concat([all_nba_2018_df.reset_index(drop=True),missing_df],axis=1)\n",
    "all_nba_2018_df"
   ]
  },
  {
   "cell_type": "markdown",
   "id": "8b0bb296-b1b3-4ae4-b199-b11224c78a82",
   "metadata": {
    "id": "8b0bb296-b1b3-4ae4-b199-b11224c78a82"
   },
   "source": [
    "2.11. Predict and evaluate the model using precision, recall and f1 score. "
   ]
  },
  {
   "cell_type": "code",
   "execution_count": 55,
   "id": "4e7608ca",
   "metadata": {},
   "outputs": [],
   "source": [
    "y_test_new_dataset=all_nba_2018_selections.all_nba"
   ]
  },
  {
   "cell_type": "code",
   "execution_count": 56,
   "id": "b00ddffa-3f09-4294-beb5-098c2d698af0",
   "metadata": {
    "id": "b00ddffa-3f09-4294-beb5-098c2d698af0"
   },
   "outputs": [
    {
     "name": "stdout",
     "output_type": "stream",
     "text": [
      "              precision    recall  f1-score   support\n",
      "\n",
      "           0       1.00      0.98      0.99       515\n",
      "           1       0.58      0.93      0.72        15\n",
      "\n",
      "    accuracy                           0.98       530\n",
      "   macro avg       0.79      0.96      0.85       530\n",
      "weighted avg       0.99      0.98      0.98       530\n",
      "\n"
     ]
    }
   ],
   "source": [
    "y_predict_new_dataset= model.predict(all_nba_2018_df)\n",
    "print(classification_report(y_test_new_dataset, y_predict_new_dataset))"
   ]
  },
  {
   "cell_type": "code",
   "execution_count": 57,
   "id": "1c921022",
   "metadata": {},
   "outputs": [
    {
     "name": "stdout",
     "output_type": "stream",
     "text": [
      "Other way to show the same:\n",
      "f1_score: 0.72\n",
      "precision: 0.58\n",
      "recall: 0.93\n",
      "accuracy: 0.98\n"
     ]
    }
   ],
   "source": [
    "print('Other way to show the same:')\n",
    "print('f1_score:',round(f1_score(y_test_new_dataset, y_predict_new_dataset),2))\n",
    "print('precision:',round(precision_score(y_test_new_dataset, y_predict_new_dataset),2))\n",
    "print('recall:',round(recall_score(y_test_new_dataset, y_predict_new_dataset),2))\n",
    "print('accuracy:',round(accuracy_score(y_test_new_dataset, y_predict_new_dataset),2))"
   ]
  },
  {
   "cell_type": "code",
   "execution_count": 58,
   "id": "88708877",
   "metadata": {},
   "outputs": [
    {
     "data": {
      "image/png": "[encoded data removed]",
      "text/plain": [
       "<Figure size 720x360 with 2 Axes>"
      ]
     },
     "metadata": {
      "needs_background": "light"
     },
     "output_type": "display_data"
    }
   ],
   "source": [
    "plot_confusion_matrix(model, all_nba_2018_df, y_test_new_dataset)\n",
    "plt.title('Confusion matrix')\n",
    "plt.show()"
   ]
  },
  {
   "cell_type": "markdown",
   "id": "be98174e-4d1b-407d-8ecc-dd568f6e5368",
   "metadata": {
    "id": "be98174e-4d1b-407d-8ecc-dd568f6e5368"
   },
   "source": [
    "2.12. Analyze the results, what do you think it is happening?"
   ]
  },
  {
   "cell_type": "markdown",
   "id": "baf2b735",
   "metadata": {
    "id": "17f87aa8-dd84-462a-b26b-80400e4a87e3"
   },
   "source": [
    "What its happening is that the recall now is greater than the precision. If we see at the confusion matrix we correctly predict  almost all the people who were selected. However the precision now is poor because we say that more people were selected but they weren't. The f1 score doesnt change so much, so the precision and recall trade-off is still the same. "
   ]
  },
  {
   "cell_type": "markdown",
   "id": "77a8c607-5df7-43d2-8365-cbbb6f2b93e1",
   "metadata": {
    "id": "77a8c607-5df7-43d2-8365-cbbb6f2b93e1"
   },
   "source": [
    "#### Creating our custom Classifier"
   ]
  },
  {
   "cell_type": "markdown",
   "id": "21dc0d0a-1d15-4f9e-b3ed-f83df1f51ce0",
   "metadata": {
    "id": "21dc0d0a-1d15-4f9e-b3ed-f83df1f51ce0"
   },
   "source": [
    "One thing to consider in this problem, is that the number of ALl NBA selections is fixed each year, a total of 15 players are always selected. But our current model does not limit the number of positive classified players. So, we will have to wrap our model in a custom classifier that only returns as positive the 15 players with the higher probabilities. \n",
    "Fortunately, our chosen model provides access to the underlying probabilities."
   ]
  },
  {
   "cell_type": "markdown",
   "id": "e22326d3-c1ae-475b-9b31-7b02876f8bbc",
   "metadata": {
    "id": "e22326d3-c1ae-475b-9b31-7b02876f8bbc"
   },
   "source": [
    "2.13. Using the trained model, predict probabilities for all rows in the dataset, and create a new column that has the probability that the player was selected as all nba. Round the probability to 3 decimals."
   ]
  },
  {
   "cell_type": "code",
   "execution_count": 59,
   "id": "fddf0631-d676-485d-9748-a688e854c9f2",
   "metadata": {
    "id": "fddf0631-d676-485d-9748-a688e854c9f2"
   },
   "outputs": [
    {
     "data": {
      "text/html": [
       "<div>\n",
       "<style scoped>\n",
       "    .dataframe tbody tr th:only-of-type {\n",
       "        vertical-align: middle;\n",
       "    }\n",
       "\n",
       "    .dataframe tbody tr th {\n",
       "        vertical-align: top;\n",
       "    }\n",
       "\n",
       "    .dataframe thead th {\n",
       "        text-align: right;\n",
       "    }\n",
       "</style>\n",
       "<table border=\"1\" class=\"dataframe\">\n",
       "  <thead>\n",
       "    <tr style=\"text-align: right;\">\n",
       "      <th></th>\n",
       "      <th>games</th>\n",
       "      <th>gamesstarted</th>\n",
       "      <th>mp</th>\n",
       "      <th>fg_perc</th>\n",
       "      <th>3p_perc</th>\n",
       "      <th>2p_perc</th>\n",
       "      <th>ft_perc</th>\n",
       "      <th>trb</th>\n",
       "      <th>ast</th>\n",
       "      <th>stl</th>\n",
       "      <th>...</th>\n",
       "      <th>KCK</th>\n",
       "      <th>NJN</th>\n",
       "      <th>NOH</th>\n",
       "      <th>NOK</th>\n",
       "      <th>SDC</th>\n",
       "      <th>SEA</th>\n",
       "      <th>VAN</th>\n",
       "      <th>WSB</th>\n",
       "      <th>probabilities</th>\n",
       "      <th>player</th>\n",
       "    </tr>\n",
       "  </thead>\n",
       "  <tbody>\n",
       "    <tr>\n",
       "      <th>0</th>\n",
       "      <td>-0.928980</td>\n",
       "      <td>-0.816202</td>\n",
       "      <td>-0.136703</td>\n",
       "      <td>-0.864447</td>\n",
       "      <td>0.596239</td>\n",
       "      <td>0.417985</td>\n",
       "      <td>1.200117</td>\n",
       "      <td>-0.813199</td>\n",
       "      <td>-0.677860</td>\n",
       "      <td>-0.362958</td>\n",
       "      <td>...</td>\n",
       "      <td>0</td>\n",
       "      <td>0</td>\n",
       "      <td>0</td>\n",
       "      <td>0</td>\n",
       "      <td>0</td>\n",
       "      <td>0</td>\n",
       "      <td>0</td>\n",
       "      <td>0</td>\n",
       "      <td>0.000</td>\n",
       "      <td>Alex Abrines</td>\n",
       "    </tr>\n",
       "    <tr>\n",
       "      <th>1</th>\n",
       "      <td>-1.761780</td>\n",
       "      <td>-0.883638</td>\n",
       "      <td>-0.789927</td>\n",
       "      <td>-2.292930</td>\n",
       "      <td>-0.442336</td>\n",
       "      <td>2.097087</td>\n",
       "      <td>0.002548</td>\n",
       "      <td>-0.421585</td>\n",
       "      <td>-0.571225</td>\n",
       "      <td>-1.193255</td>\n",
       "      <td>...</td>\n",
       "      <td>0</td>\n",
       "      <td>0</td>\n",
       "      <td>0</td>\n",
       "      <td>0</td>\n",
       "      <td>0</td>\n",
       "      <td>0</td>\n",
       "      <td>0</td>\n",
       "      <td>0</td>\n",
       "      <td>0.000</td>\n",
       "      <td>Quincy Acy</td>\n",
       "    </tr>\n",
       "    <tr>\n",
       "      <th>2</th>\n",
       "      <td>-0.810009</td>\n",
       "      <td>-0.849920</td>\n",
       "      <td>-0.760678</td>\n",
       "      <td>-0.991424</td>\n",
       "      <td>0.678231</td>\n",
       "      <td>-0.979591</td>\n",
       "      <td>0.421429</td>\n",
       "      <td>-0.695715</td>\n",
       "      <td>0.015267</td>\n",
       "      <td>-0.570532</td>\n",
       "      <td>...</td>\n",
       "      <td>0</td>\n",
       "      <td>0</td>\n",
       "      <td>0</td>\n",
       "      <td>0</td>\n",
       "      <td>0</td>\n",
       "      <td>0</td>\n",
       "      <td>0</td>\n",
       "      <td>0</td>\n",
       "      <td>0.000</td>\n",
       "      <td>Jaylen Adams</td>\n",
       "    </tr>\n",
       "    <tr>\n",
       "      <th>3</th>\n",
       "      <td>1.014220</td>\n",
       "      <td>1.813816</td>\n",
       "      <td>1.267241</td>\n",
       "      <td>1.653914</td>\n",
       "      <td>-1.169338</td>\n",
       "      <td>1.383217</td>\n",
       "      <td>-1.071505</td>\n",
       "      <td>2.319708</td>\n",
       "      <td>-0.144686</td>\n",
       "      <td>1.712786</td>\n",
       "      <td>...</td>\n",
       "      <td>0</td>\n",
       "      <td>0</td>\n",
       "      <td>0</td>\n",
       "      <td>0</td>\n",
       "      <td>0</td>\n",
       "      <td>0</td>\n",
       "      <td>0</td>\n",
       "      <td>0</td>\n",
       "      <td>0.013</td>\n",
       "      <td>Steven Adams</td>\n",
       "    </tr>\n",
       "    <tr>\n",
       "      <th>4</th>\n",
       "      <td>1.093534</td>\n",
       "      <td>0.060471</td>\n",
       "      <td>0.282530</td>\n",
       "      <td>1.452869</td>\n",
       "      <td>-0.076102</td>\n",
       "      <td>1.302781</td>\n",
       "      <td>0.190507</td>\n",
       "      <td>1.458159</td>\n",
       "      <td>0.175219</td>\n",
       "      <td>0.467340</td>\n",
       "      <td>...</td>\n",
       "      <td>0</td>\n",
       "      <td>0</td>\n",
       "      <td>0</td>\n",
       "      <td>0</td>\n",
       "      <td>0</td>\n",
       "      <td>0</td>\n",
       "      <td>0</td>\n",
       "      <td>0</td>\n",
       "      <td>0.000</td>\n",
       "      <td>Bam Adebayo</td>\n",
       "    </tr>\n",
       "    <tr>\n",
       "      <th>...</th>\n",
       "      <td>...</td>\n",
       "      <td>...</td>\n",
       "      <td>...</td>\n",
       "      <td>...</td>\n",
       "      <td>...</td>\n",
       "      <td>...</td>\n",
       "      <td>...</td>\n",
       "      <td>...</td>\n",
       "      <td>...</td>\n",
       "      <td>...</td>\n",
       "      <td>...</td>\n",
       "      <td>...</td>\n",
       "      <td>...</td>\n",
       "      <td>...</td>\n",
       "      <td>...</td>\n",
       "      <td>...</td>\n",
       "      <td>...</td>\n",
       "      <td>...</td>\n",
       "      <td>...</td>\n",
       "      <td>...</td>\n",
       "      <td>...</td>\n",
       "    </tr>\n",
       "    <tr>\n",
       "      <th>525</th>\n",
       "      <td>1.053877</td>\n",
       "      <td>1.847534</td>\n",
       "      <td>1.023500</td>\n",
       "      <td>-0.218985</td>\n",
       "      <td>0.601705</td>\n",
       "      <td>0.186731</td>\n",
       "      <td>0.695312</td>\n",
       "      <td>0.048351</td>\n",
       "      <td>3.320951</td>\n",
       "      <td>0.467340</td>\n",
       "      <td>...</td>\n",
       "      <td>0</td>\n",
       "      <td>0</td>\n",
       "      <td>0</td>\n",
       "      <td>0</td>\n",
       "      <td>0</td>\n",
       "      <td>0</td>\n",
       "      <td>0</td>\n",
       "      <td>0</td>\n",
       "      <td>0.112</td>\n",
       "      <td>Trae Young</td>\n",
       "    </tr>\n",
       "    <tr>\n",
       "      <th>526</th>\n",
       "      <td>-0.215152</td>\n",
       "      <td>0.701116</td>\n",
       "      <td>0.487272</td>\n",
       "      <td>1.188335</td>\n",
       "      <td>0.322930</td>\n",
       "      <td>1.121800</td>\n",
       "      <td>0.469761</td>\n",
       "      <td>1.262352</td>\n",
       "      <td>0.121902</td>\n",
       "      <td>0.259766</td>\n",
       "      <td>...</td>\n",
       "      <td>0</td>\n",
       "      <td>0</td>\n",
       "      <td>0</td>\n",
       "      <td>0</td>\n",
       "      <td>0</td>\n",
       "      <td>0</td>\n",
       "      <td>0</td>\n",
       "      <td>0</td>\n",
       "      <td>0.000</td>\n",
       "      <td>Cody Zeller</td>\n",
       "    </tr>\n",
       "    <tr>\n",
       "      <th>527</th>\n",
       "      <td>-1.920409</td>\n",
       "      <td>-0.849920</td>\n",
       "      <td>-0.477940</td>\n",
       "      <td>0.997871</td>\n",
       "      <td>-1.169338</td>\n",
       "      <td>0.940819</td>\n",
       "      <td>0.421429</td>\n",
       "      <td>0.165835</td>\n",
       "      <td>-0.624543</td>\n",
       "      <td>-0.985681</td>\n",
       "      <td>...</td>\n",
       "      <td>0</td>\n",
       "      <td>0</td>\n",
       "      <td>0</td>\n",
       "      <td>0</td>\n",
       "      <td>0</td>\n",
       "      <td>0</td>\n",
       "      <td>0</td>\n",
       "      <td>0</td>\n",
       "      <td>0.000</td>\n",
       "      <td>Tyler Zeller</td>\n",
       "    </tr>\n",
       "    <tr>\n",
       "      <th>528</th>\n",
       "      <td>0.181420</td>\n",
       "      <td>-0.040684</td>\n",
       "      <td>-0.204951</td>\n",
       "      <td>1.209498</td>\n",
       "      <td>-1.169338</td>\n",
       "      <td>0.950874</td>\n",
       "      <td>0.029399</td>\n",
       "      <td>0.714093</td>\n",
       "      <td>-0.517908</td>\n",
       "      <td>-0.985681</td>\n",
       "      <td>...</td>\n",
       "      <td>0</td>\n",
       "      <td>0</td>\n",
       "      <td>0</td>\n",
       "      <td>0</td>\n",
       "      <td>0</td>\n",
       "      <td>0</td>\n",
       "      <td>0</td>\n",
       "      <td>0</td>\n",
       "      <td>0.000</td>\n",
       "      <td>Ante Zizic</td>\n",
       "    </tr>\n",
       "    <tr>\n",
       "      <th>529</th>\n",
       "      <td>0.181420</td>\n",
       "      <td>0.363935</td>\n",
       "      <td>-0.273198</td>\n",
       "      <td>1.272986</td>\n",
       "      <td>-1.169338</td>\n",
       "      <td>1.011201</td>\n",
       "      <td>0.550315</td>\n",
       "      <td>0.988223</td>\n",
       "      <td>-0.411273</td>\n",
       "      <td>-0.985681</td>\n",
       "      <td>...</td>\n",
       "      <td>0</td>\n",
       "      <td>0</td>\n",
       "      <td>0</td>\n",
       "      <td>0</td>\n",
       "      <td>0</td>\n",
       "      <td>0</td>\n",
       "      <td>0</td>\n",
       "      <td>0</td>\n",
       "      <td>0.000</td>\n",
       "      <td>Ivica Zubac</td>\n",
       "    </tr>\n",
       "  </tbody>\n",
       "</table>\n",
       "<p>530 rows × 57 columns</p>\n",
       "</div>"
      ],
      "text/plain": [
       "        games  gamesstarted        mp   fg_perc   3p_perc   2p_perc   ft_perc  \\\n",
       "0   -0.928980     -0.816202 -0.136703 -0.864447  0.596239  0.417985  1.200117   \n",
       "1   -1.761780     -0.883638 -0.789927 -2.292930 -0.442336  2.097087  0.002548   \n",
       "2   -0.810009     -0.849920 -0.760678 -0.991424  0.678231 -0.979591  0.421429   \n",
       "3    1.014220      1.813816  1.267241  1.653914 -1.169338  1.383217 -1.071505   \n",
       "4    1.093534      0.060471  0.282530  1.452869 -0.076102  1.302781  0.190507   \n",
       "..        ...           ...       ...       ...       ...       ...       ...   \n",
       "525  1.053877      1.847534  1.023500 -0.218985  0.601705  0.186731  0.695312   \n",
       "526 -0.215152      0.701116  0.487272  1.188335  0.322930  1.121800  0.469761   \n",
       "527 -1.920409     -0.849920 -0.477940  0.997871 -1.169338  0.940819  0.421429   \n",
       "528  0.181420     -0.040684 -0.204951  1.209498 -1.169338  0.950874  0.029399   \n",
       "529  0.181420      0.363935 -0.273198  1.272986 -1.169338  1.011201  0.550315   \n",
       "\n",
       "          trb       ast       stl  ...  KCK  NJN  NOH  NOK  SDC  SEA  VAN  \\\n",
       "0   -0.813199 -0.677860 -0.362958  ...    0    0    0    0    0    0    0   \n",
       "1   -0.421585 -0.571225 -1.193255  ...    0    0    0    0    0    0    0   \n",
       "2   -0.695715  0.015267 -0.570532  ...    0    0    0    0    0    0    0   \n",
       "3    2.319708 -0.144686  1.712786  ...    0    0    0    0    0    0    0   \n",
       "4    1.458159  0.175219  0.467340  ...    0    0    0    0    0    0    0   \n",
       "..        ...       ...       ...  ...  ...  ...  ...  ...  ...  ...  ...   \n",
       "525  0.048351  3.320951  0.467340  ...    0    0    0    0    0    0    0   \n",
       "526  1.262352  0.121902  0.259766  ...    0    0    0    0    0    0    0   \n",
       "527  0.165835 -0.624543 -0.985681  ...    0    0    0    0    0    0    0   \n",
       "528  0.714093 -0.517908 -0.985681  ...    0    0    0    0    0    0    0   \n",
       "529  0.988223 -0.411273 -0.985681  ...    0    0    0    0    0    0    0   \n",
       "\n",
       "     WSB  probabilities        player  \n",
       "0      0          0.000  Alex Abrines  \n",
       "1      0          0.000    Quincy Acy  \n",
       "2      0          0.000  Jaylen Adams  \n",
       "3      0          0.013  Steven Adams  \n",
       "4      0          0.000   Bam Adebayo  \n",
       "..   ...            ...           ...  \n",
       "525    0          0.112    Trae Young  \n",
       "526    0          0.000   Cody Zeller  \n",
       "527    0          0.000  Tyler Zeller  \n",
       "528    0          0.000    Ante Zizic  \n",
       "529    0          0.000   Ivica Zubac  \n",
       "\n",
       "[530 rows x 57 columns]"
      ]
     },
     "execution_count": 59,
     "metadata": {},
     "output_type": "execute_result"
    }
   ],
   "source": [
    "#show the probabilities and player name to the original df\n",
    "X_test=all_nba_2018_df.copy()\n",
    "all_nba_2018_df['probabilities']=model.predict_proba(X_test)[:,1].round(3)\n",
    "all_nba_2018_df=pd.concat([all_nba_2018_df,player_names.reset_index(drop=True)],axis=1)\n",
    "all_nba_2018_df\n"
   ]
  },
  {
   "cell_type": "markdown",
   "id": "c1e5edbf-faee-4773-a114-eed5eab89242",
   "metadata": {
    "id": "c1e5edbf-faee-4773-a114-eed5eab89242"
   },
   "source": [
    "2.14. Sort the dataset by probabilities and show the 15 players with higher probability to have been selected"
   ]
  },
  {
   "cell_type": "code",
   "execution_count": 60,
   "id": "42562785-2d0d-4e11-a31f-3eca3f78c818",
   "metadata": {
    "id": "42562785-2d0d-4e11-a31f-3eca3f78c818"
   },
   "outputs": [
    {
     "data": {
      "text/html": [
       "<div>\n",
       "<style scoped>\n",
       "    .dataframe tbody tr th:only-of-type {\n",
       "        vertical-align: middle;\n",
       "    }\n",
       "\n",
       "    .dataframe tbody tr th {\n",
       "        vertical-align: top;\n",
       "    }\n",
       "\n",
       "    .dataframe thead th {\n",
       "        text-align: right;\n",
       "    }\n",
       "</style>\n",
       "<table border=\"1\" class=\"dataframe\">\n",
       "  <thead>\n",
       "    <tr style=\"text-align: right;\">\n",
       "      <th></th>\n",
       "      <th>games</th>\n",
       "      <th>gamesstarted</th>\n",
       "      <th>mp</th>\n",
       "      <th>fg_perc</th>\n",
       "      <th>3p_perc</th>\n",
       "      <th>2p_perc</th>\n",
       "      <th>ft_perc</th>\n",
       "      <th>trb</th>\n",
       "      <th>ast</th>\n",
       "      <th>stl</th>\n",
       "      <th>...</th>\n",
       "      <th>KCK</th>\n",
       "      <th>NJN</th>\n",
       "      <th>NOH</th>\n",
       "      <th>NOK</th>\n",
       "      <th>SDC</th>\n",
       "      <th>SEA</th>\n",
       "      <th>VAN</th>\n",
       "      <th>WSB</th>\n",
       "      <th>probabilities</th>\n",
       "      <th>player</th>\n",
       "    </tr>\n",
       "  </thead>\n",
       "  <tbody>\n",
       "    <tr>\n",
       "      <th>17</th>\n",
       "      <td>0.696963</td>\n",
       "      <td>1.544071</td>\n",
       "      <td>1.208743</td>\n",
       "      <td>1.474031</td>\n",
       "      <td>0.230005</td>\n",
       "      <td>1.835670</td>\n",
       "      <td>0.158286</td>\n",
       "      <td>3.494548</td>\n",
       "      <td>2.147967</td>\n",
       "      <td>1.297637</td>\n",
       "      <td>...</td>\n",
       "      <td>0</td>\n",
       "      <td>0</td>\n",
       "      <td>0</td>\n",
       "      <td>0</td>\n",
       "      <td>0</td>\n",
       "      <td>0</td>\n",
       "      <td>0</td>\n",
       "      <td>0</td>\n",
       "      <td>1.000</td>\n",
       "      <td>Giannis Antetokounmpo</td>\n",
       "    </tr>\n",
       "    <tr>\n",
       "      <th>205</th>\n",
       "      <td>0.934905</td>\n",
       "      <td>1.746380</td>\n",
       "      <td>1.598727</td>\n",
       "      <td>0.034968</td>\n",
       "      <td>0.842217</td>\n",
       "      <td>0.699511</td>\n",
       "      <td>0.963825</td>\n",
       "      <td>1.184029</td>\n",
       "      <td>3.001046</td>\n",
       "      <td>2.750658</td>\n",
       "      <td>...</td>\n",
       "      <td>0</td>\n",
       "      <td>0</td>\n",
       "      <td>0</td>\n",
       "      <td>0</td>\n",
       "      <td>0</td>\n",
       "      <td>0</td>\n",
       "      <td>0</td>\n",
       "      <td>0</td>\n",
       "      <td>1.000</td>\n",
       "      <td>James Harden</td>\n",
       "    </tr>\n",
       "    <tr>\n",
       "      <th>125</th>\n",
       "      <td>0.062448</td>\n",
       "      <td>1.004580</td>\n",
       "      <td>1.228242</td>\n",
       "      <td>0.828569</td>\n",
       "      <td>0.639968</td>\n",
       "      <td>0.890547</td>\n",
       "      <td>0.507353</td>\n",
       "      <td>3.298742</td>\n",
       "      <td>1.081617</td>\n",
       "      <td>1.920361</td>\n",
       "      <td>...</td>\n",
       "      <td>0</td>\n",
       "      <td>0</td>\n",
       "      <td>0</td>\n",
       "      <td>0</td>\n",
       "      <td>0</td>\n",
       "      <td>0</td>\n",
       "      <td>0</td>\n",
       "      <td>0</td>\n",
       "      <td>0.999</td>\n",
       "      <td>Anthony Davis</td>\n",
       "    </tr>\n",
       "    <tr>\n",
       "      <th>257</th>\n",
       "      <td>0.022791</td>\n",
       "      <td>0.970862</td>\n",
       "      <td>1.442733</td>\n",
       "      <td>0.754499</td>\n",
       "      <td>0.683698</td>\n",
       "      <td>1.242454</td>\n",
       "      <td>-0.185411</td>\n",
       "      <td>1.928095</td>\n",
       "      <td>3.427586</td>\n",
       "      <td>1.297637</td>\n",
       "      <td>...</td>\n",
       "      <td>0</td>\n",
       "      <td>0</td>\n",
       "      <td>0</td>\n",
       "      <td>0</td>\n",
       "      <td>0</td>\n",
       "      <td>0</td>\n",
       "      <td>0</td>\n",
       "      <td>0</td>\n",
       "      <td>0.999</td>\n",
       "      <td>LeBron James</td>\n",
       "    </tr>\n",
       "    <tr>\n",
       "      <th>154</th>\n",
       "      <td>0.379705</td>\n",
       "      <td>1.274325</td>\n",
       "      <td>1.296489</td>\n",
       "      <td>0.479384</td>\n",
       "      <td>0.470517</td>\n",
       "      <td>0.769893</td>\n",
       "      <td>0.561056</td>\n",
       "      <td>3.925323</td>\n",
       "      <td>0.974982</td>\n",
       "      <td>0.052191</td>\n",
       "      <td>...</td>\n",
       "      <td>0</td>\n",
       "      <td>0</td>\n",
       "      <td>0</td>\n",
       "      <td>0</td>\n",
       "      <td>0</td>\n",
       "      <td>0</td>\n",
       "      <td>0</td>\n",
       "      <td>0</td>\n",
       "      <td>0.992</td>\n",
       "      <td>Joel Embiid</td>\n",
       "    </tr>\n",
       "    <tr>\n",
       "      <th>300</th>\n",
       "      <td>0.221077</td>\n",
       "      <td>1.139453</td>\n",
       "      <td>1.325738</td>\n",
       "      <td>0.606361</td>\n",
       "      <td>0.858615</td>\n",
       "      <td>0.840274</td>\n",
       "      <td>0.829569</td>\n",
       "      <td>1.458159</td>\n",
       "      <td>0.761712</td>\n",
       "      <td>2.335509</td>\n",
       "      <td>...</td>\n",
       "      <td>0</td>\n",
       "      <td>0</td>\n",
       "      <td>0</td>\n",
       "      <td>0</td>\n",
       "      <td>0</td>\n",
       "      <td>0</td>\n",
       "      <td>0</td>\n",
       "      <td>0</td>\n",
       "      <td>0.979</td>\n",
       "      <td>Kawhi Leonard</td>\n",
       "    </tr>\n",
       "    <tr>\n",
       "      <th>491</th>\n",
       "      <td>1.014220</td>\n",
       "      <td>1.813816</td>\n",
       "      <td>1.072248</td>\n",
       "      <td>0.839150</td>\n",
       "      <td>0.820352</td>\n",
       "      <td>0.910656</td>\n",
       "      <td>0.480502</td>\n",
       "      <td>3.298742</td>\n",
       "      <td>1.028299</td>\n",
       "      <td>0.674914</td>\n",
       "      <td>...</td>\n",
       "      <td>0</td>\n",
       "      <td>0</td>\n",
       "      <td>0</td>\n",
       "      <td>0</td>\n",
       "      <td>0</td>\n",
       "      <td>0</td>\n",
       "      <td>0</td>\n",
       "      <td>0</td>\n",
       "      <td>0.974</td>\n",
       "      <td>Nikola Vucevic</td>\n",
       "    </tr>\n",
       "    <tr>\n",
       "      <th>479</th>\n",
       "      <td>0.895248</td>\n",
       "      <td>1.712662</td>\n",
       "      <td>1.237992</td>\n",
       "      <td>0.839150</td>\n",
       "      <td>1.017135</td>\n",
       "      <td>1.041364</td>\n",
       "      <td>0.732904</td>\n",
       "      <td>3.455387</td>\n",
       "      <td>0.815029</td>\n",
       "      <td>0.467340</td>\n",
       "      <td>...</td>\n",
       "      <td>0</td>\n",
       "      <td>0</td>\n",
       "      <td>0</td>\n",
       "      <td>0</td>\n",
       "      <td>0</td>\n",
       "      <td>0</td>\n",
       "      <td>0</td>\n",
       "      <td>0</td>\n",
       "      <td>0.939</td>\n",
       "      <td>Karl-Anthony Towns</td>\n",
       "    </tr>\n",
       "    <tr>\n",
       "      <th>505</th>\n",
       "      <td>0.736620</td>\n",
       "      <td>1.577789</td>\n",
       "      <td>1.520730</td>\n",
       "      <td>-0.113171</td>\n",
       "      <td>0.415855</td>\n",
       "      <td>0.226949</td>\n",
       "      <td>-0.233744</td>\n",
       "      <td>2.946290</td>\n",
       "      <td>4.707206</td>\n",
       "      <td>2.543084</td>\n",
       "      <td>...</td>\n",
       "      <td>0</td>\n",
       "      <td>0</td>\n",
       "      <td>0</td>\n",
       "      <td>0</td>\n",
       "      <td>0</td>\n",
       "      <td>0</td>\n",
       "      <td>0</td>\n",
       "      <td>0</td>\n",
       "      <td>0.933</td>\n",
       "      <td>Russell Westbrook</td>\n",
       "    </tr>\n",
       "    <tr>\n",
       "      <th>268</th>\n",
       "      <td>1.014220</td>\n",
       "      <td>1.813816</td>\n",
       "      <td>1.062499</td>\n",
       "      <td>0.765081</td>\n",
       "      <td>0.508780</td>\n",
       "      <td>1.111746</td>\n",
       "      <td>0.652350</td>\n",
       "      <td>2.828806</td>\n",
       "      <td>2.894411</td>\n",
       "      <td>1.505212</td>\n",
       "      <td>...</td>\n",
       "      <td>0</td>\n",
       "      <td>0</td>\n",
       "      <td>0</td>\n",
       "      <td>0</td>\n",
       "      <td>0</td>\n",
       "      <td>0</td>\n",
       "      <td>0</td>\n",
       "      <td>0</td>\n",
       "      <td>0.921</td>\n",
       "      <td>Nikola Jokic</td>\n",
       "    </tr>\n",
       "    <tr>\n",
       "      <th>149</th>\n",
       "      <td>0.934905</td>\n",
       "      <td>1.746380</td>\n",
       "      <td>1.384236</td>\n",
       "      <td>0.870894</td>\n",
       "      <td>0.760224</td>\n",
       "      <td>1.292727</td>\n",
       "      <td>0.996047</td>\n",
       "      <td>1.105707</td>\n",
       "      <td>2.147967</td>\n",
       "      <td>0.052191</td>\n",
       "      <td>...</td>\n",
       "      <td>0</td>\n",
       "      <td>0</td>\n",
       "      <td>0</td>\n",
       "      <td>0</td>\n",
       "      <td>0</td>\n",
       "      <td>0</td>\n",
       "      <td>0</td>\n",
       "      <td>0</td>\n",
       "      <td>0.903</td>\n",
       "      <td>Kevin Durant</td>\n",
       "    </tr>\n",
       "    <tr>\n",
       "      <th>495</th>\n",
       "      <td>1.093534</td>\n",
       "      <td>1.881252</td>\n",
       "      <td>1.413485</td>\n",
       "      <td>-0.049683</td>\n",
       "      <td>0.776623</td>\n",
       "      <td>0.357658</td>\n",
       "      <td>0.775866</td>\n",
       "      <td>0.322480</td>\n",
       "      <td>2.147967</td>\n",
       "      <td>1.090063</td>\n",
       "      <td>...</td>\n",
       "      <td>0</td>\n",
       "      <td>0</td>\n",
       "      <td>0</td>\n",
       "      <td>0</td>\n",
       "      <td>0</td>\n",
       "      <td>0</td>\n",
       "      <td>0</td>\n",
       "      <td>0</td>\n",
       "      <td>0.900</td>\n",
       "      <td>Kemba Walker</td>\n",
       "    </tr>\n",
       "    <tr>\n",
       "      <th>186</th>\n",
       "      <td>1.053877</td>\n",
       "      <td>1.813816</td>\n",
       "      <td>1.111247</td>\n",
       "      <td>2.436934</td>\n",
       "      <td>-1.169338</td>\n",
       "      <td>2.117196</td>\n",
       "      <td>-0.341149</td>\n",
       "      <td>3.651194</td>\n",
       "      <td>0.068584</td>\n",
       "      <td>0.259766</td>\n",
       "      <td>...</td>\n",
       "      <td>0</td>\n",
       "      <td>0</td>\n",
       "      <td>0</td>\n",
       "      <td>0</td>\n",
       "      <td>0</td>\n",
       "      <td>0</td>\n",
       "      <td>0</td>\n",
       "      <td>0</td>\n",
       "      <td>0.863</td>\n",
       "      <td>Rudy Gobert</td>\n",
       "    </tr>\n",
       "    <tr>\n",
       "      <th>88</th>\n",
       "      <td>0.498677</td>\n",
       "      <td>1.375480</td>\n",
       "      <td>1.286740</td>\n",
       "      <td>2.214726</td>\n",
       "      <td>-1.169338</td>\n",
       "      <td>1.906051</td>\n",
       "      <td>-0.341149</td>\n",
       "      <td>3.572871</td>\n",
       "      <td>-0.251320</td>\n",
       "      <td>0.052191</td>\n",
       "      <td>...</td>\n",
       "      <td>0</td>\n",
       "      <td>0</td>\n",
       "      <td>0</td>\n",
       "      <td>0</td>\n",
       "      <td>0</td>\n",
       "      <td>0</td>\n",
       "      <td>0</td>\n",
       "      <td>0</td>\n",
       "      <td>0.860</td>\n",
       "      <td>Clint Capela</td>\n",
       "    </tr>\n",
       "    <tr>\n",
       "      <th>229</th>\n",
       "      <td>0.498677</td>\n",
       "      <td>1.375480</td>\n",
       "      <td>1.510981</td>\n",
       "      <td>0.352408</td>\n",
       "      <td>0.607171</td>\n",
       "      <td>0.810111</td>\n",
       "      <td>0.367726</td>\n",
       "      <td>0.557448</td>\n",
       "      <td>3.107681</td>\n",
       "      <td>1.920361</td>\n",
       "      <td>...</td>\n",
       "      <td>0</td>\n",
       "      <td>0</td>\n",
       "      <td>0</td>\n",
       "      <td>0</td>\n",
       "      <td>0</td>\n",
       "      <td>0</td>\n",
       "      <td>0</td>\n",
       "      <td>0</td>\n",
       "      <td>0.856</td>\n",
       "      <td>Jrue Holiday</td>\n",
       "    </tr>\n",
       "  </tbody>\n",
       "</table>\n",
       "<p>15 rows × 57 columns</p>\n",
       "</div>"
      ],
      "text/plain": [
       "        games  gamesstarted        mp   fg_perc   3p_perc   2p_perc   ft_perc  \\\n",
       "17   0.696963      1.544071  1.208743  1.474031  0.230005  1.835670  0.158286   \n",
       "205  0.934905      1.746380  1.598727  0.034968  0.842217  0.699511  0.963825   \n",
       "125  0.062448      1.004580  1.228242  0.828569  0.639968  0.890547  0.507353   \n",
       "257  0.022791      0.970862  1.442733  0.754499  0.683698  1.242454 -0.185411   \n",
       "154  0.379705      1.274325  1.296489  0.479384  0.470517  0.769893  0.561056   \n",
       "300  0.221077      1.139453  1.325738  0.606361  0.858615  0.840274  0.829569   \n",
       "491  1.014220      1.813816  1.072248  0.839150  0.820352  0.910656  0.480502   \n",
       "479  0.895248      1.712662  1.237992  0.839150  1.017135  1.041364  0.732904   \n",
       "505  0.736620      1.577789  1.520730 -0.113171  0.415855  0.226949 -0.233744   \n",
       "268  1.014220      1.813816  1.062499  0.765081  0.508780  1.111746  0.652350   \n",
       "149  0.934905      1.746380  1.384236  0.870894  0.760224  1.292727  0.996047   \n",
       "495  1.093534      1.881252  1.413485 -0.049683  0.776623  0.357658  0.775866   \n",
       "186  1.053877      1.813816  1.111247  2.436934 -1.169338  2.117196 -0.341149   \n",
       "88   0.498677      1.375480  1.286740  2.214726 -1.169338  1.906051 -0.341149   \n",
       "229  0.498677      1.375480  1.510981  0.352408  0.607171  0.810111  0.367726   \n",
       "\n",
       "          trb       ast       stl  ...  KCK  NJN  NOH  NOK  SDC  SEA  VAN  \\\n",
       "17   3.494548  2.147967  1.297637  ...    0    0    0    0    0    0    0   \n",
       "205  1.184029  3.001046  2.750658  ...    0    0    0    0    0    0    0   \n",
       "125  3.298742  1.081617  1.920361  ...    0    0    0    0    0    0    0   \n",
       "257  1.928095  3.427586  1.297637  ...    0    0    0    0    0    0    0   \n",
       "154  3.925323  0.974982  0.052191  ...    0    0    0    0    0    0    0   \n",
       "300  1.458159  0.761712  2.335509  ...    0    0    0    0    0    0    0   \n",
       "491  3.298742  1.028299  0.674914  ...    0    0    0    0    0    0    0   \n",
       "479  3.455387  0.815029  0.467340  ...    0    0    0    0    0    0    0   \n",
       "505  2.946290  4.707206  2.543084  ...    0    0    0    0    0    0    0   \n",
       "268  2.828806  2.894411  1.505212  ...    0    0    0    0    0    0    0   \n",
       "149  1.105707  2.147967  0.052191  ...    0    0    0    0    0    0    0   \n",
       "495  0.322480  2.147967  1.090063  ...    0    0    0    0    0    0    0   \n",
       "186  3.651194  0.068584  0.259766  ...    0    0    0    0    0    0    0   \n",
       "88   3.572871 -0.251320  0.052191  ...    0    0    0    0    0    0    0   \n",
       "229  0.557448  3.107681  1.920361  ...    0    0    0    0    0    0    0   \n",
       "\n",
       "     WSB  probabilities                 player  \n",
       "17     0          1.000  Giannis Antetokounmpo  \n",
       "205    0          1.000           James Harden  \n",
       "125    0          0.999          Anthony Davis  \n",
       "257    0          0.999           LeBron James  \n",
       "154    0          0.992            Joel Embiid  \n",
       "300    0          0.979          Kawhi Leonard  \n",
       "491    0          0.974         Nikola Vucevic  \n",
       "479    0          0.939     Karl-Anthony Towns  \n",
       "505    0          0.933      Russell Westbrook  \n",
       "268    0          0.921           Nikola Jokic  \n",
       "149    0          0.903           Kevin Durant  \n",
       "495    0          0.900           Kemba Walker  \n",
       "186    0          0.863            Rudy Gobert  \n",
       "88     0          0.860           Clint Capela  \n",
       "229    0          0.856           Jrue Holiday  \n",
       "\n",
       "[15 rows x 57 columns]"
      ]
     },
     "execution_count": 60,
     "metadata": {},
     "output_type": "execute_result"
    }
   ],
   "source": [
    "#show the higher probabilities to have been selected\n",
    "best_15_players=all_nba_2018_df.sort_values('probabilities',ascending=False).head(15)\n",
    "best_15_players"
   ]
  },
  {
   "cell_type": "markdown",
   "id": "1c27683b-0256-40c5-929c-d5ed6cdf6d1f",
   "metadata": {
    "id": "1c27683b-0256-40c5-929c-d5ed6cdf6d1f"
   },
   "source": [
    "2.15. Print:\n",
    "\n",
    "    - Players actually selected from the all_nba_2018_selections dataset,\n",
    "    - Players actually selected missing from OUR predictions+\n",
    "    - Players in our predictions not selected "
   ]
  },
  {
   "cell_type": "code",
   "execution_count": 61,
   "id": "f4dbd84c",
   "metadata": {},
   "outputs": [],
   "source": [
    "prediction=set(best_15_players.player)\n",
    "reality=set(all_nba_2018_selections[all_nba_2018_selections.all_nba == 1].player)"
   ]
  },
  {
   "cell_type": "code",
   "execution_count": 62,
   "id": "be93767f",
   "metadata": {},
   "outputs": [
    {
     "name": "stdout",
     "output_type": "stream",
     "text": [
      "Players actually selected from the all_nba_2018_selections dataset\n",
      "\n",
      "453      Giannis Antetokounmpo\n",
      "3168             Stephen Curry\n",
      "3908              Kevin Durant\n",
      "4145               Joel Embiid\n",
      "4895               Paul George\n",
      "5016               Rudy Gobert\n",
      "5399             Blake Griffin\n",
      "5604              James Harden\n",
      "6634              Kyrie Irving\n",
      "6857              LeBron James\n",
      "7225              Nikola Jokic\n",
      "8103             Kawhi Leonard\n",
      "8206            Damian Lillard\n",
      "14132             Kemba Walker\n",
      "14479        Russell Westbrook\n",
      "Name: player, dtype: object \n",
      "\n",
      "Players actually selected missing from OUR predictions\n",
      "{'Paul George', 'Kyrie Irving', 'Blake Griffin', 'Damian Lillard', 'Stephen Curry'} \n",
      "\n",
      "Players in our predictions not selected\n",
      "{'Clint Capela', 'Anthony Davis', 'Karl-Anthony Towns', 'Nikola Vucevic', 'Jrue Holiday'} \n",
      "\n",
      "Players actually selected correctly from our predictions\n",
      "{'Nikola Jokic', 'Kemba Walker', 'Kevin Durant', 'LeBron James', 'Giannis Antetokounmpo', 'Kawhi Leonard', 'Joel Embiid', 'Rudy Gobert', 'James Harden', 'Russell Westbrook'}\n"
     ]
    }
   ],
   "source": [
    "print('Players actually selected from the all_nba_2018_selections dataset\\n')\n",
    "print(all_nba_2018_selections[all_nba_2018_selections.all_nba == 1].player,'\\n')\n",
    "\n",
    "print('Players actually selected missing from OUR predictions')\n",
    "print(reality.difference(prediction),'\\n')\n",
    "\n",
    "print('Players in our predictions not selected')\n",
    "print(prediction.difference(reality),'\\n')\n",
    "\n",
    "print('Players actually selected correctly from our predictions')\n",
    "print(prediction.intersection(reality))"
   ]
  },
  {
   "cell_type": "markdown",
   "id": "66b994d0-d37a-43c2-a38f-ea5e86afa512",
   "metadata": {
    "id": "66b994d0-d37a-43c2-a38f-ea5e86afa512"
   },
   "source": [
    "2.16. Create a class named AllNbaSingleSeasonClassifier that takes a scikit learn model in the constructor, then implements a predict method that returns predictions with only the 15 most probable selections."
   ]
  },
  {
   "cell_type": "code",
   "execution_count": 63,
   "id": "5fc85317-ffc5-45e9-8740-3703b5d1aa86",
   "metadata": {
    "id": "5fc85317-ffc5-45e9-8740-3703b5d1aa86"
   },
   "outputs": [],
   "source": [
    "class AllNbaSingleSeasonClassifier():\n",
    "    def __init__(self, model):\n",
    "        \"\"\"\n",
    "        Class constructor\n",
    "        \n",
    "        Parameters\n",
    "        ----------\n",
    "        model: BaseEstimator\n",
    "            a Scikit learn estimator\n",
    "        \"\"\"\n",
    "        self._model = model\n",
    "        self.probabilities=None\n",
    "        self.index_max_probabilities=None\n",
    "        self.results=None\n",
    "        \n",
    "    def predict(self,X):\n",
    "        \"\"\"\n",
    "        Predicts all nba selections. This classifier will limit the number\n",
    "        of positive instances to 15\n",
    "        \n",
    "        Parameters\n",
    "        ----------\n",
    "        X: pd.DataFrame\n",
    "            a dataframe with the players data\n",
    "            \n",
    "        Returns\n",
    "        -------\n",
    "        np.ndarray\n",
    "            An array of the same length as y, with 15 true results based on the players with most probabilities of\n",
    "            beign selected\n",
    "        \"\"\"\n",
    "        self.probabilities=self._model.predict_proba(X)[:,1].round(2)\n",
    "        self.index_max_probabilities=self.probabilities.argsort()[-15:]\n",
    "        self.results=np.zeros(len(X))\n",
    "        self.results[self.index_max_probabilities]=1\n",
    "        \n",
    "        return self.results"
   ]
  },
  {
   "cell_type": "markdown",
   "id": "0d83848f-8132-4205-bc18-88b8a5f07555",
   "metadata": {
    "id": "0d83848f-8132-4205-bc18-88b8a5f07555"
   },
   "source": [
    "2.17. Use the new classifier to make predictions and evaluate the result with precision, recall and f1"
   ]
  },
  {
   "cell_type": "code",
   "execution_count": 64,
   "id": "29dbc50c",
   "metadata": {},
   "outputs": [],
   "source": [
    "all_nba_fitted_model=AllNbaSingleSeasonClassifier(model)"
   ]
  },
  {
   "cell_type": "code",
   "execution_count": 65,
   "id": "11756f6b",
   "metadata": {},
   "outputs": [],
   "source": [
    "y_predict_best_probabilities=all_nba_fitted_model.predict(X_test)"
   ]
  },
  {
   "cell_type": "code",
   "execution_count": 66,
   "id": "ac440daa-8a05-4a90-8729-a48af57092bb",
   "metadata": {
    "id": "ac440daa-8a05-4a90-8729-a48af57092bb"
   },
   "outputs": [
    {
     "name": "stdout",
     "output_type": "stream",
     "text": [
      "              precision    recall  f1-score   support\n",
      "\n",
      "           0       0.99      0.99      0.99       515\n",
      "           1       0.67      0.67      0.67        15\n",
      "\n",
      "    accuracy                           0.98       530\n",
      "   macro avg       0.83      0.83      0.83       530\n",
      "weighted avg       0.98      0.98      0.98       530\n",
      "\n"
     ]
    }
   ],
   "source": [
    "print(classification_report(y_test_new_dataset, y_predict_best_probabilities))"
   ]
  },
  {
   "cell_type": "code",
   "execution_count": 67,
   "id": "0f27c181",
   "metadata": {},
   "outputs": [
    {
     "name": "stdout",
     "output_type": "stream",
     "text": [
      "Other way to show the same:\n",
      "f1_score: 0.67\n",
      "precision: 0.67\n",
      "recall: 0.67\n",
      "accuracy: 0.98\n"
     ]
    }
   ],
   "source": [
    "print('Other way to show the same:')\n",
    "print('f1_score:',round(f1_score(y_test_new_dataset, y_predict_best_probabilities),2))\n",
    "print('precision:',round(precision_score(y_test_new_dataset, y_predict_best_probabilities),2))\n",
    "print('recall:',round(recall_score(y_test_new_dataset, y_predict_best_probabilities),2))\n",
    "print('accuracy:',round(accuracy_score(y_test_new_dataset, y_predict_best_probabilities),2))"
   ]
  },
  {
   "cell_type": "code",
   "execution_count": 68,
   "id": "7dee906c",
   "metadata": {},
   "outputs": [
    {
     "name": "stdout",
     "output_type": "stream",
     "text": [
      "Confusion matrix\n"
     ]
    },
    {
     "data": {
      "image/png": "[encoded data removed]",
      "text/plain": [
       "<Figure size 720x360 with 2 Axes>"
      ]
     },
     "metadata": {
      "needs_background": "light"
     },
     "output_type": "display_data"
    }
   ],
   "source": [
    "print('Confusion matrix')\n",
    "cm=confusion_matrix(y_test_new_dataset, y_predict_best_probabilities)\n",
    "disp = ConfusionMatrixDisplay(confusion_matrix=cm)\n",
    "disp.plot()\n",
    "plt.show()"
   ]
  },
  {
   "cell_type": "markdown",
   "id": "1dd382f9-9640-47ce-a077-41c8baeb2d9f",
   "metadata": {
    "id": "1dd382f9-9640-47ce-a077-41c8baeb2d9f",
    "tags": []
   },
   "source": [
    "#### Analyzing our results"
   ]
  },
  {
   "cell_type": "markdown",
   "id": "f4eb9454-b0d5-40f0-8cb3-0af1ce8ade34",
   "metadata": {
    "id": "f4eb9454-b0d5-40f0-8cb3-0af1ce8ade34"
   },
   "source": [
    "2.18. What do you think it is the main problem with this dataset and the way we trained our model?"
   ]
  },
  {
   "cell_type": "markdown",
   "id": "021994c5",
   "metadata": {
    "id": "4bbefca3-c863-4cf6-a3a3-5168ef05e43f"
   },
   "source": [
    "I think the main problem in this dataset is the imbalance of the classes. The model sees class 0 more times the  so it fits its weights more times trying to predict this class. But this class isnt our priority. So maybe balancing the data the model will perform more efficiently."
   ]
  },
  {
   "cell_type": "markdown",
   "id": "e81ac1ea-75ab-4fee-8148-20a4ea663791",
   "metadata": {
    "id": "e81ac1ea-75ab-4fee-8148-20a4ea663791"
   },
   "source": [
    "2.19. What do you think we could do to improve our model?"
   ]
  },
  {
   "cell_type": "markdown",
   "id": "c92558fa",
   "metadata": {
    "id": "b8f31b42-26bd-4ce4-a42d-1ceb75ba90b6"
   },
   "source": [
    "The best way to solve this imbalance problem, is to oversample the minority class. Thus, the model can adjust its weights to better predict both classes. Another thing it could be change the model to another one more accurate like decision tree, random forest or a deep learning model. With these complex models the performance could be better."
   ]
  },
  {
   "cell_type": "markdown",
   "id": "0557c3f5-0e87-4a33-a1dc-fc20dd7d8fd7",
   "metadata": {
    "id": "0557c3f5-0e87-4a33-a1dc-fc20dd7d8fd7"
   },
   "source": [
    "### Optional: Oversampling"
   ]
  },
  {
   "cell_type": "markdown",
   "id": "0089fbf9-0625-4446-bf45-d00da9063b14",
   "metadata": {
    "id": "0089fbf9-0625-4446-bf45-d00da9063b14"
   },
   "source": [
    "2.19. Read about oversampling techniques, for example [SMOTE](https://imbalanced-learn.org/stable/references/generated/imblearn.over_sampling.SMOTE.html). Use this strategy to create synthetic data and retrain our model. Compare the results. "
   ]
  },
  {
   "cell_type": "code",
   "execution_count": 69,
   "id": "51a4b48d-cf26-4f14-a478-3b0afa8501dc",
   "metadata": {
    "id": "51a4b48d-cf26-4f14-a478-3b0afa8501dc"
   },
   "outputs": [],
   "source": [
    "sm = SMOTE(random_state = 42)\n",
    "X_res, y_res = sm.fit_resample(X_train, y_train)\n"
   ]
  },
  {
   "cell_type": "code",
   "execution_count": 70,
   "id": "8c5f7c3d",
   "metadata": {},
   "outputs": [
    {
     "name": "stdout",
     "output_type": "stream",
     "text": [
      "Target distribution before resample\n"
     ]
    },
    {
     "data": {
      "text/plain": [
       "0    11463\n",
       "1      397\n",
       "Name: all_nba, dtype: int64"
      ]
     },
     "execution_count": 70,
     "metadata": {},
     "output_type": "execute_result"
    }
   ],
   "source": [
    "print('Target distribution before resample')\n",
    "y_train.value_counts()"
   ]
  },
  {
   "cell_type": "code",
   "execution_count": 71,
   "id": "c5c00a4c",
   "metadata": {},
   "outputs": [
    {
     "name": "stdout",
     "output_type": "stream",
     "text": [
      "Target distribution after resample\n"
     ]
    },
    {
     "data": {
      "text/plain": [
       "0    11463\n",
       "1    11463\n",
       "Name: all_nba, dtype: int64"
      ]
     },
     "execution_count": 71,
     "metadata": {},
     "output_type": "execute_result"
    }
   ],
   "source": [
    "print('Target distribution after resample')\n",
    "y_res.value_counts()"
   ]
  },
  {
   "cell_type": "code",
   "execution_count": 72,
   "id": "7a9dbcd5",
   "metadata": {},
   "outputs": [
    {
     "name": "stdout",
     "output_type": "stream",
     "text": [
      "{'hyperparameters': {'tol': 0.0001, 'C': 100.0, 'max_iter': 1000}, 'metrics': {'f1_score': 0.6, 'precision': 0.43, 'recall': 1.0}}\n"
     ]
    }
   ],
   "source": [
    "#searching best hyperparameters for the new data\n",
    "tol=[0.0001,0.001,0.00001,0.01,0.1]\n",
    "C=[1.0,0.1,0.01,10.0,100.0]\n",
    "max_iter=[100,1000,10000,5000]\n",
    "\n",
    "result = search_best_hyperparameters_logistic_regression(tol, C,max_iter,X_res,y_res,X_test,y_test_new_dataset)\n",
    "print(result)"
   ]
  },
  {
   "cell_type": "code",
   "execution_count": 73,
   "id": "99ad530a",
   "metadata": {},
   "outputs": [
    {
     "name": "stdout",
     "output_type": "stream",
     "text": [
      "              precision    recall  f1-score   support\n",
      "\n",
      "           0       1.00      0.96      0.98       515\n",
      "           1       0.43      1.00      0.60        15\n",
      "\n",
      "    accuracy                           0.96       530\n",
      "   macro avg       0.71      0.98      0.79       530\n",
      "weighted avg       0.98      0.96      0.97       530\n",
      "\n"
     ]
    }
   ],
   "source": [
    "#Use the best hyperparameters to get the best model.\n",
    "model = LogisticRegression(random_state=42,\n",
    "                           tol=result['hyperparameters']['tol'],\n",
    "                           C=result['hyperparameters']['C'],\n",
    "                           max_iter=result['hyperparameters']['max_iter'])\n",
    "model.fit(X_res,y_res)\n",
    "y_predict_res= model.predict(X_test)\n",
    "print(classification_report(y_test_new_dataset, y_predict_res))"
   ]
  },
  {
   "cell_type": "code",
   "execution_count": 74,
   "id": "711fbed0",
   "metadata": {},
   "outputs": [
    {
     "name": "stdout",
     "output_type": "stream",
     "text": [
      "Other way to show the same:\n",
      "f1_score: 0.6\n",
      "precision: 0.43\n",
      "recall: 1.0\n",
      "accuracy: 0.96\n"
     ]
    }
   ],
   "source": [
    "print('Other way to show the same:')\n",
    "print('f1_score:',round(f1_score(y_test_new_dataset, y_predict_res),2))\n",
    "print('precision:',round(precision_score(y_test_new_dataset, y_predict_res),2))\n",
    "print('recall:',round(recall_score(y_test_new_dataset, y_predict_res),2))\n",
    "print('accuracy:',round(accuracy_score(y_test_new_dataset, y_predict_res),2))"
   ]
  },
  {
   "cell_type": "code",
   "execution_count": 75,
   "id": "2fe27e6f",
   "metadata": {},
   "outputs": [
    {
     "name": "stdout",
     "output_type": "stream",
     "text": [
      "Confusion matrix\n"
     ]
    },
    {
     "data": {
      "image/png": "[encoded data removed]",
      "text/plain": [
       "<Figure size 720x360 with 2 Axes>"
      ]
     },
     "metadata": {
      "needs_background": "light"
     },
     "output_type": "display_data"
    }
   ],
   "source": [
    "print('Confusion matrix')\n",
    "cm=confusion_matrix(y_test_new_dataset, y_predict_res)\n",
    "disp = ConfusionMatrixDisplay(confusion_matrix=cm)\n",
    "disp.plot()\n",
    "plt.show()"
   ]
  },
  {
   "cell_type": "markdown",
   "id": "95199502",
   "metadata": {},
   "source": [
    "We dont see the performance to be better than before resampling. Maybe smote is not the best way to create data, because it isnt creating real data."
   ]
  },
  {
   "cell_type": "markdown",
   "id": "8b1ee0ca-0d33-490c-9725-638fbd001f02",
   "metadata": {
    "id": "8b1ee0ca-0d33-490c-9725-638fbd001f02"
   },
   "source": [
    "## Optional: Developing a Linear Regressor class from scratch"
   ]
  },
  {
   "cell_type": "markdown",
   "id": "aa6d261c-5372-447d-afdf-820aaf3fef26",
   "metadata": {
    "id": "aa6d261c-5372-447d-afdf-820aaf3fef26"
   },
   "source": [
    "Our last task will be to code a Linear Regression algorithm using Gradient Descent as its optimization algorithm in Python. The structure of the class is presented below, you should use numpy for numerical computation."
   ]
  },
  {
   "cell_type": "markdown",
   "id": "8aebe22f-3a17-4404-a12f-918da6a26237",
   "metadata": {
    "id": "8aebe22f-3a17-4404-a12f-918da6a26237"
   },
   "source": [
    "3.1. Write a LinearRegression class that implements fit and predict methods, and uses gradient descent as optimization algorithm"
   ]
  },
  {
   "cell_type": "code",
   "execution_count": 76,
   "id": "b4326a55-6896-466d-9d60-3b2667e20de6",
   "metadata": {
    "id": "b4326a55-6896-466d-9d60-3b2667e20de6"
   },
   "outputs": [],
   "source": [
    "    \n",
    "class LinearRegressor:\n",
    "    \"\"\"Linear regression algorithm class. Implements gradient descent as optimization algorithm\"\"\"\n",
    "    \n",
    "    def __init__(self, epochs: int, learning_rate: float):\n",
    "        \"\"\"\n",
    "        Class constructor\n",
    "        \n",
    "        Parameters\n",
    "        ----------\n",
    "        epochs: int\n",
    "            number of epochs to run gradient descent\n",
    "        learning_rate: float\n",
    "            rate of update of the gradients\n",
    "        \"\"\"\n",
    "        self.epochs=epochs\n",
    "        self.learning_rate=learning_rate\n",
    "        self.weights = None\n",
    "        self.bias = None\n",
    "        \n",
    "\n",
    "    def _gradient_descent(self,X,y):\n",
    "        \"\"\"\n",
    "        Gradient descent algorithm\n",
    "        \n",
    "        Parameters\n",
    "        ----------\n",
    "        X: np.ndarray\n",
    "        y: np.ndarray\n",
    "        \"\"\"\n",
    "        # perform gradient descent for n epochs\n",
    "        for i in range(self.epochs):\n",
    "            # get y_prediction\n",
    "            y_pred = self.predict(X)\n",
    "            error = y_pred - y\n",
    "            \n",
    "            # compute the gradients of weight and bias\n",
    "            gradient_weights = (1 / self.n_samples) * np.dot(X.T, error)\n",
    "            gradient_bias = (1 / self.n_samples) * np.sum(error)\n",
    "            \n",
    "            # update weights and bias with gradients\n",
    "            self.weights -= self.learning_rate * gradient_weights\n",
    "            self.bias -= self.learning_rate * gradient_bias\n",
    "        \n",
    "\n",
    "    def fit(self, X, y):\n",
    "        \"\"\"\n",
    "        Fit the model according to the given training data.\n",
    "        \n",
    "        Parameters\n",
    "        ----------\n",
    "        X: np.ndarray\n",
    "        y: np.ndarray\n",
    "        \"\"\"\n",
    "        # get number of samples and features\n",
    "        self.n_samples, self.n_features = X.shape\n",
    "        # init weights and bias randomly\n",
    "        self.weights = np.random.rand(self.n_features)\n",
    "        self.bias = np.random.rand(1)\n",
    "        # perform gradient descent\n",
    "        self._gradient_descent(X,y)\n",
    "             \n",
    "    def predict(self, X):\n",
    "        \"\"\"\n",
    "        Predict\n",
    "        \n",
    "        Parameters\n",
    "        ----------\n",
    "        X: np.ndarray\n",
    "        \n",
    "        Returns\n",
    "        -------\n",
    "        np.ndarray\n",
    "            array with predictions\n",
    "        \"\"\"\n",
    "        y_pred = np.dot(X, self.weights) + self.bias\n",
    "        return y_pred"
   ]
  },
  {
   "cell_type": "markdown",
   "id": "ac25e809-7bdf-4dfa-896a-bc4cb8964f94",
   "metadata": {
    "id": "ac25e809-7bdf-4dfa-896a-bc4cb8964f94"
   },
   "source": [
    "3.2. Train a regression model with the data from the first section to calculate players salaries using points per game. Try with a few different values (3 or 4 for each should suffice) for epochs and learning rate parameters, calculate MAE for all results and save the best result along with the parameters values used."
   ]
  },
  {
   "cell_type": "code",
   "execution_count": 77,
   "id": "de1c2fe9-e67a-4399-95a1-81cbed3ada45",
   "metadata": {
    "id": "de1c2fe9-e67a-4399-95a1-81cbed3ada45"
   },
   "outputs": [],
   "source": [
    "X= data.PTS\n",
    "y=data.Salary\n",
    "X_train, X_test, y_train, y_test = train_test_split(X, y, test_size=0.3, random_state=42)\n",
    "\n",
    "scaler = StandardScaler()\n",
    "X_train = scaler.fit_transform(np.array(X_train).reshape(-1, 1))\n",
    "X_test = scaler.transform(np.array(X_test).reshape(-1, 1))"
   ]
  },
  {
   "cell_type": "code",
   "execution_count": 78,
   "id": "f1bc7c58",
   "metadata": {},
   "outputs": [],
   "source": [
    "def search_best_hyperparameters_customized_linreg(epochs, learning_rate):\n",
    "    '''\n",
    "    This function searchs the best model hyperparameters (epochs, learning_rate) based on Mean Absolute Error of the\n",
    "    customized linear regresion.\n",
    "    Display the result in a dict.\n",
    "    '''\n",
    "    \n",
    "    \n",
    "    mae_list=[]\n",
    "    hyp_epochs_list=[]\n",
    "    hyp_learning_rate_list=[]\n",
    "    for hyp_epochs in epochs:\n",
    "        for hyp_learning_rate in learning_rate:\n",
    "            model = LinearRegressor(epochs=hyp_epochs,learning_rate=hyp_learning_rate)\n",
    "            model.fit(X_train,y_train)\n",
    "            y_predict_customized_linreg= model.predict(X_test)\n",
    "            mae=round(mean_absolute_error(y_test,y_predict_customized_linreg))\n",
    "            mae_list.append(mae)\n",
    "            hyp_epochs_list.append(hyp_epochs)\n",
    "            hyp_learning_rate_list.append(hyp_learning_rate)\n",
    "            \n",
    "\n",
    "    array_mae=np.array(mae_list)\n",
    "\n",
    "    \n",
    "    result = {\n",
    "        \"hyperparameters\": {\"epochs\": hyp_epochs_list[np.argmin(array_mae)], \n",
    "                            \"learning_rate\": hyp_learning_rate_list[np.argmin(array_mae)]}, \n",
    "        \"mae\": array_mae.min()\n",
    "    }\n",
    "    return result"
   ]
  },
  {
   "cell_type": "code",
   "execution_count": 79,
   "id": "18cfb00d",
   "metadata": {},
   "outputs": [
    {
     "name": "stdout",
     "output_type": "stream",
     "text": [
      "{'hyperparameters': {'epochs': 5, 'learning_rate': 0.5}, 'mae': 4625452}\n"
     ]
    }
   ],
   "source": [
    "epochs = [5,10,100,500,1000,5000]\n",
    "learning_rate = [0.0001, 0.001, 0.01, 0.1, 0.5]\n",
    "\n",
    "result = search_best_hyperparameters_customized_linreg(epochs, learning_rate)\n",
    "\n",
    "print(result)"
   ]
  },
  {
   "cell_type": "code",
   "execution_count": 80,
   "id": "39697abb",
   "metadata": {},
   "outputs": [],
   "source": [
    "linreg = LinearRegressor(learning_rate=result['hyperparameters']['learning_rate'], \n",
    "                         epochs=result['hyperparameters']['epochs'])\n",
    "linreg.fit(X_train, y_train)\n"
   ]
  },
  {
   "cell_type": "markdown",
   "id": "ea78cfff-1216-486f-bd1e-7e42127c029d",
   "metadata": {
    "id": "ea78cfff-1216-486f-bd1e-7e42127c029d"
   },
   "source": [
    "3.3. Evaluate the model performance on the test set, and compare with the result you obtained using SGDRegressor from scikit-learn."
   ]
  },
  {
   "cell_type": "code",
   "execution_count": 81,
   "id": "bc2270e6",
   "metadata": {},
   "outputs": [
    {
     "name": "stdout",
     "output_type": "stream",
     "text": [
      "Mean Absolute Error for each model:\n",
      "Best SGDRegressor from sklearn: 4550421\n",
      "Best customized Linear Regressor: 4625452\n"
     ]
    }
   ],
   "source": [
    "# make prediction\n",
    "y_predict = linreg.predict(X_test)\n",
    "mae_customized_linear_regressor=round(mean_absolute_error(y_test,y_predict))\n",
    "print(\"Mean Absolute Error for each model:\")\n",
    "print(f\"Best SGDRegressor from sklearn: {best_mae}\")\n",
    "print(f\"Best customized Linear Regressor: {mae_customized_linear_regressor}\")\n"
   ]
  }
 ],
 "metadata": {
  "colab": {
   "name": "Copy of AnyoneAI - Project 2.ipynb",
   "provenance": []
  },
  "kernelspec": {
   "display_name": "Python 3",
   "language": "python",
   "name": "python3"
  },
  "language_info": {
   "codemirror_mode": {
    "name": "ipython",
    "version": 3
   },
   "file_extension": ".py",
   "mimetype": "text/x-python",
   "name": "python",
   "nbconvert_exporter": "python",
   "pygments_lexer": "ipython3",
   "version": "3.8.8"
  }
 },
 "nbformat": 4,
 "nbformat_minor": 5
}
